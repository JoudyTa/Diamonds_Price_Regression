{
  "nbformat": 4,
  "nbformat_minor": 0,
  "metadata": {
    "colab": {
      "provenance": [],
      "collapsed_sections": [
        "cFUJoob_2Nws",
        "w3V90tKGCBiq",
        "xdwrMtulZVgd",
        "dJvBo8QchDko",
        "3xLiTlG-kDtO",
        "AbKwmbd0pdRB",
        "RPKwMN7z3j4T"
      ]
    },
    "kernelspec": {
      "name": "python3",
      "display_name": "Python 3"
    },
    "language_info": {
      "name": "python"
    }
  },
  "cells": [
    {
      "cell_type": "markdown",
      "source": [
        "# Data Analysis\n",
        "\n",
        "\n",
        "\n"
      ],
      "metadata": {
        "id": "cFUJoob_2Nws"
      }
    },
    {
      "cell_type": "code",
      "source": [
        "#@title Import Libraries that we need.\n",
        "import sklearn\n",
        "import pandas as pd \n",
        "import numpy as np\n",
        "import seaborn as sns\n",
        "import matplotlib as mpl\n",
        "import matplotlib.pyplot as plt\n",
        "import matplotlib.pylab as pylab\n",
        "from sklearn.linear_model import LinearRegression\n",
        "from sklearn.tree import DecisionTreeRegressor \n",
        "from sklearn.ensemble import RandomForestRegressor\n",
        "from sklearn.model_selection import RandomizedSearchCV\n",
        "from sklearn.neighbors import KNeighborsRegressor\n",
        "from xgboost import XGBRegressor\n",
        "from sklearn.metrics import mean_squared_error\n",
        "from sklearn.metrics import mean_absolute_error\n",
        "from sklearn.model_selection import cross_val_score\n",
        "from sklearn.preprocessing import OneHotEncoder\n",
        "from sklearn.compose import ColumnTransformer"
      ],
      "metadata": {
        "id": "9To6Q5Cd4DQq"
      },
      "execution_count": null,
      "outputs": []
    },
    {
      "cell_type": "code",
      "source": [
        "#@title Get the dataset.\n",
        "train_data= pd.read_csv(\"train.csv\")\n",
        "#test  = pd.read_csv(\"test.csv\")"
      ],
      "metadata": {
        "id": "Tho2PFA_4EDz"
      },
      "execution_count": null,
      "outputs": []
    },
    {
      "cell_type": "code",
      "source": [
        "#split diamond data into data & labels\n",
        "from sklearn.model_selection import train_test_split\n",
        "train ,test= train_test_split(train_data,test_size= 0.2,random_state = 42 )"
      ],
      "metadata": {
        "id": "6dCtuIjDjr9Z"
      },
      "execution_count": null,
      "outputs": []
    },
    {
      "cell_type": "code",
      "source": [],
      "metadata": {
        "id": "Vy9zJavZkLgg"
      },
      "execution_count": null,
      "outputs": []
    },
    {
      "cell_type": "code",
      "source": [
        "train.head()"
      ],
      "metadata": {
        "colab": {
          "base_uri": "https://localhost:8080/",
          "height": 206
        },
        "id": "uWQ1_HmE6Kwi",
        "outputId": "82eaa887-f0d2-41ff-bd80-a0ab22385189"
      },
      "execution_count": null,
      "outputs": [
        {
          "output_type": "execute_result",
          "data": {
            "text/plain": [
              "          Id  carat      cut color clarity  depth  table  price     x     y  \\\n",
              "21805  21806   1.55  Premium     J     VS1   62.6   59.0   8749  7.40  7.35   \n",
              "22939  22940   1.04  Premium     G      I1   62.2   58.0   2801  6.46  6.41   \n",
              "33888  33889   1.22  Premium     G     VS2   61.8   58.0   8362  6.91  6.84   \n",
              "35779  35780   0.51    Ideal     H      IF   62.6   56.0   1920  5.10  5.13   \n",
              "20589  20590   0.41    Ideal     E     SI1   62.1   54.0    969  4.81  4.76   \n",
              "\n",
              "          z  \n",
              "21805  4.62  \n",
              "22939  4.00  \n",
              "33888  4.25  \n",
              "35779  3.20  \n",
              "20589  2.97  "
            ],
            "text/html": [
              "\n",
              "  <div id=\"df-7fe3832f-ddc5-4430-8f94-c6697f3ce02e\">\n",
              "    <div class=\"colab-df-container\">\n",
              "      <div>\n",
              "<style scoped>\n",
              "    .dataframe tbody tr th:only-of-type {\n",
              "        vertical-align: middle;\n",
              "    }\n",
              "\n",
              "    .dataframe tbody tr th {\n",
              "        vertical-align: top;\n",
              "    }\n",
              "\n",
              "    .dataframe thead th {\n",
              "        text-align: right;\n",
              "    }\n",
              "</style>\n",
              "<table border=\"1\" class=\"dataframe\">\n",
              "  <thead>\n",
              "    <tr style=\"text-align: right;\">\n",
              "      <th></th>\n",
              "      <th>Id</th>\n",
              "      <th>carat</th>\n",
              "      <th>cut</th>\n",
              "      <th>color</th>\n",
              "      <th>clarity</th>\n",
              "      <th>depth</th>\n",
              "      <th>table</th>\n",
              "      <th>price</th>\n",
              "      <th>x</th>\n",
              "      <th>y</th>\n",
              "      <th>z</th>\n",
              "    </tr>\n",
              "  </thead>\n",
              "  <tbody>\n",
              "    <tr>\n",
              "      <th>21805</th>\n",
              "      <td>21806</td>\n",
              "      <td>1.55</td>\n",
              "      <td>Premium</td>\n",
              "      <td>J</td>\n",
              "      <td>VS1</td>\n",
              "      <td>62.6</td>\n",
              "      <td>59.0</td>\n",
              "      <td>8749</td>\n",
              "      <td>7.40</td>\n",
              "      <td>7.35</td>\n",
              "      <td>4.62</td>\n",
              "    </tr>\n",
              "    <tr>\n",
              "      <th>22939</th>\n",
              "      <td>22940</td>\n",
              "      <td>1.04</td>\n",
              "      <td>Premium</td>\n",
              "      <td>G</td>\n",
              "      <td>I1</td>\n",
              "      <td>62.2</td>\n",
              "      <td>58.0</td>\n",
              "      <td>2801</td>\n",
              "      <td>6.46</td>\n",
              "      <td>6.41</td>\n",
              "      <td>4.00</td>\n",
              "    </tr>\n",
              "    <tr>\n",
              "      <th>33888</th>\n",
              "      <td>33889</td>\n",
              "      <td>1.22</td>\n",
              "      <td>Premium</td>\n",
              "      <td>G</td>\n",
              "      <td>VS2</td>\n",
              "      <td>61.8</td>\n",
              "      <td>58.0</td>\n",
              "      <td>8362</td>\n",
              "      <td>6.91</td>\n",
              "      <td>6.84</td>\n",
              "      <td>4.25</td>\n",
              "    </tr>\n",
              "    <tr>\n",
              "      <th>35779</th>\n",
              "      <td>35780</td>\n",
              "      <td>0.51</td>\n",
              "      <td>Ideal</td>\n",
              "      <td>H</td>\n",
              "      <td>IF</td>\n",
              "      <td>62.6</td>\n",
              "      <td>56.0</td>\n",
              "      <td>1920</td>\n",
              "      <td>5.10</td>\n",
              "      <td>5.13</td>\n",
              "      <td>3.20</td>\n",
              "    </tr>\n",
              "    <tr>\n",
              "      <th>20589</th>\n",
              "      <td>20590</td>\n",
              "      <td>0.41</td>\n",
              "      <td>Ideal</td>\n",
              "      <td>E</td>\n",
              "      <td>SI1</td>\n",
              "      <td>62.1</td>\n",
              "      <td>54.0</td>\n",
              "      <td>969</td>\n",
              "      <td>4.81</td>\n",
              "      <td>4.76</td>\n",
              "      <td>2.97</td>\n",
              "    </tr>\n",
              "  </tbody>\n",
              "</table>\n",
              "</div>\n",
              "      <button class=\"colab-df-convert\" onclick=\"convertToInteractive('df-7fe3832f-ddc5-4430-8f94-c6697f3ce02e')\"\n",
              "              title=\"Convert this dataframe to an interactive table.\"\n",
              "              style=\"display:none;\">\n",
              "        \n",
              "  <svg xmlns=\"http://www.w3.org/2000/svg\" height=\"24px\"viewBox=\"0 0 24 24\"\n",
              "       width=\"24px\">\n",
              "    <path d=\"M0 0h24v24H0V0z\" fill=\"none\"/>\n",
              "    <path d=\"M18.56 5.44l.94 2.06.94-2.06 2.06-.94-2.06-.94-.94-2.06-.94 2.06-2.06.94zm-11 1L8.5 8.5l.94-2.06 2.06-.94-2.06-.94L8.5 2.5l-.94 2.06-2.06.94zm10 10l.94 2.06.94-2.06 2.06-.94-2.06-.94-.94-2.06-.94 2.06-2.06.94z\"/><path d=\"M17.41 7.96l-1.37-1.37c-.4-.4-.92-.59-1.43-.59-.52 0-1.04.2-1.43.59L10.3 9.45l-7.72 7.72c-.78.78-.78 2.05 0 2.83L4 21.41c.39.39.9.59 1.41.59.51 0 1.02-.2 1.41-.59l7.78-7.78 2.81-2.81c.8-.78.8-2.07 0-2.86zM5.41 20L4 18.59l7.72-7.72 1.47 1.35L5.41 20z\"/>\n",
              "  </svg>\n",
              "      </button>\n",
              "      \n",
              "  <style>\n",
              "    .colab-df-container {\n",
              "      display:flex;\n",
              "      flex-wrap:wrap;\n",
              "      gap: 12px;\n",
              "    }\n",
              "\n",
              "    .colab-df-convert {\n",
              "      background-color: #E8F0FE;\n",
              "      border: none;\n",
              "      border-radius: 50%;\n",
              "      cursor: pointer;\n",
              "      display: none;\n",
              "      fill: #1967D2;\n",
              "      height: 32px;\n",
              "      padding: 0 0 0 0;\n",
              "      width: 32px;\n",
              "    }\n",
              "\n",
              "    .colab-df-convert:hover {\n",
              "      background-color: #E2EBFA;\n",
              "      box-shadow: 0px 1px 2px rgba(60, 64, 67, 0.3), 0px 1px 3px 1px rgba(60, 64, 67, 0.15);\n",
              "      fill: #174EA6;\n",
              "    }\n",
              "\n",
              "    [theme=dark] .colab-df-convert {\n",
              "      background-color: #3B4455;\n",
              "      fill: #D2E3FC;\n",
              "    }\n",
              "\n",
              "    [theme=dark] .colab-df-convert:hover {\n",
              "      background-color: #434B5C;\n",
              "      box-shadow: 0px 1px 3px 1px rgba(0, 0, 0, 0.15);\n",
              "      filter: drop-shadow(0px 1px 2px rgba(0, 0, 0, 0.3));\n",
              "      fill: #FFFFFF;\n",
              "    }\n",
              "  </style>\n",
              "\n",
              "      <script>\n",
              "        const buttonEl =\n",
              "          document.querySelector('#df-7fe3832f-ddc5-4430-8f94-c6697f3ce02e button.colab-df-convert');\n",
              "        buttonEl.style.display =\n",
              "          google.colab.kernel.accessAllowed ? 'block' : 'none';\n",
              "\n",
              "        async function convertToInteractive(key) {\n",
              "          const element = document.querySelector('#df-7fe3832f-ddc5-4430-8f94-c6697f3ce02e');\n",
              "          const dataTable =\n",
              "            await google.colab.kernel.invokeFunction('convertToInteractive',\n",
              "                                                     [key], {});\n",
              "          if (!dataTable) return;\n",
              "\n",
              "          const docLinkHtml = 'Like what you see? Visit the ' +\n",
              "            '<a target=\"_blank\" href=https://colab.research.google.com/notebooks/data_table.ipynb>data table notebook</a>'\n",
              "            + ' to learn more about interactive tables.';\n",
              "          element.innerHTML = '';\n",
              "          dataTable['output_type'] = 'display_data';\n",
              "          await google.colab.output.renderOutput(dataTable, element);\n",
              "          const docLink = document.createElement('div');\n",
              "          docLink.innerHTML = docLinkHtml;\n",
              "          element.appendChild(docLink);\n",
              "        }\n",
              "      </script>\n",
              "    </div>\n",
              "  </div>\n",
              "  "
            ]
          },
          "metadata": {},
          "execution_count": 10
        }
      ]
    },
    {
      "cell_type": "code",
      "source": [
        "test.head()"
      ],
      "metadata": {
        "colab": {
          "base_uri": "https://localhost:8080/",
          "height": 206
        },
        "id": "wn-SisMjJlQC",
        "outputId": "44b0b5dc-4ece-4b95-9318-5a5df4acb04d"
      },
      "execution_count": null,
      "outputs": [
        {
          "output_type": "execute_result",
          "data": {
            "text/plain": [
              "          Id  carat      cut color clarity  depth  table  price     x     y  \\\n",
              "14768  14769   2.02    Ideal     J     SI1   59.8   60.0  12713  8.21  8.16   \n",
              "33287  33288   1.50  Premium     G     VS1   60.2   58.0  13720  7.41  7.38   \n",
              "2181    2182   1.04  Premium     E     VS2   61.1   59.0   7175  6.56  6.54   \n",
              "27850  27851   0.30  Premium     E     VS2   62.5   58.0    844  4.31  4.26   \n",
              "13752  13753   1.03  Premium     I     SI1   62.0   58.0   4326  6.47  6.43   \n",
              "\n",
              "          z  \n",
              "14768  4.90  \n",
              "33287  4.45  \n",
              "2181   4.00  \n",
              "27850  2.68  \n",
              "13752  4.00  "
            ],
            "text/html": [
              "\n",
              "  <div id=\"df-1068f1d6-8195-4e29-9003-c253e3d21102\">\n",
              "    <div class=\"colab-df-container\">\n",
              "      <div>\n",
              "<style scoped>\n",
              "    .dataframe tbody tr th:only-of-type {\n",
              "        vertical-align: middle;\n",
              "    }\n",
              "\n",
              "    .dataframe tbody tr th {\n",
              "        vertical-align: top;\n",
              "    }\n",
              "\n",
              "    .dataframe thead th {\n",
              "        text-align: right;\n",
              "    }\n",
              "</style>\n",
              "<table border=\"1\" class=\"dataframe\">\n",
              "  <thead>\n",
              "    <tr style=\"text-align: right;\">\n",
              "      <th></th>\n",
              "      <th>Id</th>\n",
              "      <th>carat</th>\n",
              "      <th>cut</th>\n",
              "      <th>color</th>\n",
              "      <th>clarity</th>\n",
              "      <th>depth</th>\n",
              "      <th>table</th>\n",
              "      <th>price</th>\n",
              "      <th>x</th>\n",
              "      <th>y</th>\n",
              "      <th>z</th>\n",
              "    </tr>\n",
              "  </thead>\n",
              "  <tbody>\n",
              "    <tr>\n",
              "      <th>14768</th>\n",
              "      <td>14769</td>\n",
              "      <td>2.02</td>\n",
              "      <td>Ideal</td>\n",
              "      <td>J</td>\n",
              "      <td>SI1</td>\n",
              "      <td>59.8</td>\n",
              "      <td>60.0</td>\n",
              "      <td>12713</td>\n",
              "      <td>8.21</td>\n",
              "      <td>8.16</td>\n",
              "      <td>4.90</td>\n",
              "    </tr>\n",
              "    <tr>\n",
              "      <th>33287</th>\n",
              "      <td>33288</td>\n",
              "      <td>1.50</td>\n",
              "      <td>Premium</td>\n",
              "      <td>G</td>\n",
              "      <td>VS1</td>\n",
              "      <td>60.2</td>\n",
              "      <td>58.0</td>\n",
              "      <td>13720</td>\n",
              "      <td>7.41</td>\n",
              "      <td>7.38</td>\n",
              "      <td>4.45</td>\n",
              "    </tr>\n",
              "    <tr>\n",
              "      <th>2181</th>\n",
              "      <td>2182</td>\n",
              "      <td>1.04</td>\n",
              "      <td>Premium</td>\n",
              "      <td>E</td>\n",
              "      <td>VS2</td>\n",
              "      <td>61.1</td>\n",
              "      <td>59.0</td>\n",
              "      <td>7175</td>\n",
              "      <td>6.56</td>\n",
              "      <td>6.54</td>\n",
              "      <td>4.00</td>\n",
              "    </tr>\n",
              "    <tr>\n",
              "      <th>27850</th>\n",
              "      <td>27851</td>\n",
              "      <td>0.30</td>\n",
              "      <td>Premium</td>\n",
              "      <td>E</td>\n",
              "      <td>VS2</td>\n",
              "      <td>62.5</td>\n",
              "      <td>58.0</td>\n",
              "      <td>844</td>\n",
              "      <td>4.31</td>\n",
              "      <td>4.26</td>\n",
              "      <td>2.68</td>\n",
              "    </tr>\n",
              "    <tr>\n",
              "      <th>13752</th>\n",
              "      <td>13753</td>\n",
              "      <td>1.03</td>\n",
              "      <td>Premium</td>\n",
              "      <td>I</td>\n",
              "      <td>SI1</td>\n",
              "      <td>62.0</td>\n",
              "      <td>58.0</td>\n",
              "      <td>4326</td>\n",
              "      <td>6.47</td>\n",
              "      <td>6.43</td>\n",
              "      <td>4.00</td>\n",
              "    </tr>\n",
              "  </tbody>\n",
              "</table>\n",
              "</div>\n",
              "      <button class=\"colab-df-convert\" onclick=\"convertToInteractive('df-1068f1d6-8195-4e29-9003-c253e3d21102')\"\n",
              "              title=\"Convert this dataframe to an interactive table.\"\n",
              "              style=\"display:none;\">\n",
              "        \n",
              "  <svg xmlns=\"http://www.w3.org/2000/svg\" height=\"24px\"viewBox=\"0 0 24 24\"\n",
              "       width=\"24px\">\n",
              "    <path d=\"M0 0h24v24H0V0z\" fill=\"none\"/>\n",
              "    <path d=\"M18.56 5.44l.94 2.06.94-2.06 2.06-.94-2.06-.94-.94-2.06-.94 2.06-2.06.94zm-11 1L8.5 8.5l.94-2.06 2.06-.94-2.06-.94L8.5 2.5l-.94 2.06-2.06.94zm10 10l.94 2.06.94-2.06 2.06-.94-2.06-.94-.94-2.06-.94 2.06-2.06.94z\"/><path d=\"M17.41 7.96l-1.37-1.37c-.4-.4-.92-.59-1.43-.59-.52 0-1.04.2-1.43.59L10.3 9.45l-7.72 7.72c-.78.78-.78 2.05 0 2.83L4 21.41c.39.39.9.59 1.41.59.51 0 1.02-.2 1.41-.59l7.78-7.78 2.81-2.81c.8-.78.8-2.07 0-2.86zM5.41 20L4 18.59l7.72-7.72 1.47 1.35L5.41 20z\"/>\n",
              "  </svg>\n",
              "      </button>\n",
              "      \n",
              "  <style>\n",
              "    .colab-df-container {\n",
              "      display:flex;\n",
              "      flex-wrap:wrap;\n",
              "      gap: 12px;\n",
              "    }\n",
              "\n",
              "    .colab-df-convert {\n",
              "      background-color: #E8F0FE;\n",
              "      border: none;\n",
              "      border-radius: 50%;\n",
              "      cursor: pointer;\n",
              "      display: none;\n",
              "      fill: #1967D2;\n",
              "      height: 32px;\n",
              "      padding: 0 0 0 0;\n",
              "      width: 32px;\n",
              "    }\n",
              "\n",
              "    .colab-df-convert:hover {\n",
              "      background-color: #E2EBFA;\n",
              "      box-shadow: 0px 1px 2px rgba(60, 64, 67, 0.3), 0px 1px 3px 1px rgba(60, 64, 67, 0.15);\n",
              "      fill: #174EA6;\n",
              "    }\n",
              "\n",
              "    [theme=dark] .colab-df-convert {\n",
              "      background-color: #3B4455;\n",
              "      fill: #D2E3FC;\n",
              "    }\n",
              "\n",
              "    [theme=dark] .colab-df-convert:hover {\n",
              "      background-color: #434B5C;\n",
              "      box-shadow: 0px 1px 3px 1px rgba(0, 0, 0, 0.15);\n",
              "      filter: drop-shadow(0px 1px 2px rgba(0, 0, 0, 0.3));\n",
              "      fill: #FFFFFF;\n",
              "    }\n",
              "  </style>\n",
              "\n",
              "      <script>\n",
              "        const buttonEl =\n",
              "          document.querySelector('#df-1068f1d6-8195-4e29-9003-c253e3d21102 button.colab-df-convert');\n",
              "        buttonEl.style.display =\n",
              "          google.colab.kernel.accessAllowed ? 'block' : 'none';\n",
              "\n",
              "        async function convertToInteractive(key) {\n",
              "          const element = document.querySelector('#df-1068f1d6-8195-4e29-9003-c253e3d21102');\n",
              "          const dataTable =\n",
              "            await google.colab.kernel.invokeFunction('convertToInteractive',\n",
              "                                                     [key], {});\n",
              "          if (!dataTable) return;\n",
              "\n",
              "          const docLinkHtml = 'Like what you see? Visit the ' +\n",
              "            '<a target=\"_blank\" href=https://colab.research.google.com/notebooks/data_table.ipynb>data table notebook</a>'\n",
              "            + ' to learn more about interactive tables.';\n",
              "          element.innerHTML = '';\n",
              "          dataTable['output_type'] = 'display_data';\n",
              "          await google.colab.output.renderOutput(dataTable, element);\n",
              "          const docLink = document.createElement('div');\n",
              "          docLink.innerHTML = docLinkHtml;\n",
              "          element.appendChild(docLink);\n",
              "        }\n",
              "      </script>\n",
              "    </div>\n",
              "  </div>\n",
              "  "
            ]
          },
          "metadata": {},
          "execution_count": 11
        }
      ]
    },
    {
      "cell_type": "code",
      "source": [
        "train.info()"
      ],
      "metadata": {
        "colab": {
          "base_uri": "https://localhost:8080/"
        },
        "id": "DIrwDptb6MF2",
        "outputId": "29289dc6-0151-4c3a-9a20-0997fb05c88d"
      },
      "execution_count": null,
      "outputs": [
        {
          "output_type": "stream",
          "name": "stdout",
          "text": [
            "<class 'pandas.core.frame.DataFrame'>\n",
            "Int64Index: 34521 entries, 21805 to 15795\n",
            "Data columns (total 11 columns):\n",
            " #   Column   Non-Null Count  Dtype  \n",
            "---  ------   --------------  -----  \n",
            " 0   Id       34521 non-null  int64  \n",
            " 1   carat    34521 non-null  float64\n",
            " 2   cut      34521 non-null  object \n",
            " 3   color    34521 non-null  object \n",
            " 4   clarity  34521 non-null  object \n",
            " 5   depth    34521 non-null  float64\n",
            " 6   table    34521 non-null  float64\n",
            " 7   price    34521 non-null  int64  \n",
            " 8   x        34521 non-null  float64\n",
            " 9   y        34521 non-null  float64\n",
            " 10  z        34521 non-null  float64\n",
            "dtypes: float64(6), int64(2), object(3)\n",
            "memory usage: 3.2+ MB\n"
          ]
        }
      ]
    },
    {
      "cell_type": "code",
      "source": [
        "train.describe()"
      ],
      "metadata": {
        "colab": {
          "base_uri": "https://localhost:8080/",
          "height": 300
        },
        "id": "HdAS02I06Y6e",
        "outputId": "15c05991-0d78-46dd-e3d9-39f2e13eff76"
      },
      "execution_count": null,
      "outputs": [
        {
          "output_type": "execute_result",
          "data": {
            "text/plain": [
              "                 Id         carat         depth         table         price  \\\n",
              "count  34521.000000  34521.000000  34521.000000  34521.000000  34521.000000   \n",
              "mean   21621.709771      0.797798     61.751221     57.466418   3931.306480   \n",
              "std    12444.427233      0.475239      1.435461      2.230899   3998.158239   \n",
              "min        3.000000      0.200000     43.000000     43.000000    326.000000   \n",
              "25%    10846.000000      0.400000     61.000000     56.000000    945.000000   \n",
              "50%    21637.000000      0.700000     61.800000     57.000000   2394.000000   \n",
              "75%    32438.000000      1.040000     62.500000     59.000000   5302.000000   \n",
              "max    43152.000000      5.010000     79.000000     95.000000  18803.000000   \n",
              "\n",
              "                  x             y             z  \n",
              "count  34521.000000  34521.000000  34521.000000  \n",
              "mean       5.729599      5.732268      3.537777  \n",
              "std        1.124250      1.124616      0.713282  \n",
              "min        0.000000      0.000000      0.000000  \n",
              "25%        4.710000      4.720000      2.910000  \n",
              "50%        5.690000      5.700000      3.520000  \n",
              "75%        6.540000      6.540000      4.040000  \n",
              "max       10.740000     31.800000     31.800000  "
            ],
            "text/html": [
              "\n",
              "  <div id=\"df-fcc659d0-1cbb-4a30-a265-7840c6727970\">\n",
              "    <div class=\"colab-df-container\">\n",
              "      <div>\n",
              "<style scoped>\n",
              "    .dataframe tbody tr th:only-of-type {\n",
              "        vertical-align: middle;\n",
              "    }\n",
              "\n",
              "    .dataframe tbody tr th {\n",
              "        vertical-align: top;\n",
              "    }\n",
              "\n",
              "    .dataframe thead th {\n",
              "        text-align: right;\n",
              "    }\n",
              "</style>\n",
              "<table border=\"1\" class=\"dataframe\">\n",
              "  <thead>\n",
              "    <tr style=\"text-align: right;\">\n",
              "      <th></th>\n",
              "      <th>Id</th>\n",
              "      <th>carat</th>\n",
              "      <th>depth</th>\n",
              "      <th>table</th>\n",
              "      <th>price</th>\n",
              "      <th>x</th>\n",
              "      <th>y</th>\n",
              "      <th>z</th>\n",
              "    </tr>\n",
              "  </thead>\n",
              "  <tbody>\n",
              "    <tr>\n",
              "      <th>count</th>\n",
              "      <td>34521.000000</td>\n",
              "      <td>34521.000000</td>\n",
              "      <td>34521.000000</td>\n",
              "      <td>34521.000000</td>\n",
              "      <td>34521.000000</td>\n",
              "      <td>34521.000000</td>\n",
              "      <td>34521.000000</td>\n",
              "      <td>34521.000000</td>\n",
              "    </tr>\n",
              "    <tr>\n",
              "      <th>mean</th>\n",
              "      <td>21621.709771</td>\n",
              "      <td>0.797798</td>\n",
              "      <td>61.751221</td>\n",
              "      <td>57.466418</td>\n",
              "      <td>3931.306480</td>\n",
              "      <td>5.729599</td>\n",
              "      <td>5.732268</td>\n",
              "      <td>3.537777</td>\n",
              "    </tr>\n",
              "    <tr>\n",
              "      <th>std</th>\n",
              "      <td>12444.427233</td>\n",
              "      <td>0.475239</td>\n",
              "      <td>1.435461</td>\n",
              "      <td>2.230899</td>\n",
              "      <td>3998.158239</td>\n",
              "      <td>1.124250</td>\n",
              "      <td>1.124616</td>\n",
              "      <td>0.713282</td>\n",
              "    </tr>\n",
              "    <tr>\n",
              "      <th>min</th>\n",
              "      <td>3.000000</td>\n",
              "      <td>0.200000</td>\n",
              "      <td>43.000000</td>\n",
              "      <td>43.000000</td>\n",
              "      <td>326.000000</td>\n",
              "      <td>0.000000</td>\n",
              "      <td>0.000000</td>\n",
              "      <td>0.000000</td>\n",
              "    </tr>\n",
              "    <tr>\n",
              "      <th>25%</th>\n",
              "      <td>10846.000000</td>\n",
              "      <td>0.400000</td>\n",
              "      <td>61.000000</td>\n",
              "      <td>56.000000</td>\n",
              "      <td>945.000000</td>\n",
              "      <td>4.710000</td>\n",
              "      <td>4.720000</td>\n",
              "      <td>2.910000</td>\n",
              "    </tr>\n",
              "    <tr>\n",
              "      <th>50%</th>\n",
              "      <td>21637.000000</td>\n",
              "      <td>0.700000</td>\n",
              "      <td>61.800000</td>\n",
              "      <td>57.000000</td>\n",
              "      <td>2394.000000</td>\n",
              "      <td>5.690000</td>\n",
              "      <td>5.700000</td>\n",
              "      <td>3.520000</td>\n",
              "    </tr>\n",
              "    <tr>\n",
              "      <th>75%</th>\n",
              "      <td>32438.000000</td>\n",
              "      <td>1.040000</td>\n",
              "      <td>62.500000</td>\n",
              "      <td>59.000000</td>\n",
              "      <td>5302.000000</td>\n",
              "      <td>6.540000</td>\n",
              "      <td>6.540000</td>\n",
              "      <td>4.040000</td>\n",
              "    </tr>\n",
              "    <tr>\n",
              "      <th>max</th>\n",
              "      <td>43152.000000</td>\n",
              "      <td>5.010000</td>\n",
              "      <td>79.000000</td>\n",
              "      <td>95.000000</td>\n",
              "      <td>18803.000000</td>\n",
              "      <td>10.740000</td>\n",
              "      <td>31.800000</td>\n",
              "      <td>31.800000</td>\n",
              "    </tr>\n",
              "  </tbody>\n",
              "</table>\n",
              "</div>\n",
              "      <button class=\"colab-df-convert\" onclick=\"convertToInteractive('df-fcc659d0-1cbb-4a30-a265-7840c6727970')\"\n",
              "              title=\"Convert this dataframe to an interactive table.\"\n",
              "              style=\"display:none;\">\n",
              "        \n",
              "  <svg xmlns=\"http://www.w3.org/2000/svg\" height=\"24px\"viewBox=\"0 0 24 24\"\n",
              "       width=\"24px\">\n",
              "    <path d=\"M0 0h24v24H0V0z\" fill=\"none\"/>\n",
              "    <path d=\"M18.56 5.44l.94 2.06.94-2.06 2.06-.94-2.06-.94-.94-2.06-.94 2.06-2.06.94zm-11 1L8.5 8.5l.94-2.06 2.06-.94-2.06-.94L8.5 2.5l-.94 2.06-2.06.94zm10 10l.94 2.06.94-2.06 2.06-.94-2.06-.94-.94-2.06-.94 2.06-2.06.94z\"/><path d=\"M17.41 7.96l-1.37-1.37c-.4-.4-.92-.59-1.43-.59-.52 0-1.04.2-1.43.59L10.3 9.45l-7.72 7.72c-.78.78-.78 2.05 0 2.83L4 21.41c.39.39.9.59 1.41.59.51 0 1.02-.2 1.41-.59l7.78-7.78 2.81-2.81c.8-.78.8-2.07 0-2.86zM5.41 20L4 18.59l7.72-7.72 1.47 1.35L5.41 20z\"/>\n",
              "  </svg>\n",
              "      </button>\n",
              "      \n",
              "  <style>\n",
              "    .colab-df-container {\n",
              "      display:flex;\n",
              "      flex-wrap:wrap;\n",
              "      gap: 12px;\n",
              "    }\n",
              "\n",
              "    .colab-df-convert {\n",
              "      background-color: #E8F0FE;\n",
              "      border: none;\n",
              "      border-radius: 50%;\n",
              "      cursor: pointer;\n",
              "      display: none;\n",
              "      fill: #1967D2;\n",
              "      height: 32px;\n",
              "      padding: 0 0 0 0;\n",
              "      width: 32px;\n",
              "    }\n",
              "\n",
              "    .colab-df-convert:hover {\n",
              "      background-color: #E2EBFA;\n",
              "      box-shadow: 0px 1px 2px rgba(60, 64, 67, 0.3), 0px 1px 3px 1px rgba(60, 64, 67, 0.15);\n",
              "      fill: #174EA6;\n",
              "    }\n",
              "\n",
              "    [theme=dark] .colab-df-convert {\n",
              "      background-color: #3B4455;\n",
              "      fill: #D2E3FC;\n",
              "    }\n",
              "\n",
              "    [theme=dark] .colab-df-convert:hover {\n",
              "      background-color: #434B5C;\n",
              "      box-shadow: 0px 1px 3px 1px rgba(0, 0, 0, 0.15);\n",
              "      filter: drop-shadow(0px 1px 2px rgba(0, 0, 0, 0.3));\n",
              "      fill: #FFFFFF;\n",
              "    }\n",
              "  </style>\n",
              "\n",
              "      <script>\n",
              "        const buttonEl =\n",
              "          document.querySelector('#df-fcc659d0-1cbb-4a30-a265-7840c6727970 button.colab-df-convert');\n",
              "        buttonEl.style.display =\n",
              "          google.colab.kernel.accessAllowed ? 'block' : 'none';\n",
              "\n",
              "        async function convertToInteractive(key) {\n",
              "          const element = document.querySelector('#df-fcc659d0-1cbb-4a30-a265-7840c6727970');\n",
              "          const dataTable =\n",
              "            await google.colab.kernel.invokeFunction('convertToInteractive',\n",
              "                                                     [key], {});\n",
              "          if (!dataTable) return;\n",
              "\n",
              "          const docLinkHtml = 'Like what you see? Visit the ' +\n",
              "            '<a target=\"_blank\" href=https://colab.research.google.com/notebooks/data_table.ipynb>data table notebook</a>'\n",
              "            + ' to learn more about interactive tables.';\n",
              "          element.innerHTML = '';\n",
              "          dataTable['output_type'] = 'display_data';\n",
              "          await google.colab.output.renderOutput(dataTable, element);\n",
              "          const docLink = document.createElement('div');\n",
              "          docLink.innerHTML = docLinkHtml;\n",
              "          element.appendChild(docLink);\n",
              "        }\n",
              "      </script>\n",
              "    </div>\n",
              "  </div>\n",
              "  "
            ]
          },
          "metadata": {},
          "execution_count": 13
        }
      ]
    },
    {
      "cell_type": "code",
      "source": [
        "train['cut'].value_counts()"
      ],
      "metadata": {
        "colab": {
          "base_uri": "https://localhost:8080/"
        },
        "id": "Wd9DkJ6T6bR4",
        "outputId": "7e38136a-185a-4b18-c135-f0a262ec1301"
      },
      "execution_count": null,
      "outputs": [
        {
          "output_type": "execute_result",
          "data": {
            "text/plain": [
              "Ideal        13691\n",
              "Premium       8835\n",
              "Very Good     7789\n",
              "Good          3156\n",
              "Fair          1050\n",
              "Name: cut, dtype: int64"
            ]
          },
          "metadata": {},
          "execution_count": 14
        }
      ]
    },
    {
      "cell_type": "code",
      "source": [
        "train[\"color\"].value_counts()"
      ],
      "metadata": {
        "colab": {
          "base_uri": "https://localhost:8080/"
        },
        "id": "RpiebIFQ_ora",
        "outputId": "d0cf2da2-9be0-41ee-9fe2-3d91e66b3067"
      },
      "execution_count": null,
      "outputs": [
        {
          "output_type": "execute_result",
          "data": {
            "text/plain": [
              "G    7216\n",
              "E    6299\n",
              "F    6093\n",
              "H    5329\n",
              "D    4350\n",
              "I    3388\n",
              "J    1846\n",
              "Name: color, dtype: int64"
            ]
          },
          "metadata": {},
          "execution_count": 15
        }
      ]
    },
    {
      "cell_type": "code",
      "source": [
        "train[\"clarity\"].value_counts()"
      ],
      "metadata": {
        "colab": {
          "base_uri": "https://localhost:8080/"
        },
        "id": "jIeUS7rC_tTK",
        "outputId": "ba9a32a7-0165-4408-906a-6d8caa79dff3"
      },
      "execution_count": null,
      "outputs": [
        {
          "output_type": "execute_result",
          "data": {
            "text/plain": [
              "SI1     8312\n",
              "VS2     7867\n",
              "SI2     5978\n",
              "VS1     5175\n",
              "VVS2    3215\n",
              "VVS1    2329\n",
              "IF      1152\n",
              "I1       493\n",
              "Name: clarity, dtype: int64"
            ]
          },
          "metadata": {},
          "execution_count": 16
        }
      ]
    },
    {
      "cell_type": "code",
      "source": [
        "# Plotting Histograms of Training Data\n",
        "train.hist(figsize = (15,10),bins = 50)\n",
        "plt.show()"
      ],
      "metadata": {
        "colab": {
          "base_uri": "https://localhost:8080/",
          "height": 853
        },
        "id": "HoQG3qdE7RfY",
        "outputId": "a647ca14-c3f1-43d5-8847-5bc9f8d143b9"
      },
      "execution_count": null,
      "outputs": [
        {
          "output_type": "display_data",
          "data": {
            "text/plain": [
              "<Figure size 1500x1000 with 9 Axes>"
            ],
            "image/png": "[encoded data removed]"
          },
          "metadata": {}
        }
      ]
    },
    {
      "cell_type": "code",
      "source": [
        "train.isnull().sum()"
      ],
      "metadata": {
        "colab": {
          "base_uri": "https://localhost:8080/"
        },
        "id": "4iSfZkjJ7cz2",
        "outputId": "f68a4a95-3cbc-4fd2-ddb0-de310b291be3"
      },
      "execution_count": null,
      "outputs": [
        {
          "output_type": "execute_result",
          "data": {
            "text/plain": [
              "Id         0\n",
              "carat      0\n",
              "cut        0\n",
              "color      0\n",
              "clarity    0\n",
              "depth      0\n",
              "table      0\n",
              "price      0\n",
              "x          0\n",
              "y          0\n",
              "z          0\n",
              "dtype: int64"
            ]
          },
          "metadata": {},
          "execution_count": 18
        }
      ]
    },
    {
      "cell_type": "code",
      "source": [
        "# Checking for duplicate records in the data\n",
        "dups = train.duplicated()\n",
        "print('Number of duplicate rows = %d' % (dups.sum()))\n",
        "print(train.shape)"
      ],
      "metadata": {
        "colab": {
          "base_uri": "https://localhost:8080/"
        },
        "id": "fvqeqncp_Gn-",
        "outputId": "7eb2a7b0-378a-424c-cbc8-c8833b944467"
      },
      "execution_count": null,
      "outputs": [
        {
          "output_type": "stream",
          "name": "stdout",
          "text": [
            "Number of duplicate rows = 0\n",
            "(34521, 11)\n"
          ]
        }
      ]
    },
    {
      "cell_type": "code",
      "source": [
        "print('Before',train.shape)\n",
        "train.drop_duplicates(inplace=True) \n",
        "print('After',train.shape)"
      ],
      "metadata": {
        "colab": {
          "base_uri": "https://localhost:8080/"
        },
        "id": "MFNWuItV_V2K",
        "outputId": "26e413df-35fd-4029-d662-27aafea4e847"
      },
      "execution_count": null,
      "outputs": [
        {
          "output_type": "stream",
          "name": "stdout",
          "text": [
            "Before (34521, 11)\n",
            "After (34521, 11)\n"
          ]
        }
      ]
    },
    {
      "cell_type": "code",
      "source": [
        "train[\"price\"] = train[\"price\"].astype(float)"
      ],
      "metadata": {
        "id": "F9dycfBo-vkl"
      },
      "execution_count": null,
      "outputs": []
    },
    {
      "cell_type": "code",
      "source": [
        "train.corr()"
      ],
      "metadata": {
        "colab": {
          "base_uri": "https://localhost:8080/",
          "height": 355
        },
        "id": "M-RBbxZ88nAa",
        "outputId": "ea8f5d72-c18a-4b5b-c195-92d9437fdb44"
      },
      "execution_count": null,
      "outputs": [
        {
          "output_type": "stream",
          "name": "stderr",
          "text": [
            "<ipython-input-22-0bc27f030cd9>:1: FutureWarning: The default value of numeric_only in DataFrame.corr is deprecated. In a future version, it will default to False. Select only valid columns or specify the value of numeric_only to silence this warning.\n",
            "  train.corr()\n"
          ]
        },
        {
          "output_type": "execute_result",
          "data": {
            "text/plain": [
              "             Id     carat     depth     table     price         x         y  \\\n",
              "Id     1.000000 -0.002709  0.002271 -0.006701 -0.004898 -0.004044 -0.002587   \n",
              "carat -0.002709  1.000000  0.027980  0.179536  0.921341  0.975090  0.966588   \n",
              "depth  0.002271  0.027980  1.000000 -0.306303 -0.010972 -0.025844 -0.028565   \n",
              "table -0.006701  0.179536 -0.306303  1.000000  0.126465  0.193843  0.185684   \n",
              "price -0.004898  0.921341 -0.010972  0.126465  1.000000  0.884537  0.879284   \n",
              "x     -0.004044  0.975090 -0.025844  0.193843  0.884537  1.000000  0.990018   \n",
              "y     -0.002587  0.966588 -0.028565  0.185684  0.879284  0.990018  1.000000   \n",
              "z     -0.004187  0.944079  0.093901  0.146656  0.852939  0.961552  0.954858   \n",
              "\n",
              "              z  \n",
              "Id    -0.004187  \n",
              "carat  0.944079  \n",
              "depth  0.093901  \n",
              "table  0.146656  \n",
              "price  0.852939  \n",
              "x      0.961552  \n",
              "y      0.954858  \n",
              "z      1.000000  "
            ],
            "text/html": [
              "\n",
              "  <div id=\"df-9d756b4a-7d4f-461d-98f0-c6710fd026ac\">\n",
              "    <div class=\"colab-df-container\">\n",
              "      <div>\n",
              "<style scoped>\n",
              "    .dataframe tbody tr th:only-of-type {\n",
              "        vertical-align: middle;\n",
              "    }\n",
              "\n",
              "    .dataframe tbody tr th {\n",
              "        vertical-align: top;\n",
              "    }\n",
              "\n",
              "    .dataframe thead th {\n",
              "        text-align: right;\n",
              "    }\n",
              "</style>\n",
              "<table border=\"1\" class=\"dataframe\">\n",
              "  <thead>\n",
              "    <tr style=\"text-align: right;\">\n",
              "      <th></th>\n",
              "      <th>Id</th>\n",
              "      <th>carat</th>\n",
              "      <th>depth</th>\n",
              "      <th>table</th>\n",
              "      <th>price</th>\n",
              "      <th>x</th>\n",
              "      <th>y</th>\n",
              "      <th>z</th>\n",
              "    </tr>\n",
              "  </thead>\n",
              "  <tbody>\n",
              "    <tr>\n",
              "      <th>Id</th>\n",
              "      <td>1.000000</td>\n",
              "      <td>-0.002709</td>\n",
              "      <td>0.002271</td>\n",
              "      <td>-0.006701</td>\n",
              "      <td>-0.004898</td>\n",
              "      <td>-0.004044</td>\n",
              "      <td>-0.002587</td>\n",
              "      <td>-0.004187</td>\n",
              "    </tr>\n",
              "    <tr>\n",
              "      <th>carat</th>\n",
              "      <td>-0.002709</td>\n",
              "      <td>1.000000</td>\n",
              "      <td>0.027980</td>\n",
              "      <td>0.179536</td>\n",
              "      <td>0.921341</td>\n",
              "      <td>0.975090</td>\n",
              "      <td>0.966588</td>\n",
              "      <td>0.944079</td>\n",
              "    </tr>\n",
              "    <tr>\n",
              "      <th>depth</th>\n",
              "      <td>0.002271</td>\n",
              "      <td>0.027980</td>\n",
              "      <td>1.000000</td>\n",
              "      <td>-0.306303</td>\n",
              "      <td>-0.010972</td>\n",
              "      <td>-0.025844</td>\n",
              "      <td>-0.028565</td>\n",
              "      <td>0.093901</td>\n",
              "    </tr>\n",
              "    <tr>\n",
              "      <th>table</th>\n",
              "      <td>-0.006701</td>\n",
              "      <td>0.179536</td>\n",
              "      <td>-0.306303</td>\n",
              "      <td>1.000000</td>\n",
              "      <td>0.126465</td>\n",
              "      <td>0.193843</td>\n",
              "      <td>0.185684</td>\n",
              "      <td>0.146656</td>\n",
              "    </tr>\n",
              "    <tr>\n",
              "      <th>price</th>\n",
              "      <td>-0.004898</td>\n",
              "      <td>0.921341</td>\n",
              "      <td>-0.010972</td>\n",
              "      <td>0.126465</td>\n",
              "      <td>1.000000</td>\n",
              "      <td>0.884537</td>\n",
              "      <td>0.879284</td>\n",
              "      <td>0.852939</td>\n",
              "    </tr>\n",
              "    <tr>\n",
              "      <th>x</th>\n",
              "      <td>-0.004044</td>\n",
              "      <td>0.975090</td>\n",
              "      <td>-0.025844</td>\n",
              "      <td>0.193843</td>\n",
              "      <td>0.884537</td>\n",
              "      <td>1.000000</td>\n",
              "      <td>0.990018</td>\n",
              "      <td>0.961552</td>\n",
              "    </tr>\n",
              "    <tr>\n",
              "      <th>y</th>\n",
              "      <td>-0.002587</td>\n",
              "      <td>0.966588</td>\n",
              "      <td>-0.028565</td>\n",
              "      <td>0.185684</td>\n",
              "      <td>0.879284</td>\n",
              "      <td>0.990018</td>\n",
              "      <td>1.000000</td>\n",
              "      <td>0.954858</td>\n",
              "    </tr>\n",
              "    <tr>\n",
              "      <th>z</th>\n",
              "      <td>-0.004187</td>\n",
              "      <td>0.944079</td>\n",
              "      <td>0.093901</td>\n",
              "      <td>0.146656</td>\n",
              "      <td>0.852939</td>\n",
              "      <td>0.961552</td>\n",
              "      <td>0.954858</td>\n",
              "      <td>1.000000</td>\n",
              "    </tr>\n",
              "  </tbody>\n",
              "</table>\n",
              "</div>\n",
              "      <button class=\"colab-df-convert\" onclick=\"convertToInteractive('df-9d756b4a-7d4f-461d-98f0-c6710fd026ac')\"\n",
              "              title=\"Convert this dataframe to an interactive table.\"\n",
              "              style=\"display:none;\">\n",
              "        \n",
              "  <svg xmlns=\"http://www.w3.org/2000/svg\" height=\"24px\"viewBox=\"0 0 24 24\"\n",
              "       width=\"24px\">\n",
              "    <path d=\"M0 0h24v24H0V0z\" fill=\"none\"/>\n",
              "    <path d=\"M18.56 5.44l.94 2.06.94-2.06 2.06-.94-2.06-.94-.94-2.06-.94 2.06-2.06.94zm-11 1L8.5 8.5l.94-2.06 2.06-.94-2.06-.94L8.5 2.5l-.94 2.06-2.06.94zm10 10l.94 2.06.94-2.06 2.06-.94-2.06-.94-.94-2.06-.94 2.06-2.06.94z\"/><path d=\"M17.41 7.96l-1.37-1.37c-.4-.4-.92-.59-1.43-.59-.52 0-1.04.2-1.43.59L10.3 9.45l-7.72 7.72c-.78.78-.78 2.05 0 2.83L4 21.41c.39.39.9.59 1.41.59.51 0 1.02-.2 1.41-.59l7.78-7.78 2.81-2.81c.8-.78.8-2.07 0-2.86zM5.41 20L4 18.59l7.72-7.72 1.47 1.35L5.41 20z\"/>\n",
              "  </svg>\n",
              "      </button>\n",
              "      \n",
              "  <style>\n",
              "    .colab-df-container {\n",
              "      display:flex;\n",
              "      flex-wrap:wrap;\n",
              "      gap: 12px;\n",
              "    }\n",
              "\n",
              "    .colab-df-convert {\n",
              "      background-color: #E8F0FE;\n",
              "      border: none;\n",
              "      border-radius: 50%;\n",
              "      cursor: pointer;\n",
              "      display: none;\n",
              "      fill: #1967D2;\n",
              "      height: 32px;\n",
              "      padding: 0 0 0 0;\n",
              "      width: 32px;\n",
              "    }\n",
              "\n",
              "    .colab-df-convert:hover {\n",
              "      background-color: #E2EBFA;\n",
              "      box-shadow: 0px 1px 2px rgba(60, 64, 67, 0.3), 0px 1px 3px 1px rgba(60, 64, 67, 0.15);\n",
              "      fill: #174EA6;\n",
              "    }\n",
              "\n",
              "    [theme=dark] .colab-df-convert {\n",
              "      background-color: #3B4455;\n",
              "      fill: #D2E3FC;\n",
              "    }\n",
              "\n",
              "    [theme=dark] .colab-df-convert:hover {\n",
              "      background-color: #434B5C;\n",
              "      box-shadow: 0px 1px 3px 1px rgba(0, 0, 0, 0.15);\n",
              "      filter: drop-shadow(0px 1px 2px rgba(0, 0, 0, 0.3));\n",
              "      fill: #FFFFFF;\n",
              "    }\n",
              "  </style>\n",
              "\n",
              "      <script>\n",
              "        const buttonEl =\n",
              "          document.querySelector('#df-9d756b4a-7d4f-461d-98f0-c6710fd026ac button.colab-df-convert');\n",
              "        buttonEl.style.display =\n",
              "          google.colab.kernel.accessAllowed ? 'block' : 'none';\n",
              "\n",
              "        async function convertToInteractive(key) {\n",
              "          const element = document.querySelector('#df-9d756b4a-7d4f-461d-98f0-c6710fd026ac');\n",
              "          const dataTable =\n",
              "            await google.colab.kernel.invokeFunction('convertToInteractive',\n",
              "                                                     [key], {});\n",
              "          if (!dataTable) return;\n",
              "\n",
              "          const docLinkHtml = 'Like what you see? Visit the ' +\n",
              "            '<a target=\"_blank\" href=https://colab.research.google.com/notebooks/data_table.ipynb>data table notebook</a>'\n",
              "            + ' to learn more about interactive tables.';\n",
              "          element.innerHTML = '';\n",
              "          dataTable['output_type'] = 'display_data';\n",
              "          await google.colab.output.renderOutput(dataTable, element);\n",
              "          const docLink = document.createElement('div');\n",
              "          docLink.innerHTML = docLinkHtml;\n",
              "          element.appendChild(docLink);\n",
              "        }\n",
              "      </script>\n",
              "    </div>\n",
              "  </div>\n",
              "  "
            ]
          },
          "metadata": {},
          "execution_count": 22
        }
      ]
    },
    {
      "cell_type": "code",
      "source": [
        "train['carat'].hist()"
      ],
      "metadata": {
        "colab": {
          "base_uri": "https://localhost:8080/",
          "height": 447
        },
        "id": "bu0gHoZl9H7k",
        "outputId": "181024a6-2c40-426e-ca90-cbcdf4aef9ea"
      },
      "execution_count": null,
      "outputs": [
        {
          "output_type": "execute_result",
          "data": {
            "text/plain": [
              "<Axes: >"
            ]
          },
          "metadata": {},
          "execution_count": 23
        },
        {
          "output_type": "display_data",
          "data": {
            "text/plain": [
              "<Figure size 640x480 with 1 Axes>"
            ],
            "image/png": "[encoded data removed]"
          },
          "metadata": {}
        }
      ]
    },
    {
      "cell_type": "code",
      "source": [
        "train['color'].hist()"
      ],
      "metadata": {
        "colab": {
          "base_uri": "https://localhost:8080/",
          "height": 447
        },
        "id": "TXhr3g19-ICe",
        "outputId": "46e80309-cd1f-47c9-9b83-38072fe96cb0"
      },
      "execution_count": null,
      "outputs": [
        {
          "output_type": "execute_result",
          "data": {
            "text/plain": [
              "<Axes: >"
            ]
          },
          "metadata": {},
          "execution_count": 24
        },
        {
          "output_type": "display_data",
          "data": {
            "text/plain": [
              "<Figure size 640x480 with 1 Axes>"
            ],
            "image/png": "[encoded data removed]"
          },
          "metadata": {}
        }
      ]
    },
    {
      "cell_type": "code",
      "source": [
        "# Univariate Visualization - Histogram of diamond prices\n",
        "plt.hist(train['price'], bins=30)\n",
        "plt.xlabel('Price')\n",
        "plt.ylabel('Frequency')\n",
        "plt.title('Distribution of Diamond Prices')\n",
        "plt.show()\n",
        "\n",
        "sns.distplot(train.price)"
      ],
      "metadata": {
        "colab": {
          "base_uri": "https://localhost:8080/",
          "height": 1000
        },
        "id": "Kp_aXVoN_RMR",
        "outputId": "e6362cbd-32ff-4cf8-f33d-5d264cb963a1"
      },
      "execution_count": null,
      "outputs": [
        {
          "output_type": "display_data",
          "data": {
            "text/plain": [
              "<Figure size 640x480 with 1 Axes>"
            ],
            "image/png": "[encoded data removed]"
          },
          "metadata": {}
        },
        {
          "output_type": "stream",
          "name": "stderr",
          "text": [
            "<ipython-input-25-70f5b20b1e14>:8: UserWarning: \n",
            "\n",
            "`distplot` is a deprecated function and will be removed in seaborn v0.14.0.\n",
            "\n",
            "Please adapt your code to use either `displot` (a figure-level function with\n",
            "similar flexibility) or `histplot` (an axes-level function for histograms).\n",
            "\n",
            "For a guide to updating your code to use the new functions, please see\n",
            "https://gist.github.com/mwaskom/de44147ed2974457ad6372750bbe5751\n",
            "\n",
            "  sns.distplot(train.price)\n"
          ]
        },
        {
          "output_type": "execute_result",
          "data": {
            "text/plain": [
              "<Axes: xlabel='price', ylabel='Density'>"
            ]
          },
          "metadata": {},
          "execution_count": 25
        },
        {
          "output_type": "display_data",
          "data": {
            "text/plain": [
              "<Figure size 640x480 with 1 Axes>"
            ],
            "image/png": "[encoded data removed]"
          },
          "metadata": {}
        }
      ]
    },
    {
      "cell_type": "code",
      "source": [
        "# Bivariate Visualization - Scatter plot of price vs. carat\n",
        "plt.scatter(train['carat'], train['price'])\n",
        "plt.xlabel('Carat')\n",
        "plt.ylabel('Price')\n",
        "plt.title('Price vs. Carat')\n",
        "plt.show()"
      ],
      "metadata": {
        "colab": {
          "base_uri": "https://localhost:8080/",
          "height": 472
        },
        "id": "MPWhbuIzBWF6",
        "outputId": "85feccd2-bfe4-41a4-b276-477fcc4a1d60"
      },
      "execution_count": null,
      "outputs": [
        {
          "output_type": "display_data",
          "data": {
            "text/plain": [
              "<Figure size 640x480 with 1 Axes>"
            ],
            "image/png": "[encoded data removed]"
          },
          "metadata": {}
        }
      ]
    },
    {
      "cell_type": "code",
      "source": [
        "# Bivariate Visualization - Box plot of price across different diamond cuts\n",
        "sns.boxplot(x=train['cut'], y=train['price'])\n",
        "plt.xlabel('Cut')\n",
        "plt.ylabel('Price')\n",
        "plt.title('Price Across Different Diamond Cuts')\n",
        "plt.show()"
      ],
      "metadata": {
        "colab": {
          "base_uri": "https://localhost:8080/",
          "height": 472
        },
        "id": "Wx5_gIMpBY9W",
        "outputId": "eca595cc-61aa-4dc3-f20a-c674d5dd6e1d"
      },
      "execution_count": null,
      "outputs": [
        {
          "output_type": "display_data",
          "data": {
            "text/plain": [
              "<Figure size 640x480 with 1 Axes>"
            ],
            "image/png": "[encoded data removed]"
          },
          "metadata": {}
        }
      ]
    },
    {
      "cell_type": "code",
      "source": [
        "# Multivariate Visualization - Pair plot of price, carat, and color\n",
        "sns.pairplot(train[['price', 'carat', 'color']])\n",
        "plt.show()"
      ],
      "metadata": {
        "colab": {
          "base_uri": "https://localhost:8080/",
          "height": 513
        },
        "id": "QNCH76irBdlM",
        "outputId": "027e92b6-d492-46f9-aa07-2e1bae36a2fb"
      },
      "execution_count": null,
      "outputs": [
        {
          "output_type": "display_data",
          "data": {
            "text/plain": [
              "<Figure size 500x500 with 6 Axes>"
            ],
            "image/png": "[encoded data removed]"
          },
          "metadata": {}
        }
      ]
    },
    {
      "cell_type": "code",
      "source": [
        "# Correlation Analysis - Heatmap\n",
        "correlation_matrix = train[['price', 'carat', 'cut', 'color']].corr()\n",
        "sns.heatmap(correlation_matrix, annot=True)\n",
        "plt.title('Correlation Matrix')\n",
        "plt.show()"
      ],
      "metadata": {
        "colab": {
          "base_uri": "https://localhost:8080/",
          "height": 507
        },
        "id": "rW5YaU8JBfGp",
        "outputId": "bbaaa081-7243-436d-cbd2-a472dac4ceef"
      },
      "execution_count": null,
      "outputs": [
        {
          "output_type": "stream",
          "name": "stderr",
          "text": [
            "<ipython-input-29-7f054e6a5584>:2: FutureWarning: The default value of numeric_only in DataFrame.corr is deprecated. In a future version, it will default to False. Select only valid columns or specify the value of numeric_only to silence this warning.\n",
            "  correlation_matrix = train[['price', 'carat', 'cut', 'color']].corr()\n"
          ]
        },
        {
          "output_type": "display_data",
          "data": {
            "text/plain": [
              "<Figure size 640x480 with 2 Axes>"
            ],
            "image/png": "[encoded data removed]"
          },
          "metadata": {}
        }
      ]
    },
    {
      "cell_type": "code",
      "source": [
        "corr_matrix = train.corr()\n",
        "corr_matrix[\"price\"].sort_values(ascending=False)"
      ],
      "metadata": {
        "colab": {
          "base_uri": "https://localhost:8080/"
        },
        "id": "44V-q5ONBpFs",
        "outputId": "e7cf6631-9805-4989-fa6f-1afc0850d34a"
      },
      "execution_count": null,
      "outputs": [
        {
          "output_type": "stream",
          "name": "stderr",
          "text": [
            "<ipython-input-30-53a47a06d5bc>:1: FutureWarning: The default value of numeric_only in DataFrame.corr is deprecated. In a future version, it will default to False. Select only valid columns or specify the value of numeric_only to silence this warning.\n",
            "  corr_matrix = train.corr()\n"
          ]
        },
        {
          "output_type": "execute_result",
          "data": {
            "text/plain": [
              "price    1.000000\n",
              "carat    0.921341\n",
              "x        0.884537\n",
              "y        0.879284\n",
              "z        0.852939\n",
              "table    0.126465\n",
              "Id      -0.004898\n",
              "depth   -0.010972\n",
              "Name: price, dtype: float64"
            ]
          },
          "metadata": {},
          "execution_count": 30
        }
      ]
    },
    {
      "cell_type": "code",
      "source": [
        "plt.figure(figsize=(14,10))\n",
        "sns.heatmap(corr_matrix, cmap='RdBu_r', annot=True, linewidths=0.5, center=0)"
      ],
      "metadata": {
        "colab": {
          "base_uri": "https://localhost:8080/",
          "height": 853
        },
        "id": "YVXNLGGtc-Qa",
        "outputId": "f19d4d6f-4cf5-4106-eab2-6f523f923b19"
      },
      "execution_count": null,
      "outputs": [
        {
          "output_type": "execute_result",
          "data": {
            "text/plain": [
              "<Axes: >"
            ]
          },
          "metadata": {},
          "execution_count": 31
        },
        {
          "output_type": "display_data",
          "data": {
            "text/plain": [
              "<Figure size 1400x1000 with 2 Axes>"
            ],
            "image/png": "[encoded data removed]"
          },
          "metadata": {}
        }
      ]
    },
    {
      "cell_type": "code",
      "source": [
        "# Printing the number of rows where the 'x' feature is equal to 0\n",
        "print(\"Number of rows with x == 0: {} \".format((train['x'] == 0).sum()))\n",
        "\n",
        "# Printing the number of rows where the 'y' feature is equal to 0\n",
        "print(\"Number of rows with y == 0: {} \".format((train['y'] == 0).sum()))\n",
        "\n",
        "# Printing the number of rows where the 'z' feature is equal to 0\n",
        "print(\"Number of rows with z == 0: {} \".format((train['z'] == 0).sum()))\n",
        "\n",
        "# Printing the number of rows where the 'depth' feature is equal to 0\n",
        "print(\"Number of rows with depth == 0: {} \".format((train['depth'] == 0).sum()))\n"
      ],
      "metadata": {
        "colab": {
          "base_uri": "https://localhost:8080/"
        },
        "id": "xAEkfBOrA357",
        "outputId": "c9d6bb0a-bc58-485a-fe0a-f34e07c35659"
      },
      "execution_count": null,
      "outputs": [
        {
          "output_type": "stream",
          "name": "stdout",
          "text": [
            "Number of rows with x == 0: 5 \n",
            "Number of rows with y == 0: 4 \n",
            "Number of rows with z == 0: 14 \n",
            "Number of rows with depth == 0: 0 \n"
          ]
        }
      ]
    },
    {
      "cell_type": "code",
      "source": [
        "# Dropping dimentionless diamonds\n",
        "train = train.drop(train[train[\"x\"]==0].index)\n",
        "train = train.drop(train[train[\"y\"]==0].index)\n",
        "train = train.drop(train[train[\"z\"]==0].index)\n",
        "train.shape"
      ],
      "metadata": {
        "colab": {
          "base_uri": "https://localhost:8080/"
        },
        "id": "3DfHDHthFmju",
        "outputId": "cd5f754e-818c-4a01-a6f3-2208fbff1a94"
      },
      "execution_count": null,
      "outputs": [
        {
          "output_type": "execute_result",
          "data": {
            "text/plain": [
              "(34507, 11)"
            ]
          },
          "metadata": {},
          "execution_count": 33
        }
      ]
    },
    {
      "cell_type": "code",
      "source": [
        "train.isna().sum()"
      ],
      "metadata": {
        "colab": {
          "base_uri": "https://localhost:8080/"
        },
        "id": "4GKXTgf8AJ-5",
        "outputId": "e7a078ba-6e35-4db4-ee23-1e78f195f751"
      },
      "execution_count": null,
      "outputs": [
        {
          "output_type": "execute_result",
          "data": {
            "text/plain": [
              "Id         0\n",
              "carat      0\n",
              "cut        0\n",
              "color      0\n",
              "clarity    0\n",
              "depth      0\n",
              "table      0\n",
              "price      0\n",
              "x          0\n",
              "y          0\n",
              "z          0\n",
              "dtype: int64"
            ]
          },
          "metadata": {},
          "execution_count": 34
        }
      ]
    },
    {
      "cell_type": "code",
      "source": [
        "sns.pairplot(train, hue=\"cut\")"
      ],
      "metadata": {
        "id": "-mPUyxkmFtHa"
      },
      "execution_count": null,
      "outputs": []
    },
    {
      "cell_type": "markdown",
      "source": [
        "# Features "
      ],
      "metadata": {
        "id": "o6dShnQYdIrx"
      }
    },
    {
      "cell_type": "code",
      "source": [
        "train['volume']= train.x * train.y * train.z\n",
        "train['carat_per_x'] = train['carat'] / train['x']\n",
        "train = train.drop(['x','y','z'], axis=1)"
      ],
      "metadata": {
        "id": "bfAnJHolGyjq"
      },
      "execution_count": null,
      "outputs": []
    },
    {
      "cell_type": "code",
      "source": [
        "train"
      ],
      "metadata": {
        "colab": {
          "base_uri": "https://localhost:8080/",
          "height": 423
        },
        "id": "t0xB5Es0Bbb2",
        "outputId": "dc459f15-e7fb-462e-8620-8c57c1bb9645"
      },
      "execution_count": null,
      "outputs": [
        {
          "output_type": "execute_result",
          "data": {
            "text/plain": [
              "          Id  carat        cut color clarity  depth  table   price  \\\n",
              "21805  21806   1.55    Premium     J     VS1   62.6   59.0  8749.0   \n",
              "22939  22940   1.04    Premium     G      I1   62.2   58.0  2801.0   \n",
              "33888  33889   1.22    Premium     G     VS2   61.8   58.0  8362.0   \n",
              "35779  35780   0.51      Ideal     H      IF   62.6   56.0  1920.0   \n",
              "20589  20590   0.41      Ideal     E     SI1   62.1   54.0   969.0   \n",
              "...      ...    ...        ...   ...     ...    ...    ...     ...   \n",
              "6265    6266   0.74  Very Good     G     SI1   63.5   60.0  2468.0   \n",
              "11284  11285   1.04  Very Good     G     VS2   61.9   57.0  6177.0   \n",
              "38158  38159   0.30    Premium     D     SI1   62.7   60.0   709.0   \n",
              "860      861   1.50      Ideal     I     SI1   59.4   60.0  8555.0   \n",
              "15795  15796   0.41      Ideal     G    VVS1   61.5   57.0  1123.0   \n",
              "\n",
              "           volume  carat_per_x  \n",
              "21805  251.281800     0.209459  \n",
              "22939  165.634400     0.160991  \n",
              "33888  200.873700     0.176556  \n",
              "35779   83.721600     0.100000  \n",
              "20589   67.999932     0.085239  \n",
              "...           ...          ...  \n",
              "6265   117.817968     0.129145  \n",
              "11284  168.379900     0.160991  \n",
              "38158   47.932668     0.070423  \n",
              "860    252.778500     0.198939  \n",
              "15795   68.109010     0.085595  \n",
              "\n",
              "[34507 rows x 10 columns]"
            ],
            "text/html": [
              "\n",
              "  <div id=\"df-9aef0751-305f-4e74-a857-7aa413e112cf\">\n",
              "    <div class=\"colab-df-container\">\n",
              "      <div>\n",
              "<style scoped>\n",
              "    .dataframe tbody tr th:only-of-type {\n",
              "        vertical-align: middle;\n",
              "    }\n",
              "\n",
              "    .dataframe tbody tr th {\n",
              "        vertical-align: top;\n",
              "    }\n",
              "\n",
              "    .dataframe thead th {\n",
              "        text-align: right;\n",
              "    }\n",
              "</style>\n",
              "<table border=\"1\" class=\"dataframe\">\n",
              "  <thead>\n",
              "    <tr style=\"text-align: right;\">\n",
              "      <th></th>\n",
              "      <th>Id</th>\n",
              "      <th>carat</th>\n",
              "      <th>cut</th>\n",
              "      <th>color</th>\n",
              "      <th>clarity</th>\n",
              "      <th>depth</th>\n",
              "      <th>table</th>\n",
              "      <th>price</th>\n",
              "      <th>volume</th>\n",
              "      <th>carat_per_x</th>\n",
              "    </tr>\n",
              "  </thead>\n",
              "  <tbody>\n",
              "    <tr>\n",
              "      <th>21805</th>\n",
              "      <td>21806</td>\n",
              "      <td>1.55</td>\n",
              "      <td>Premium</td>\n",
              "      <td>J</td>\n",
              "      <td>VS1</td>\n",
              "      <td>62.6</td>\n",
              "      <td>59.0</td>\n",
              "      <td>8749.0</td>\n",
              "      <td>251.281800</td>\n",
              "      <td>0.209459</td>\n",
              "    </tr>\n",
              "    <tr>\n",
              "      <th>22939</th>\n",
              "      <td>22940</td>\n",
              "      <td>1.04</td>\n",
              "      <td>Premium</td>\n",
              "      <td>G</td>\n",
              "      <td>I1</td>\n",
              "      <td>62.2</td>\n",
              "      <td>58.0</td>\n",
              "      <td>2801.0</td>\n",
              "      <td>165.634400</td>\n",
              "      <td>0.160991</td>\n",
              "    </tr>\n",
              "    <tr>\n",
              "      <th>33888</th>\n",
              "      <td>33889</td>\n",
              "      <td>1.22</td>\n",
              "      <td>Premium</td>\n",
              "      <td>G</td>\n",
              "      <td>VS2</td>\n",
              "      <td>61.8</td>\n",
              "      <td>58.0</td>\n",
              "      <td>8362.0</td>\n",
              "      <td>200.873700</td>\n",
              "      <td>0.176556</td>\n",
              "    </tr>\n",
              "    <tr>\n",
              "      <th>35779</th>\n",
              "      <td>35780</td>\n",
              "      <td>0.51</td>\n",
              "      <td>Ideal</td>\n",
              "      <td>H</td>\n",
              "      <td>IF</td>\n",
              "      <td>62.6</td>\n",
              "      <td>56.0</td>\n",
              "      <td>1920.0</td>\n",
              "      <td>83.721600</td>\n",
              "      <td>0.100000</td>\n",
              "    </tr>\n",
              "    <tr>\n",
              "      <th>20589</th>\n",
              "      <td>20590</td>\n",
              "      <td>0.41</td>\n",
              "      <td>Ideal</td>\n",
              "      <td>E</td>\n",
              "      <td>SI1</td>\n",
              "      <td>62.1</td>\n",
              "      <td>54.0</td>\n",
              "      <td>969.0</td>\n",
              "      <td>67.999932</td>\n",
              "      <td>0.085239</td>\n",
              "    </tr>\n",
              "    <tr>\n",
              "      <th>...</th>\n",
              "      <td>...</td>\n",
              "      <td>...</td>\n",
              "      <td>...</td>\n",
              "      <td>...</td>\n",
              "      <td>...</td>\n",
              "      <td>...</td>\n",
              "      <td>...</td>\n",
              "      <td>...</td>\n",
              "      <td>...</td>\n",
              "      <td>...</td>\n",
              "    </tr>\n",
              "    <tr>\n",
              "      <th>6265</th>\n",
              "      <td>6266</td>\n",
              "      <td>0.74</td>\n",
              "      <td>Very Good</td>\n",
              "      <td>G</td>\n",
              "      <td>SI1</td>\n",
              "      <td>63.5</td>\n",
              "      <td>60.0</td>\n",
              "      <td>2468.0</td>\n",
              "      <td>117.817968</td>\n",
              "      <td>0.129145</td>\n",
              "    </tr>\n",
              "    <tr>\n",
              "      <th>11284</th>\n",
              "      <td>11285</td>\n",
              "      <td>1.04</td>\n",
              "      <td>Very Good</td>\n",
              "      <td>G</td>\n",
              "      <td>VS2</td>\n",
              "      <td>61.9</td>\n",
              "      <td>57.0</td>\n",
              "      <td>6177.0</td>\n",
              "      <td>168.379900</td>\n",
              "      <td>0.160991</td>\n",
              "    </tr>\n",
              "    <tr>\n",
              "      <th>38158</th>\n",
              "      <td>38159</td>\n",
              "      <td>0.30</td>\n",
              "      <td>Premium</td>\n",
              "      <td>D</td>\n",
              "      <td>SI1</td>\n",
              "      <td>62.7</td>\n",
              "      <td>60.0</td>\n",
              "      <td>709.0</td>\n",
              "      <td>47.932668</td>\n",
              "      <td>0.070423</td>\n",
              "    </tr>\n",
              "    <tr>\n",
              "      <th>860</th>\n",
              "      <td>861</td>\n",
              "      <td>1.50</td>\n",
              "      <td>Ideal</td>\n",
              "      <td>I</td>\n",
              "      <td>SI1</td>\n",
              "      <td>59.4</td>\n",
              "      <td>60.0</td>\n",
              "      <td>8555.0</td>\n",
              "      <td>252.778500</td>\n",
              "      <td>0.198939</td>\n",
              "    </tr>\n",
              "    <tr>\n",
              "      <th>15795</th>\n",
              "      <td>15796</td>\n",
              "      <td>0.41</td>\n",
              "      <td>Ideal</td>\n",
              "      <td>G</td>\n",
              "      <td>VVS1</td>\n",
              "      <td>61.5</td>\n",
              "      <td>57.0</td>\n",
              "      <td>1123.0</td>\n",
              "      <td>68.109010</td>\n",
              "      <td>0.085595</td>\n",
              "    </tr>\n",
              "  </tbody>\n",
              "</table>\n",
              "<p>34507 rows × 10 columns</p>\n",
              "</div>\n",
              "      <button class=\"colab-df-convert\" onclick=\"convertToInteractive('df-9aef0751-305f-4e74-a857-7aa413e112cf')\"\n",
              "              title=\"Convert this dataframe to an interactive table.\"\n",
              "              style=\"display:none;\">\n",
              "        \n",
              "  <svg xmlns=\"http://www.w3.org/2000/svg\" height=\"24px\"viewBox=\"0 0 24 24\"\n",
              "       width=\"24px\">\n",
              "    <path d=\"M0 0h24v24H0V0z\" fill=\"none\"/>\n",
              "    <path d=\"M18.56 5.44l.94 2.06.94-2.06 2.06-.94-2.06-.94-.94-2.06-.94 2.06-2.06.94zm-11 1L8.5 8.5l.94-2.06 2.06-.94-2.06-.94L8.5 2.5l-.94 2.06-2.06.94zm10 10l.94 2.06.94-2.06 2.06-.94-2.06-.94-.94-2.06-.94 2.06-2.06.94z\"/><path d=\"M17.41 7.96l-1.37-1.37c-.4-.4-.92-.59-1.43-.59-.52 0-1.04.2-1.43.59L10.3 9.45l-7.72 7.72c-.78.78-.78 2.05 0 2.83L4 21.41c.39.39.9.59 1.41.59.51 0 1.02-.2 1.41-.59l7.78-7.78 2.81-2.81c.8-.78.8-2.07 0-2.86zM5.41 20L4 18.59l7.72-7.72 1.47 1.35L5.41 20z\"/>\n",
              "  </svg>\n",
              "      </button>\n",
              "      \n",
              "  <style>\n",
              "    .colab-df-container {\n",
              "      display:flex;\n",
              "      flex-wrap:wrap;\n",
              "      gap: 12px;\n",
              "    }\n",
              "\n",
              "    .colab-df-convert {\n",
              "      background-color: #E8F0FE;\n",
              "      border: none;\n",
              "      border-radius: 50%;\n",
              "      cursor: pointer;\n",
              "      display: none;\n",
              "      fill: #1967D2;\n",
              "      height: 32px;\n",
              "      padding: 0 0 0 0;\n",
              "      width: 32px;\n",
              "    }\n",
              "\n",
              "    .colab-df-convert:hover {\n",
              "      background-color: #E2EBFA;\n",
              "      box-shadow: 0px 1px 2px rgba(60, 64, 67, 0.3), 0px 1px 3px 1px rgba(60, 64, 67, 0.15);\n",
              "      fill: #174EA6;\n",
              "    }\n",
              "\n",
              "    [theme=dark] .colab-df-convert {\n",
              "      background-color: #3B4455;\n",
              "      fill: #D2E3FC;\n",
              "    }\n",
              "\n",
              "    [theme=dark] .colab-df-convert:hover {\n",
              "      background-color: #434B5C;\n",
              "      box-shadow: 0px 1px 3px 1px rgba(0, 0, 0, 0.15);\n",
              "      filter: drop-shadow(0px 1px 2px rgba(0, 0, 0, 0.3));\n",
              "      fill: #FFFFFF;\n",
              "    }\n",
              "  </style>\n",
              "\n",
              "      <script>\n",
              "        const buttonEl =\n",
              "          document.querySelector('#df-9aef0751-305f-4e74-a857-7aa413e112cf button.colab-df-convert');\n",
              "        buttonEl.style.display =\n",
              "          google.colab.kernel.accessAllowed ? 'block' : 'none';\n",
              "\n",
              "        async function convertToInteractive(key) {\n",
              "          const element = document.querySelector('#df-9aef0751-305f-4e74-a857-7aa413e112cf');\n",
              "          const dataTable =\n",
              "            await google.colab.kernel.invokeFunction('convertToInteractive',\n",
              "                                                     [key], {});\n",
              "          if (!dataTable) return;\n",
              "\n",
              "          const docLinkHtml = 'Like what you see? Visit the ' +\n",
              "            '<a target=\"_blank\" href=https://colab.research.google.com/notebooks/data_table.ipynb>data table notebook</a>'\n",
              "            + ' to learn more about interactive tables.';\n",
              "          element.innerHTML = '';\n",
              "          dataTable['output_type'] = 'display_data';\n",
              "          await google.colab.output.renderOutput(dataTable, element);\n",
              "          const docLink = document.createElement('div');\n",
              "          docLink.innerHTML = docLinkHtml;\n",
              "          element.appendChild(docLink);\n",
              "        }\n",
              "      </script>\n",
              "    </div>\n",
              "  </div>\n",
              "  "
            ]
          },
          "metadata": {},
          "execution_count": 37
        }
      ]
    },
    {
      "cell_type": "code",
      "source": [
        "sns.scatterplot(x=train.carat , y=train.price)"
      ],
      "metadata": {
        "colab": {
          "base_uri": "https://localhost:8080/",
          "height": 466
        },
        "id": "U0k7WcmyT0Cw",
        "outputId": "ea037298-edd8-49bc-c5e9-355e619e2e17"
      },
      "execution_count": null,
      "outputs": [
        {
          "output_type": "execute_result",
          "data": {
            "text/plain": [
              "<Axes: xlabel='carat', ylabel='price'>"
            ]
          },
          "metadata": {},
          "execution_count": 38
        },
        {
          "output_type": "display_data",
          "data": {
            "text/plain": [
              "<Figure size 640x480 with 1 Axes>"
            ],
            "image/png": "[encoded data removed]"
          },
          "metadata": {}
        }
      ]
    },
    {
      "cell_type": "code",
      "source": [
        "train.head()"
      ],
      "metadata": {
        "id": "WPy6OPaaUvV4",
        "colab": {
          "base_uri": "https://localhost:8080/",
          "height": 206
        },
        "outputId": "ccd196ee-42ae-4b0b-f512-a9002530758e"
      },
      "execution_count": null,
      "outputs": [
        {
          "output_type": "execute_result",
          "data": {
            "text/plain": [
              "          Id  carat      cut color clarity  depth  table   price      volume  \\\n",
              "21805  21806   1.55  Premium     J     VS1   62.6   59.0  8749.0  251.281800   \n",
              "22939  22940   1.04  Premium     G      I1   62.2   58.0  2801.0  165.634400   \n",
              "33888  33889   1.22  Premium     G     VS2   61.8   58.0  8362.0  200.873700   \n",
              "35779  35780   0.51    Ideal     H      IF   62.6   56.0  1920.0   83.721600   \n",
              "20589  20590   0.41    Ideal     E     SI1   62.1   54.0   969.0   67.999932   \n",
              "\n",
              "       carat_per_x  \n",
              "21805     0.209459  \n",
              "22939     0.160991  \n",
              "33888     0.176556  \n",
              "35779     0.100000  \n",
              "20589     0.085239  "
            ],
            "text/html": [
              "\n",
              "  <div id=\"df-b96b7484-81f0-4ca2-b6b2-e15845ebf5c5\">\n",
              "    <div class=\"colab-df-container\">\n",
              "      <div>\n",
              "<style scoped>\n",
              "    .dataframe tbody tr th:only-of-type {\n",
              "        vertical-align: middle;\n",
              "    }\n",
              "\n",
              "    .dataframe tbody tr th {\n",
              "        vertical-align: top;\n",
              "    }\n",
              "\n",
              "    .dataframe thead th {\n",
              "        text-align: right;\n",
              "    }\n",
              "</style>\n",
              "<table border=\"1\" class=\"dataframe\">\n",
              "  <thead>\n",
              "    <tr style=\"text-align: right;\">\n",
              "      <th></th>\n",
              "      <th>Id</th>\n",
              "      <th>carat</th>\n",
              "      <th>cut</th>\n",
              "      <th>color</th>\n",
              "      <th>clarity</th>\n",
              "      <th>depth</th>\n",
              "      <th>table</th>\n",
              "      <th>price</th>\n",
              "      <th>volume</th>\n",
              "      <th>carat_per_x</th>\n",
              "    </tr>\n",
              "  </thead>\n",
              "  <tbody>\n",
              "    <tr>\n",
              "      <th>21805</th>\n",
              "      <td>21806</td>\n",
              "      <td>1.55</td>\n",
              "      <td>Premium</td>\n",
              "      <td>J</td>\n",
              "      <td>VS1</td>\n",
              "      <td>62.6</td>\n",
              "      <td>59.0</td>\n",
              "      <td>8749.0</td>\n",
              "      <td>251.281800</td>\n",
              "      <td>0.209459</td>\n",
              "    </tr>\n",
              "    <tr>\n",
              "      <th>22939</th>\n",
              "      <td>22940</td>\n",
              "      <td>1.04</td>\n",
              "      <td>Premium</td>\n",
              "      <td>G</td>\n",
              "      <td>I1</td>\n",
              "      <td>62.2</td>\n",
              "      <td>58.0</td>\n",
              "      <td>2801.0</td>\n",
              "      <td>165.634400</td>\n",
              "      <td>0.160991</td>\n",
              "    </tr>\n",
              "    <tr>\n",
              "      <th>33888</th>\n",
              "      <td>33889</td>\n",
              "      <td>1.22</td>\n",
              "      <td>Premium</td>\n",
              "      <td>G</td>\n",
              "      <td>VS2</td>\n",
              "      <td>61.8</td>\n",
              "      <td>58.0</td>\n",
              "      <td>8362.0</td>\n",
              "      <td>200.873700</td>\n",
              "      <td>0.176556</td>\n",
              "    </tr>\n",
              "    <tr>\n",
              "      <th>35779</th>\n",
              "      <td>35780</td>\n",
              "      <td>0.51</td>\n",
              "      <td>Ideal</td>\n",
              "      <td>H</td>\n",
              "      <td>IF</td>\n",
              "      <td>62.6</td>\n",
              "      <td>56.0</td>\n",
              "      <td>1920.0</td>\n",
              "      <td>83.721600</td>\n",
              "      <td>0.100000</td>\n",
              "    </tr>\n",
              "    <tr>\n",
              "      <th>20589</th>\n",
              "      <td>20590</td>\n",
              "      <td>0.41</td>\n",
              "      <td>Ideal</td>\n",
              "      <td>E</td>\n",
              "      <td>SI1</td>\n",
              "      <td>62.1</td>\n",
              "      <td>54.0</td>\n",
              "      <td>969.0</td>\n",
              "      <td>67.999932</td>\n",
              "      <td>0.085239</td>\n",
              "    </tr>\n",
              "  </tbody>\n",
              "</table>\n",
              "</div>\n",
              "      <button class=\"colab-df-convert\" onclick=\"convertToInteractive('df-b96b7484-81f0-4ca2-b6b2-e15845ebf5c5')\"\n",
              "              title=\"Convert this dataframe to an interactive table.\"\n",
              "              style=\"display:none;\">\n",
              "        \n",
              "  <svg xmlns=\"http://www.w3.org/2000/svg\" height=\"24px\"viewBox=\"0 0 24 24\"\n",
              "       width=\"24px\">\n",
              "    <path d=\"M0 0h24v24H0V0z\" fill=\"none\"/>\n",
              "    <path d=\"M18.56 5.44l.94 2.06.94-2.06 2.06-.94-2.06-.94-.94-2.06-.94 2.06-2.06.94zm-11 1L8.5 8.5l.94-2.06 2.06-.94-2.06-.94L8.5 2.5l-.94 2.06-2.06.94zm10 10l.94 2.06.94-2.06 2.06-.94-2.06-.94-.94-2.06-.94 2.06-2.06.94z\"/><path d=\"M17.41 7.96l-1.37-1.37c-.4-.4-.92-.59-1.43-.59-.52 0-1.04.2-1.43.59L10.3 9.45l-7.72 7.72c-.78.78-.78 2.05 0 2.83L4 21.41c.39.39.9.59 1.41.59.51 0 1.02-.2 1.41-.59l7.78-7.78 2.81-2.81c.8-.78.8-2.07 0-2.86zM5.41 20L4 18.59l7.72-7.72 1.47 1.35L5.41 20z\"/>\n",
              "  </svg>\n",
              "      </button>\n",
              "      \n",
              "  <style>\n",
              "    .colab-df-container {\n",
              "      display:flex;\n",
              "      flex-wrap:wrap;\n",
              "      gap: 12px;\n",
              "    }\n",
              "\n",
              "    .colab-df-convert {\n",
              "      background-color: #E8F0FE;\n",
              "      border: none;\n",
              "      border-radius: 50%;\n",
              "      cursor: pointer;\n",
              "      display: none;\n",
              "      fill: #1967D2;\n",
              "      height: 32px;\n",
              "      padding: 0 0 0 0;\n",
              "      width: 32px;\n",
              "    }\n",
              "\n",
              "    .colab-df-convert:hover {\n",
              "      background-color: #E2EBFA;\n",
              "      box-shadow: 0px 1px 2px rgba(60, 64, 67, 0.3), 0px 1px 3px 1px rgba(60, 64, 67, 0.15);\n",
              "      fill: #174EA6;\n",
              "    }\n",
              "\n",
              "    [theme=dark] .colab-df-convert {\n",
              "      background-color: #3B4455;\n",
              "      fill: #D2E3FC;\n",
              "    }\n",
              "\n",
              "    [theme=dark] .colab-df-convert:hover {\n",
              "      background-color: #434B5C;\n",
              "      box-shadow: 0px 1px 3px 1px rgba(0, 0, 0, 0.15);\n",
              "      filter: drop-shadow(0px 1px 2px rgba(0, 0, 0, 0.3));\n",
              "      fill: #FFFFFF;\n",
              "    }\n",
              "  </style>\n",
              "\n",
              "      <script>\n",
              "        const buttonEl =\n",
              "          document.querySelector('#df-b96b7484-81f0-4ca2-b6b2-e15845ebf5c5 button.colab-df-convert');\n",
              "        buttonEl.style.display =\n",
              "          google.colab.kernel.accessAllowed ? 'block' : 'none';\n",
              "\n",
              "        async function convertToInteractive(key) {\n",
              "          const element = document.querySelector('#df-b96b7484-81f0-4ca2-b6b2-e15845ebf5c5');\n",
              "          const dataTable =\n",
              "            await google.colab.kernel.invokeFunction('convertToInteractive',\n",
              "                                                     [key], {});\n",
              "          if (!dataTable) return;\n",
              "\n",
              "          const docLinkHtml = 'Like what you see? Visit the ' +\n",
              "            '<a target=\"_blank\" href=https://colab.research.google.com/notebooks/data_table.ipynb>data table notebook</a>'\n",
              "            + ' to learn more about interactive tables.';\n",
              "          element.innerHTML = '';\n",
              "          dataTable['output_type'] = 'display_data';\n",
              "          await google.colab.output.renderOutput(dataTable, element);\n",
              "          const docLink = document.createElement('div');\n",
              "          docLink.innerHTML = docLinkHtml;\n",
              "          element.appendChild(docLink);\n",
              "        }\n",
              "      </script>\n",
              "    </div>\n",
              "  </div>\n",
              "  "
            ]
          },
          "metadata": {},
          "execution_count": 39
        }
      ]
    },
    {
      "cell_type": "code",
      "source": [
        "train.std()"
      ],
      "metadata": {
        "colab": {
          "base_uri": "https://localhost:8080/"
        },
        "id": "c36gUq9wxJHz",
        "outputId": "3c2d521d-2a06-4b6a-f0ea-10c6a67e3b63"
      },
      "execution_count": null,
      "outputs": [
        {
          "output_type": "stream",
          "name": "stderr",
          "text": [
            "<ipython-input-40-3f98fe744294>:1: FutureWarning: The default value of numeric_only in DataFrame.std is deprecated. In a future version, it will default to False. In addition, specifying 'numeric_only=None' is deprecated. Select only valid columns or specify the value of numeric_only to silence this warning.\n",
            "  train.std()\n"
          ]
        },
        {
          "output_type": "execute_result",
          "data": {
            "text/plain": [
              "Id             12443.556344\n",
              "carat              0.474946\n",
              "depth              1.435137\n",
              "table              2.230271\n",
              "price           3995.522210\n",
              "volume            76.830281\n",
              "carat_per_x        0.051322\n",
              "dtype: float64"
            ]
          },
          "metadata": {},
          "execution_count": 40
        }
      ]
    },
    {
      "cell_type": "code",
      "source": [
        "# Calculate the first quartile (Q1) and third quartile (Q3) of the 'price' column\n",
        "Q1 = train['price'].quantile(0.25)\n",
        "Q3 = train['price'].quantile(0.75)\n",
        "\n",
        "# Calculate the interquartile range (IQR)\n",
        "IQR = Q3 - Q1\n",
        "\n",
        "# Calculate the lower bound and upper bound for outlier detection using the 1.5*IQR rule\n",
        "lower_bound = Q1 - 1.5 * IQR\n",
        "upper_bound = Q3 + 1.5 * IQR\n",
        "\n",
        "# Filter the 'train' DataFrame to include only the rows where the 'price' is within the lower and upper bounds\n",
        "diamond_data = train[(train['price'] >= lower_bound) & (train['price'] <= upper_bound)]\n",
        "\n",
        "# Print the filtered DataFrame containing the diamond data within the specified price range\n",
        "print(diamond_data)"
      ],
      "metadata": {
        "colab": {
          "base_uri": "https://localhost:8080/"
        },
        "id": "GPTN4RWCx7XK",
        "outputId": "89fd4393-d3e2-4fd3-b989-df8517233ef1"
      },
      "execution_count": null,
      "outputs": [
        {
          "output_type": "stream",
          "name": "stdout",
          "text": [
            "          Id  carat        cut color clarity  depth  table   price  \\\n",
            "21805  21806   1.55    Premium     J     VS1   62.6   59.0  8749.0   \n",
            "22939  22940   1.04    Premium     G      I1   62.2   58.0  2801.0   \n",
            "33888  33889   1.22    Premium     G     VS2   61.8   58.0  8362.0   \n",
            "35779  35780   0.51      Ideal     H      IF   62.6   56.0  1920.0   \n",
            "20589  20590   0.41      Ideal     E     SI1   62.1   54.0   969.0   \n",
            "...      ...    ...        ...   ...     ...    ...    ...     ...   \n",
            "6265    6266   0.74  Very Good     G     SI1   63.5   60.0  2468.0   \n",
            "11284  11285   1.04  Very Good     G     VS2   61.9   57.0  6177.0   \n",
            "38158  38159   0.30    Premium     D     SI1   62.7   60.0   709.0   \n",
            "860      861   1.50      Ideal     I     SI1   59.4   60.0  8555.0   \n",
            "15795  15796   0.41      Ideal     G    VVS1   61.5   57.0  1123.0   \n",
            "\n",
            "           volume  carat_per_x  \n",
            "21805  251.281800     0.209459  \n",
            "22939  165.634400     0.160991  \n",
            "33888  200.873700     0.176556  \n",
            "35779   83.721600     0.100000  \n",
            "20589   67.999932     0.085239  \n",
            "...           ...          ...  \n",
            "6265   117.817968     0.129145  \n",
            "11284  168.379900     0.160991  \n",
            "38158   47.932668     0.070423  \n",
            "860    252.778500     0.198939  \n",
            "15795   68.109010     0.085595  \n",
            "\n",
            "[32197 rows x 10 columns]\n"
          ]
        }
      ]
    },
    {
      "cell_type": "markdown",
      "source": [
        "# OneHotEncoder"
      ],
      "metadata": {
        "id": "w3V90tKGCBiq"
      }
    },
    {
      "cell_type": "code",
      "source": [
        "# One-Hot Encoding using pandas get_dummies()\n",
        "# Convert categorical variables into binary columns\n",
        "one_hot_encoders_train_data = pd.get_dummies(diamond_data)\n",
        "\n",
        "# Get the column names after one-hot encoding\n",
        "cols = one_hot_encoders_train_data.columns\n",
        "\n",
        "# Create a new DataFrame with the one-hot encoded columns\n",
        "train_clean_data = pd.DataFrame(one_hot_encoders_train_data, columns=cols)\n",
        "\n",
        "# Display the first few rows of the cleaned data\n",
        "train_clean_data.head()"
      ],
      "metadata": {
        "colab": {
          "base_uri": "https://localhost:8080/"
        },
        "id": "G-unReSbB3ZD",
        "outputId": "75a87374-e81b-4609-8e34-b486ab11a879"
      },
      "execution_count": null,
      "outputs": [
        {
          "output_type": "execute_result",
          "data": {
            "text/plain": [
              "          Id  carat  depth  table   price      volume  carat_per_x  cut_Fair  \\\n",
              "21805  21806   1.55   62.6   59.0  8749.0  251.281800     0.209459         0   \n",
              "22939  22940   1.04   62.2   58.0  2801.0  165.634400     0.160991         0   \n",
              "33888  33889   1.22   61.8   58.0  8362.0  200.873700     0.176556         0   \n",
              "35779  35780   0.51   62.6   56.0  1920.0   83.721600     0.100000         0   \n",
              "20589  20590   0.41   62.1   54.0   969.0   67.999932     0.085239         0   \n",
              "\n",
              "       cut_Good  cut_Ideal  ...  color_I  color_J  clarity_I1  clarity_IF  \\\n",
              "21805         0          0  ...        0        1           0           0   \n",
              "22939         0          0  ...        0        0           1           0   \n",
              "33888         0          0  ...        0        0           0           0   \n",
              "35779         0          1  ...        0        0           0           1   \n",
              "20589         0          1  ...        0        0           0           0   \n",
              "\n",
              "       clarity_SI1  clarity_SI2  clarity_VS1  clarity_VS2  clarity_VVS1  \\\n",
              "21805            0            0            1            0             0   \n",
              "22939            0            0            0            0             0   \n",
              "33888            0            0            0            1             0   \n",
              "35779            0            0            0            0             0   \n",
              "20589            1            0            0            0             0   \n",
              "\n",
              "       clarity_VVS2  \n",
              "21805             0  \n",
              "22939             0  \n",
              "33888             0  \n",
              "35779             0  \n",
              "20589             0  \n",
              "\n",
              "[5 rows x 27 columns]"
            ],
            "text/html": [
              "\n",
              "  <div id=\"df-92ff5c4a-9bbd-45ac-891a-768eca53b250\">\n",
              "    <div class=\"colab-df-container\">\n",
              "      <div>\n",
              "<style scoped>\n",
              "    .dataframe tbody tr th:only-of-type {\n",
              "        vertical-align: middle;\n",
              "    }\n",
              "\n",
              "    .dataframe tbody tr th {\n",
              "        vertical-align: top;\n",
              "    }\n",
              "\n",
              "    .dataframe thead th {\n",
              "        text-align: right;\n",
              "    }\n",
              "</style>\n",
              "<table border=\"1\" class=\"dataframe\">\n",
              "  <thead>\n",
              "    <tr style=\"text-align: right;\">\n",
              "      <th></th>\n",
              "      <th>Id</th>\n",
              "      <th>carat</th>\n",
              "      <th>depth</th>\n",
              "      <th>table</th>\n",
              "      <th>price</th>\n",
              "      <th>volume</th>\n",
              "      <th>carat_per_x</th>\n",
              "      <th>cut_Fair</th>\n",
              "      <th>cut_Good</th>\n",
              "      <th>cut_Ideal</th>\n",
              "      <th>...</th>\n",
              "      <th>color_I</th>\n",
              "      <th>color_J</th>\n",
              "      <th>clarity_I1</th>\n",
              "      <th>clarity_IF</th>\n",
              "      <th>clarity_SI1</th>\n",
              "      <th>clarity_SI2</th>\n",
              "      <th>clarity_VS1</th>\n",
              "      <th>clarity_VS2</th>\n",
              "      <th>clarity_VVS1</th>\n",
              "      <th>clarity_VVS2</th>\n",
              "    </tr>\n",
              "  </thead>\n",
              "  <tbody>\n",
              "    <tr>\n",
              "      <th>21805</th>\n",
              "      <td>21806</td>\n",
              "      <td>1.55</td>\n",
              "      <td>62.6</td>\n",
              "      <td>59.0</td>\n",
              "      <td>8749.0</td>\n",
              "      <td>251.281800</td>\n",
              "      <td>0.209459</td>\n",
              "      <td>0</td>\n",
              "      <td>0</td>\n",
              "      <td>0</td>\n",
              "      <td>...</td>\n",
              "      <td>0</td>\n",
              "      <td>1</td>\n",
              "      <td>0</td>\n",
              "      <td>0</td>\n",
              "      <td>0</td>\n",
              "      <td>0</td>\n",
              "      <td>1</td>\n",
              "      <td>0</td>\n",
              "      <td>0</td>\n",
              "      <td>0</td>\n",
              "    </tr>\n",
              "    <tr>\n",
              "      <th>22939</th>\n",
              "      <td>22940</td>\n",
              "      <td>1.04</td>\n",
              "      <td>62.2</td>\n",
              "      <td>58.0</td>\n",
              "      <td>2801.0</td>\n",
              "      <td>165.634400</td>\n",
              "      <td>0.160991</td>\n",
              "      <td>0</td>\n",
              "      <td>0</td>\n",
              "      <td>0</td>\n",
              "      <td>...</td>\n",
              "      <td>0</td>\n",
              "      <td>0</td>\n",
              "      <td>1</td>\n",
              "      <td>0</td>\n",
              "      <td>0</td>\n",
              "      <td>0</td>\n",
              "      <td>0</td>\n",
              "      <td>0</td>\n",
              "      <td>0</td>\n",
              "      <td>0</td>\n",
              "    </tr>\n",
              "    <tr>\n",
              "      <th>33888</th>\n",
              "      <td>33889</td>\n",
              "      <td>1.22</td>\n",
              "      <td>61.8</td>\n",
              "      <td>58.0</td>\n",
              "      <td>8362.0</td>\n",
              "      <td>200.873700</td>\n",
              "      <td>0.176556</td>\n",
              "      <td>0</td>\n",
              "      <td>0</td>\n",
              "      <td>0</td>\n",
              "      <td>...</td>\n",
              "      <td>0</td>\n",
              "      <td>0</td>\n",
              "      <td>0</td>\n",
              "      <td>0</td>\n",
              "      <td>0</td>\n",
              "      <td>0</td>\n",
              "      <td>0</td>\n",
              "      <td>1</td>\n",
              "      <td>0</td>\n",
              "      <td>0</td>\n",
              "    </tr>\n",
              "    <tr>\n",
              "      <th>35779</th>\n",
              "      <td>35780</td>\n",
              "      <td>0.51</td>\n",
              "      <td>62.6</td>\n",
              "      <td>56.0</td>\n",
              "      <td>1920.0</td>\n",
              "      <td>83.721600</td>\n",
              "      <td>0.100000</td>\n",
              "      <td>0</td>\n",
              "      <td>0</td>\n",
              "      <td>1</td>\n",
              "      <td>...</td>\n",
              "      <td>0</td>\n",
              "      <td>0</td>\n",
              "      <td>0</td>\n",
              "      <td>1</td>\n",
              "      <td>0</td>\n",
              "      <td>0</td>\n",
              "      <td>0</td>\n",
              "      <td>0</td>\n",
              "      <td>0</td>\n",
              "      <td>0</td>\n",
              "    </tr>\n",
              "    <tr>\n",
              "      <th>20589</th>\n",
              "      <td>20590</td>\n",
              "      <td>0.41</td>\n",
              "      <td>62.1</td>\n",
              "      <td>54.0</td>\n",
              "      <td>969.0</td>\n",
              "      <td>67.999932</td>\n",
              "      <td>0.085239</td>\n",
              "      <td>0</td>\n",
              "      <td>0</td>\n",
              "      <td>1</td>\n",
              "      <td>...</td>\n",
              "      <td>0</td>\n",
              "      <td>0</td>\n",
              "      <td>0</td>\n",
              "      <td>0</td>\n",
              "      <td>1</td>\n",
              "      <td>0</td>\n",
              "      <td>0</td>\n",
              "      <td>0</td>\n",
              "      <td>0</td>\n",
              "      <td>0</td>\n",
              "    </tr>\n",
              "  </tbody>\n",
              "</table>\n",
              "<p>5 rows × 27 columns</p>\n",
              "</div>\n",
              "      <button class=\"colab-df-convert\" onclick=\"convertToInteractive('df-92ff5c4a-9bbd-45ac-891a-768eca53b250')\"\n",
              "              title=\"Convert this dataframe to an interactive table.\"\n",
              "              style=\"display:none;\">\n",
              "        \n",
              "  <svg xmlns=\"http://www.w3.org/2000/svg\" height=\"24px\"viewBox=\"0 0 24 24\"\n",
              "       width=\"24px\">\n",
              "    <path d=\"M0 0h24v24H0V0z\" fill=\"none\"/>\n",
              "    <path d=\"M18.56 5.44l.94 2.06.94-2.06 2.06-.94-2.06-.94-.94-2.06-.94 2.06-2.06.94zm-11 1L8.5 8.5l.94-2.06 2.06-.94-2.06-.94L8.5 2.5l-.94 2.06-2.06.94zm10 10l.94 2.06.94-2.06 2.06-.94-2.06-.94-.94-2.06-.94 2.06-2.06.94z\"/><path d=\"M17.41 7.96l-1.37-1.37c-.4-.4-.92-.59-1.43-.59-.52 0-1.04.2-1.43.59L10.3 9.45l-7.72 7.72c-.78.78-.78 2.05 0 2.83L4 21.41c.39.39.9.59 1.41.59.51 0 1.02-.2 1.41-.59l7.78-7.78 2.81-2.81c.8-.78.8-2.07 0-2.86zM5.41 20L4 18.59l7.72-7.72 1.47 1.35L5.41 20z\"/>\n",
              "  </svg>\n",
              "      </button>\n",
              "      \n",
              "  <style>\n",
              "    .colab-df-container {\n",
              "      display:flex;\n",
              "      flex-wrap:wrap;\n",
              "      gap: 12px;\n",
              "    }\n",
              "\n",
              "    .colab-df-convert {\n",
              "      background-color: #E8F0FE;\n",
              "      border: none;\n",
              "      border-radius: 50%;\n",
              "      cursor: pointer;\n",
              "      display: none;\n",
              "      fill: #1967D2;\n",
              "      height: 32px;\n",
              "      padding: 0 0 0 0;\n",
              "      width: 32px;\n",
              "    }\n",
              "\n",
              "    .colab-df-convert:hover {\n",
              "      background-color: #E2EBFA;\n",
              "      box-shadow: 0px 1px 2px rgba(60, 64, 67, 0.3), 0px 1px 3px 1px rgba(60, 64, 67, 0.15);\n",
              "      fill: #174EA6;\n",
              "    }\n",
              "\n",
              "    [theme=dark] .colab-df-convert {\n",
              "      background-color: #3B4455;\n",
              "      fill: #D2E3FC;\n",
              "    }\n",
              "\n",
              "    [theme=dark] .colab-df-convert:hover {\n",
              "      background-color: #434B5C;\n",
              "      box-shadow: 0px 1px 3px 1px rgba(0, 0, 0, 0.15);\n",
              "      filter: drop-shadow(0px 1px 2px rgba(0, 0, 0, 0.3));\n",
              "      fill: #FFFFFF;\n",
              "    }\n",
              "  </style>\n",
              "\n",
              "      <script>\n",
              "        const buttonEl =\n",
              "          document.querySelector('#df-92ff5c4a-9bbd-45ac-891a-768eca53b250 button.colab-df-convert');\n",
              "        buttonEl.style.display =\n",
              "          google.colab.kernel.accessAllowed ? 'block' : 'none';\n",
              "\n",
              "        async function convertToInteractive(key) {\n",
              "          const element = document.querySelector('#df-92ff5c4a-9bbd-45ac-891a-768eca53b250');\n",
              "          const dataTable =\n",
              "            await google.colab.kernel.invokeFunction('convertToInteractive',\n",
              "                                                     [key], {});\n",
              "          if (!dataTable) return;\n",
              "\n",
              "          const docLinkHtml = 'Like what you see? Visit the ' +\n",
              "            '<a target=\"_blank\" href=https://colab.research.google.com/notebooks/data_table.ipynb>data table notebook</a>'\n",
              "            + ' to learn more about interactive tables.';\n",
              "          element.innerHTML = '';\n",
              "          dataTable['output_type'] = 'display_data';\n",
              "          await google.colab.output.renderOutput(dataTable, element);\n",
              "          const docLink = document.createElement('div');\n",
              "          docLink.innerHTML = docLinkHtml;\n",
              "          element.appendChild(docLink);\n",
              "        }\n",
              "      </script>\n",
              "    </div>\n",
              "  </div>\n",
              "  "
            ]
          },
          "metadata": {},
          "execution_count": 98
        }
      ]
    },
    {
      "cell_type": "code",
      "source": [
        "# cut_class_dict = {'Ideal':1,'Premium':2,'Very Good':3,'Fair':4,'Good':5}\n",
        "# color_dict     = {'I':1,'F':2,'G':3,'H':4,'D':5,'E':6,'J':7}\n",
        "# clarity_dict   = {'SI2':1,'VS2':2,'VVS2':3,'IF':4,'VS1':5,'SI1':6,'VVS1':7,'I1':8}"
      ],
      "metadata": {
        "id": "SenP0PhNy5ou"
      },
      "execution_count": null,
      "outputs": []
    },
    {
      "cell_type": "code",
      "source": [
        "# X_train['cut']      =X_train['cut'].map(cut_class_dict)\n",
        "# X_train['clarity']  =X_train['clarity'].map(clarity_dict)\n",
        "# X_train['color']    =X_train['color'].map(color_dict)"
      ],
      "metadata": {
        "id": "-IbwkW3ZPbcw"
      },
      "execution_count": null,
      "outputs": []
    },
    {
      "cell_type": "code",
      "source": [
        "from sklearn.preprocessing import StandardScaler\n",
        "\n",
        "# Create an instance of StandardScaler\n",
        "sc_X = StandardScaler()\n",
        "\n",
        "# Standardize the numerical features in train_clean_data\n",
        "numericals =  pd.DataFrame(sc_X.fit_transform(train_clean_data[['carat','depth','table','volume','carat_per_x']]),\n",
        "                           columns=['carat','depth','table','volume','carat_per_x'],\n",
        "                           index=train_clean_data.index)\n",
        "\n",
        "# Create a copy of the original DataFrame\n",
        "train_clean_data_standard = train_clean_data.copy(deep=True)\n",
        "\n",
        "# Replace the numerical features in train_clean_data with the standardized values\n",
        "train_clean_data_standard[['carat','depth','table','volume','carat_per_x']] = numericals[['carat','depth','table','volume','carat_per_x']]\n",
        "\n",
        "# Print the first few rows of the standardized DataFrame\n",
        "train_clean_data_standard.head()"
      ],
      "metadata": {
        "colab": {
          "base_uri": "https://localhost:8080/",
          "height": 299
        },
        "id": "6-2XqZUfkgc7",
        "outputId": "cb6e3b12-6731-4363-f839-96252999810b"
      },
      "execution_count": null,
      "outputs": [
        {
          "output_type": "execute_result",
          "data": {
            "text/plain": [
              "          Id     carat     depth     table   price    volume  carat_per_x  \\\n",
              "21805  21806  2.156623  0.587870  0.706269  8749.0  2.152650     2.007022   \n",
              "22939  22940  0.828206  0.308672  0.256102  2801.0  0.773647     0.898319   \n",
              "33888  33889  1.297059  0.029475  0.256102  8362.0  1.341032     1.254362   \n",
              "35779  35780 -0.552306  0.587870 -0.644232  1920.0 -0.545225    -0.496819   \n",
              "20589  20590 -0.812780  0.238873 -1.544566   969.0 -0.798359    -0.834469   \n",
              "\n",
              "       cut_Fair  cut_Good  cut_Ideal  ...  color_I  color_J  clarity_I1  \\\n",
              "21805         0         0          0  ...        0        1           0   \n",
              "22939         0         0          0  ...        0        0           1   \n",
              "33888         0         0          0  ...        0        0           0   \n",
              "35779         0         0          1  ...        0        0           0   \n",
              "20589         0         0          1  ...        0        0           0   \n",
              "\n",
              "       clarity_IF  clarity_SI1  clarity_SI2  clarity_VS1  clarity_VS2  \\\n",
              "21805           0            0            0            1            0   \n",
              "22939           0            0            0            0            0   \n",
              "33888           0            0            0            0            1   \n",
              "35779           1            0            0            0            0   \n",
              "20589           0            1            0            0            0   \n",
              "\n",
              "       clarity_VVS1  clarity_VVS2  \n",
              "21805             0             0  \n",
              "22939             0             0  \n",
              "33888             0             0  \n",
              "35779             0             0  \n",
              "20589             0             0  \n",
              "\n",
              "[5 rows x 27 columns]"
            ],
            "text/html": [
              "\n",
              "  <div id=\"df-240a70b3-b68e-45c2-9e4f-4cbb94f6cd76\">\n",
              "    <div class=\"colab-df-container\">\n",
              "      <div>\n",
              "<style scoped>\n",
              "    .dataframe tbody tr th:only-of-type {\n",
              "        vertical-align: middle;\n",
              "    }\n",
              "\n",
              "    .dataframe tbody tr th {\n",
              "        vertical-align: top;\n",
              "    }\n",
              "\n",
              "    .dataframe thead th {\n",
              "        text-align: right;\n",
              "    }\n",
              "</style>\n",
              "<table border=\"1\" class=\"dataframe\">\n",
              "  <thead>\n",
              "    <tr style=\"text-align: right;\">\n",
              "      <th></th>\n",
              "      <th>Id</th>\n",
              "      <th>carat</th>\n",
              "      <th>depth</th>\n",
              "      <th>table</th>\n",
              "      <th>price</th>\n",
              "      <th>volume</th>\n",
              "      <th>carat_per_x</th>\n",
              "      <th>cut_Fair</th>\n",
              "      <th>cut_Good</th>\n",
              "      <th>cut_Ideal</th>\n",
              "      <th>...</th>\n",
              "      <th>color_I</th>\n",
              "      <th>color_J</th>\n",
              "      <th>clarity_I1</th>\n",
              "      <th>clarity_IF</th>\n",
              "      <th>clarity_SI1</th>\n",
              "      <th>clarity_SI2</th>\n",
              "      <th>clarity_VS1</th>\n",
              "      <th>clarity_VS2</th>\n",
              "      <th>clarity_VVS1</th>\n",
              "      <th>clarity_VVS2</th>\n",
              "    </tr>\n",
              "  </thead>\n",
              "  <tbody>\n",
              "    <tr>\n",
              "      <th>21805</th>\n",
              "      <td>21806</td>\n",
              "      <td>2.156623</td>\n",
              "      <td>0.587870</td>\n",
              "      <td>0.706269</td>\n",
              "      <td>8749.0</td>\n",
              "      <td>2.152650</td>\n",
              "      <td>2.007022</td>\n",
              "      <td>0</td>\n",
              "      <td>0</td>\n",
              "      <td>0</td>\n",
              "      <td>...</td>\n",
              "      <td>0</td>\n",
              "      <td>1</td>\n",
              "      <td>0</td>\n",
              "      <td>0</td>\n",
              "      <td>0</td>\n",
              "      <td>0</td>\n",
              "      <td>1</td>\n",
              "      <td>0</td>\n",
              "      <td>0</td>\n",
              "      <td>0</td>\n",
              "    </tr>\n",
              "    <tr>\n",
              "      <th>22939</th>\n",
              "      <td>22940</td>\n",
              "      <td>0.828206</td>\n",
              "      <td>0.308672</td>\n",
              "      <td>0.256102</td>\n",
              "      <td>2801.0</td>\n",
              "      <td>0.773647</td>\n",
              "      <td>0.898319</td>\n",
              "      <td>0</td>\n",
              "      <td>0</td>\n",
              "      <td>0</td>\n",
              "      <td>...</td>\n",
              "      <td>0</td>\n",
              "      <td>0</td>\n",
              "      <td>1</td>\n",
              "      <td>0</td>\n",
              "      <td>0</td>\n",
              "      <td>0</td>\n",
              "      <td>0</td>\n",
              "      <td>0</td>\n",
              "      <td>0</td>\n",
              "      <td>0</td>\n",
              "    </tr>\n",
              "    <tr>\n",
              "      <th>33888</th>\n",
              "      <td>33889</td>\n",
              "      <td>1.297059</td>\n",
              "      <td>0.029475</td>\n",
              "      <td>0.256102</td>\n",
              "      <td>8362.0</td>\n",
              "      <td>1.341032</td>\n",
              "      <td>1.254362</td>\n",
              "      <td>0</td>\n",
              "      <td>0</td>\n",
              "      <td>0</td>\n",
              "      <td>...</td>\n",
              "      <td>0</td>\n",
              "      <td>0</td>\n",
              "      <td>0</td>\n",
              "      <td>0</td>\n",
              "      <td>0</td>\n",
              "      <td>0</td>\n",
              "      <td>0</td>\n",
              "      <td>1</td>\n",
              "      <td>0</td>\n",
              "      <td>0</td>\n",
              "    </tr>\n",
              "    <tr>\n",
              "      <th>35779</th>\n",
              "      <td>35780</td>\n",
              "      <td>-0.552306</td>\n",
              "      <td>0.587870</td>\n",
              "      <td>-0.644232</td>\n",
              "      <td>1920.0</td>\n",
              "      <td>-0.545225</td>\n",
              "      <td>-0.496819</td>\n",
              "      <td>0</td>\n",
              "      <td>0</td>\n",
              "      <td>1</td>\n",
              "      <td>...</td>\n",
              "      <td>0</td>\n",
              "      <td>0</td>\n",
              "      <td>0</td>\n",
              "      <td>1</td>\n",
              "      <td>0</td>\n",
              "      <td>0</td>\n",
              "      <td>0</td>\n",
              "      <td>0</td>\n",
              "      <td>0</td>\n",
              "      <td>0</td>\n",
              "    </tr>\n",
              "    <tr>\n",
              "      <th>20589</th>\n",
              "      <td>20590</td>\n",
              "      <td>-0.812780</td>\n",
              "      <td>0.238873</td>\n",
              "      <td>-1.544566</td>\n",
              "      <td>969.0</td>\n",
              "      <td>-0.798359</td>\n",
              "      <td>-0.834469</td>\n",
              "      <td>0</td>\n",
              "      <td>0</td>\n",
              "      <td>1</td>\n",
              "      <td>...</td>\n",
              "      <td>0</td>\n",
              "      <td>0</td>\n",
              "      <td>0</td>\n",
              "      <td>0</td>\n",
              "      <td>1</td>\n",
              "      <td>0</td>\n",
              "      <td>0</td>\n",
              "      <td>0</td>\n",
              "      <td>0</td>\n",
              "      <td>0</td>\n",
              "    </tr>\n",
              "  </tbody>\n",
              "</table>\n",
              "<p>5 rows × 27 columns</p>\n",
              "</div>\n",
              "      <button class=\"colab-df-convert\" onclick=\"convertToInteractive('df-240a70b3-b68e-45c2-9e4f-4cbb94f6cd76')\"\n",
              "              title=\"Convert this dataframe to an interactive table.\"\n",
              "              style=\"display:none;\">\n",
              "        \n",
              "  <svg xmlns=\"http://www.w3.org/2000/svg\" height=\"24px\"viewBox=\"0 0 24 24\"\n",
              "       width=\"24px\">\n",
              "    <path d=\"M0 0h24v24H0V0z\" fill=\"none\"/>\n",
              "    <path d=\"M18.56 5.44l.94 2.06.94-2.06 2.06-.94-2.06-.94-.94-2.06-.94 2.06-2.06.94zm-11 1L8.5 8.5l.94-2.06 2.06-.94-2.06-.94L8.5 2.5l-.94 2.06-2.06.94zm10 10l.94 2.06.94-2.06 2.06-.94-2.06-.94-.94-2.06-.94 2.06-2.06.94z\"/><path d=\"M17.41 7.96l-1.37-1.37c-.4-.4-.92-.59-1.43-.59-.52 0-1.04.2-1.43.59L10.3 9.45l-7.72 7.72c-.78.78-.78 2.05 0 2.83L4 21.41c.39.39.9.59 1.41.59.51 0 1.02-.2 1.41-.59l7.78-7.78 2.81-2.81c.8-.78.8-2.07 0-2.86zM5.41 20L4 18.59l7.72-7.72 1.47 1.35L5.41 20z\"/>\n",
              "  </svg>\n",
              "      </button>\n",
              "      \n",
              "  <style>\n",
              "    .colab-df-container {\n",
              "      display:flex;\n",
              "      flex-wrap:wrap;\n",
              "      gap: 12px;\n",
              "    }\n",
              "\n",
              "    .colab-df-convert {\n",
              "      background-color: #E8F0FE;\n",
              "      border: none;\n",
              "      border-radius: 50%;\n",
              "      cursor: pointer;\n",
              "      display: none;\n",
              "      fill: #1967D2;\n",
              "      height: 32px;\n",
              "      padding: 0 0 0 0;\n",
              "      width: 32px;\n",
              "    }\n",
              "\n",
              "    .colab-df-convert:hover {\n",
              "      background-color: #E2EBFA;\n",
              "      box-shadow: 0px 1px 2px rgba(60, 64, 67, 0.3), 0px 1px 3px 1px rgba(60, 64, 67, 0.15);\n",
              "      fill: #174EA6;\n",
              "    }\n",
              "\n",
              "    [theme=dark] .colab-df-convert {\n",
              "      background-color: #3B4455;\n",
              "      fill: #D2E3FC;\n",
              "    }\n",
              "\n",
              "    [theme=dark] .colab-df-convert:hover {\n",
              "      background-color: #434B5C;\n",
              "      box-shadow: 0px 1px 3px 1px rgba(0, 0, 0, 0.15);\n",
              "      filter: drop-shadow(0px 1px 2px rgba(0, 0, 0, 0.3));\n",
              "      fill: #FFFFFF;\n",
              "    }\n",
              "  </style>\n",
              "\n",
              "      <script>\n",
              "        const buttonEl =\n",
              "          document.querySelector('#df-240a70b3-b68e-45c2-9e4f-4cbb94f6cd76 button.colab-df-convert');\n",
              "        buttonEl.style.display =\n",
              "          google.colab.kernel.accessAllowed ? 'block' : 'none';\n",
              "\n",
              "        async function convertToInteractive(key) {\n",
              "          const element = document.querySelector('#df-240a70b3-b68e-45c2-9e4f-4cbb94f6cd76');\n",
              "          const dataTable =\n",
              "            await google.colab.kernel.invokeFunction('convertToInteractive',\n",
              "                                                     [key], {});\n",
              "          if (!dataTable) return;\n",
              "\n",
              "          const docLinkHtml = 'Like what you see? Visit the ' +\n",
              "            '<a target=\"_blank\" href=https://colab.research.google.com/notebooks/data_table.ipynb>data table notebook</a>'\n",
              "            + ' to learn more about interactive tables.';\n",
              "          element.innerHTML = '';\n",
              "          dataTable['output_type'] = 'display_data';\n",
              "          await google.colab.output.renderOutput(dataTable, element);\n",
              "          const docLink = document.createElement('div');\n",
              "          docLink.innerHTML = docLinkHtml;\n",
              "          element.appendChild(docLink);\n",
              "        }\n",
              "      </script>\n",
              "    </div>\n",
              "  </div>\n",
              "  "
            ]
          },
          "metadata": {},
          "execution_count": 45
        }
      ]
    },
    {
      "cell_type": "code",
      "source": [
        "# Drop \n",
        "X_train = train_clean_data_standard.drop(['price'], axis=1)\n",
        "y_train= train_clean_data_standard['price']"
      ],
      "metadata": {
        "id": "g8RqbhvtyxMs"
      },
      "execution_count": null,
      "outputs": []
    },
    {
      "cell_type": "code",
      "source": [
        "X_train.head()"
      ],
      "metadata": {
        "colab": {
          "base_uri": "https://localhost:8080/",
          "height": 299
        },
        "id": "-J4-aCTLH5j5",
        "outputId": "c7005b50-d4cb-4ff1-cb38-15c8ec735da5"
      },
      "execution_count": null,
      "outputs": [
        {
          "output_type": "execute_result",
          "data": {
            "text/plain": [
              "          Id     carat     depth     table    volume  carat_per_x  cut_Fair  \\\n",
              "21805  21806  2.156623  0.587870  0.706269  2.152650     2.007022         0   \n",
              "22939  22940  0.828206  0.308672  0.256102  0.773647     0.898319         0   \n",
              "33888  33889  1.297059  0.029475  0.256102  1.341032     1.254362         0   \n",
              "35779  35780 -0.552306  0.587870 -0.644232 -0.545225    -0.496819         0   \n",
              "20589  20590 -0.812780  0.238873 -1.544566 -0.798359    -0.834469         0   \n",
              "\n",
              "       cut_Good  cut_Ideal  cut_Premium  ...  color_I  color_J  clarity_I1  \\\n",
              "21805         0          0            1  ...        0        1           0   \n",
              "22939         0          0            1  ...        0        0           1   \n",
              "33888         0          0            1  ...        0        0           0   \n",
              "35779         0          1            0  ...        0        0           0   \n",
              "20589         0          1            0  ...        0        0           0   \n",
              "\n",
              "       clarity_IF  clarity_SI1  clarity_SI2  clarity_VS1  clarity_VS2  \\\n",
              "21805           0            0            0            1            0   \n",
              "22939           0            0            0            0            0   \n",
              "33888           0            0            0            0            1   \n",
              "35779           1            0            0            0            0   \n",
              "20589           0            1            0            0            0   \n",
              "\n",
              "       clarity_VVS1  clarity_VVS2  \n",
              "21805             0             0  \n",
              "22939             0             0  \n",
              "33888             0             0  \n",
              "35779             0             0  \n",
              "20589             0             0  \n",
              "\n",
              "[5 rows x 26 columns]"
            ],
            "text/html": [
              "\n",
              "  <div id=\"df-d019a89d-2b58-4693-944f-72a2ffbfb111\">\n",
              "    <div class=\"colab-df-container\">\n",
              "      <div>\n",
              "<style scoped>\n",
              "    .dataframe tbody tr th:only-of-type {\n",
              "        vertical-align: middle;\n",
              "    }\n",
              "\n",
              "    .dataframe tbody tr th {\n",
              "        vertical-align: top;\n",
              "    }\n",
              "\n",
              "    .dataframe thead th {\n",
              "        text-align: right;\n",
              "    }\n",
              "</style>\n",
              "<table border=\"1\" class=\"dataframe\">\n",
              "  <thead>\n",
              "    <tr style=\"text-align: right;\">\n",
              "      <th></th>\n",
              "      <th>Id</th>\n",
              "      <th>carat</th>\n",
              "      <th>depth</th>\n",
              "      <th>table</th>\n",
              "      <th>volume</th>\n",
              "      <th>carat_per_x</th>\n",
              "      <th>cut_Fair</th>\n",
              "      <th>cut_Good</th>\n",
              "      <th>cut_Ideal</th>\n",
              "      <th>cut_Premium</th>\n",
              "      <th>...</th>\n",
              "      <th>color_I</th>\n",
              "      <th>color_J</th>\n",
              "      <th>clarity_I1</th>\n",
              "      <th>clarity_IF</th>\n",
              "      <th>clarity_SI1</th>\n",
              "      <th>clarity_SI2</th>\n",
              "      <th>clarity_VS1</th>\n",
              "      <th>clarity_VS2</th>\n",
              "      <th>clarity_VVS1</th>\n",
              "      <th>clarity_VVS2</th>\n",
              "    </tr>\n",
              "  </thead>\n",
              "  <tbody>\n",
              "    <tr>\n",
              "      <th>21805</th>\n",
              "      <td>21806</td>\n",
              "      <td>2.156623</td>\n",
              "      <td>0.587870</td>\n",
              "      <td>0.706269</td>\n",
              "      <td>2.152650</td>\n",
              "      <td>2.007022</td>\n",
              "      <td>0</td>\n",
              "      <td>0</td>\n",
              "      <td>0</td>\n",
              "      <td>1</td>\n",
              "      <td>...</td>\n",
              "      <td>0</td>\n",
              "      <td>1</td>\n",
              "      <td>0</td>\n",
              "      <td>0</td>\n",
              "      <td>0</td>\n",
              "      <td>0</td>\n",
              "      <td>1</td>\n",
              "      <td>0</td>\n",
              "      <td>0</td>\n",
              "      <td>0</td>\n",
              "    </tr>\n",
              "    <tr>\n",
              "      <th>22939</th>\n",
              "      <td>22940</td>\n",
              "      <td>0.828206</td>\n",
              "      <td>0.308672</td>\n",
              "      <td>0.256102</td>\n",
              "      <td>0.773647</td>\n",
              "      <td>0.898319</td>\n",
              "      <td>0</td>\n",
              "      <td>0</td>\n",
              "      <td>0</td>\n",
              "      <td>1</td>\n",
              "      <td>...</td>\n",
              "      <td>0</td>\n",
              "      <td>0</td>\n",
              "      <td>1</td>\n",
              "      <td>0</td>\n",
              "      <td>0</td>\n",
              "      <td>0</td>\n",
              "      <td>0</td>\n",
              "      <td>0</td>\n",
              "      <td>0</td>\n",
              "      <td>0</td>\n",
              "    </tr>\n",
              "    <tr>\n",
              "      <th>33888</th>\n",
              "      <td>33889</td>\n",
              "      <td>1.297059</td>\n",
              "      <td>0.029475</td>\n",
              "      <td>0.256102</td>\n",
              "      <td>1.341032</td>\n",
              "      <td>1.254362</td>\n",
              "      <td>0</td>\n",
              "      <td>0</td>\n",
              "      <td>0</td>\n",
              "      <td>1</td>\n",
              "      <td>...</td>\n",
              "      <td>0</td>\n",
              "      <td>0</td>\n",
              "      <td>0</td>\n",
              "      <td>0</td>\n",
              "      <td>0</td>\n",
              "      <td>0</td>\n",
              "      <td>0</td>\n",
              "      <td>1</td>\n",
              "      <td>0</td>\n",
              "      <td>0</td>\n",
              "    </tr>\n",
              "    <tr>\n",
              "      <th>35779</th>\n",
              "      <td>35780</td>\n",
              "      <td>-0.552306</td>\n",
              "      <td>0.587870</td>\n",
              "      <td>-0.644232</td>\n",
              "      <td>-0.545225</td>\n",
              "      <td>-0.496819</td>\n",
              "      <td>0</td>\n",
              "      <td>0</td>\n",
              "      <td>1</td>\n",
              "      <td>0</td>\n",
              "      <td>...</td>\n",
              "      <td>0</td>\n",
              "      <td>0</td>\n",
              "      <td>0</td>\n",
              "      <td>1</td>\n",
              "      <td>0</td>\n",
              "      <td>0</td>\n",
              "      <td>0</td>\n",
              "      <td>0</td>\n",
              "      <td>0</td>\n",
              "      <td>0</td>\n",
              "    </tr>\n",
              "    <tr>\n",
              "      <th>20589</th>\n",
              "      <td>20590</td>\n",
              "      <td>-0.812780</td>\n",
              "      <td>0.238873</td>\n",
              "      <td>-1.544566</td>\n",
              "      <td>-0.798359</td>\n",
              "      <td>-0.834469</td>\n",
              "      <td>0</td>\n",
              "      <td>0</td>\n",
              "      <td>1</td>\n",
              "      <td>0</td>\n",
              "      <td>...</td>\n",
              "      <td>0</td>\n",
              "      <td>0</td>\n",
              "      <td>0</td>\n",
              "      <td>0</td>\n",
              "      <td>1</td>\n",
              "      <td>0</td>\n",
              "      <td>0</td>\n",
              "      <td>0</td>\n",
              "      <td>0</td>\n",
              "      <td>0</td>\n",
              "    </tr>\n",
              "  </tbody>\n",
              "</table>\n",
              "<p>5 rows × 26 columns</p>\n",
              "</div>\n",
              "      <button class=\"colab-df-convert\" onclick=\"convertToInteractive('df-d019a89d-2b58-4693-944f-72a2ffbfb111')\"\n",
              "              title=\"Convert this dataframe to an interactive table.\"\n",
              "              style=\"display:none;\">\n",
              "        \n",
              "  <svg xmlns=\"http://www.w3.org/2000/svg\" height=\"24px\"viewBox=\"0 0 24 24\"\n",
              "       width=\"24px\">\n",
              "    <path d=\"M0 0h24v24H0V0z\" fill=\"none\"/>\n",
              "    <path d=\"M18.56 5.44l.94 2.06.94-2.06 2.06-.94-2.06-.94-.94-2.06-.94 2.06-2.06.94zm-11 1L8.5 8.5l.94-2.06 2.06-.94-2.06-.94L8.5 2.5l-.94 2.06-2.06.94zm10 10l.94 2.06.94-2.06 2.06-.94-2.06-.94-.94-2.06-.94 2.06-2.06.94z\"/><path d=\"M17.41 7.96l-1.37-1.37c-.4-.4-.92-.59-1.43-.59-.52 0-1.04.2-1.43.59L10.3 9.45l-7.72 7.72c-.78.78-.78 2.05 0 2.83L4 21.41c.39.39.9.59 1.41.59.51 0 1.02-.2 1.41-.59l7.78-7.78 2.81-2.81c.8-.78.8-2.07 0-2.86zM5.41 20L4 18.59l7.72-7.72 1.47 1.35L5.41 20z\"/>\n",
              "  </svg>\n",
              "      </button>\n",
              "      \n",
              "  <style>\n",
              "    .colab-df-container {\n",
              "      display:flex;\n",
              "      flex-wrap:wrap;\n",
              "      gap: 12px;\n",
              "    }\n",
              "\n",
              "    .colab-df-convert {\n",
              "      background-color: #E8F0FE;\n",
              "      border: none;\n",
              "      border-radius: 50%;\n",
              "      cursor: pointer;\n",
              "      display: none;\n",
              "      fill: #1967D2;\n",
              "      height: 32px;\n",
              "      padding: 0 0 0 0;\n",
              "      width: 32px;\n",
              "    }\n",
              "\n",
              "    .colab-df-convert:hover {\n",
              "      background-color: #E2EBFA;\n",
              "      box-shadow: 0px 1px 2px rgba(60, 64, 67, 0.3), 0px 1px 3px 1px rgba(60, 64, 67, 0.15);\n",
              "      fill: #174EA6;\n",
              "    }\n",
              "\n",
              "    [theme=dark] .colab-df-convert {\n",
              "      background-color: #3B4455;\n",
              "      fill: #D2E3FC;\n",
              "    }\n",
              "\n",
              "    [theme=dark] .colab-df-convert:hover {\n",
              "      background-color: #434B5C;\n",
              "      box-shadow: 0px 1px 3px 1px rgba(0, 0, 0, 0.15);\n",
              "      filter: drop-shadow(0px 1px 2px rgba(0, 0, 0, 0.3));\n",
              "      fill: #FFFFFF;\n",
              "    }\n",
              "  </style>\n",
              "\n",
              "      <script>\n",
              "        const buttonEl =\n",
              "          document.querySelector('#df-d019a89d-2b58-4693-944f-72a2ffbfb111 button.colab-df-convert');\n",
              "        buttonEl.style.display =\n",
              "          google.colab.kernel.accessAllowed ? 'block' : 'none';\n",
              "\n",
              "        async function convertToInteractive(key) {\n",
              "          const element = document.querySelector('#df-d019a89d-2b58-4693-944f-72a2ffbfb111');\n",
              "          const dataTable =\n",
              "            await google.colab.kernel.invokeFunction('convertToInteractive',\n",
              "                                                     [key], {});\n",
              "          if (!dataTable) return;\n",
              "\n",
              "          const docLinkHtml = 'Like what you see? Visit the ' +\n",
              "            '<a target=\"_blank\" href=https://colab.research.google.com/notebooks/data_table.ipynb>data table notebook</a>'\n",
              "            + ' to learn more about interactive tables.';\n",
              "          element.innerHTML = '';\n",
              "          dataTable['output_type'] = 'display_data';\n",
              "          await google.colab.output.renderOutput(dataTable, element);\n",
              "          const docLink = document.createElement('div');\n",
              "          docLink.innerHTML = docLinkHtml;\n",
              "          element.appendChild(docLink);\n",
              "        }\n",
              "      </script>\n",
              "    </div>\n",
              "  </div>\n",
              "  "
            ]
          },
          "metadata": {},
          "execution_count": 47
        }
      ]
    },
    {
      "cell_type": "code",
      "source": [
        "X_train.shape"
      ],
      "metadata": {
        "colab": {
          "base_uri": "https://localhost:8080/"
        },
        "id": "CwAKz7OVHv56",
        "outputId": "bc142e62-4016-467f-f7c4-6d84758b54f6"
      },
      "execution_count": null,
      "outputs": [
        {
          "output_type": "execute_result",
          "data": {
            "text/plain": [
              "(32197, 26)"
            ]
          },
          "metadata": {},
          "execution_count": 48
        }
      ]
    },
    {
      "cell_type": "code",
      "source": [
        "test['volume'] = test.x * test.y * test.z\n",
        "test['carat_per_x'] = test['carat'] / test['x']\n",
        "test = test.drop(['x','y','z'], axis=1)"
      ],
      "metadata": {
        "id": "cnUm4klxXBhZ"
      },
      "execution_count": null,
      "outputs": []
    },
    {
      "cell_type": "code",
      "source": [
        "one_hot_encoders_test_data =  pd.get_dummies(test)\n",
        "cols = one_hot_encoders_test_data.columns\n",
        "test_clean_data = pd.DataFrame(one_hot_encoders_test_data,columns= cols)\n",
        "test_clean_data.head()"
      ],
      "metadata": {
        "colab": {
          "base_uri": "https://localhost:8080/",
          "height": 299
        },
        "id": "lbR53_oAWVCj",
        "outputId": "6e9869b9-cd90-45a5-f6ac-5e5c03d846a9"
      },
      "execution_count": null,
      "outputs": [
        {
          "output_type": "execute_result",
          "data": {
            "text/plain": [
              "          Id  carat  depth  table  price      volume  carat_per_x  cut_Fair  \\\n",
              "14768  14769   2.02   59.8   60.0  12713  328.268640     0.246041         0   \n",
              "33287  33288   1.50   60.2   58.0  13720  243.351810     0.202429         0   \n",
              "2181    2182   1.04   61.1   59.0   7175  171.609600     0.158537         0   \n",
              "27850  27851   0.30   62.5   58.0    844   49.206408     0.069606         0   \n",
              "13752  13753   1.03   62.0   58.0   4326  166.408400     0.159196         0   \n",
              "\n",
              "       cut_Good  cut_Ideal  ...  color_I  color_J  clarity_I1  clarity_IF  \\\n",
              "14768         0          1  ...        0        1           0           0   \n",
              "33287         0          0  ...        0        0           0           0   \n",
              "2181          0          0  ...        0        0           0           0   \n",
              "27850         0          0  ...        0        0           0           0   \n",
              "13752         0          0  ...        1        0           0           0   \n",
              "\n",
              "       clarity_SI1  clarity_SI2  clarity_VS1  clarity_VS2  clarity_VVS1  \\\n",
              "14768            1            0            0            0             0   \n",
              "33287            0            0            1            0             0   \n",
              "2181             0            0            0            1             0   \n",
              "27850            0            0            0            1             0   \n",
              "13752            1            0            0            0             0   \n",
              "\n",
              "       clarity_VVS2  \n",
              "14768             0  \n",
              "33287             0  \n",
              "2181              0  \n",
              "27850             0  \n",
              "13752             0  \n",
              "\n",
              "[5 rows x 27 columns]"
            ],
            "text/html": [
              "\n",
              "  <div id=\"df-1864bd7b-dda3-4595-af04-3e8c466b688b\">\n",
              "    <div class=\"colab-df-container\">\n",
              "      <div>\n",
              "<style scoped>\n",
              "    .dataframe tbody tr th:only-of-type {\n",
              "        vertical-align: middle;\n",
              "    }\n",
              "\n",
              "    .dataframe tbody tr th {\n",
              "        vertical-align: top;\n",
              "    }\n",
              "\n",
              "    .dataframe thead th {\n",
              "        text-align: right;\n",
              "    }\n",
              "</style>\n",
              "<table border=\"1\" class=\"dataframe\">\n",
              "  <thead>\n",
              "    <tr style=\"text-align: right;\">\n",
              "      <th></th>\n",
              "      <th>Id</th>\n",
              "      <th>carat</th>\n",
              "      <th>depth</th>\n",
              "      <th>table</th>\n",
              "      <th>price</th>\n",
              "      <th>volume</th>\n",
              "      <th>carat_per_x</th>\n",
              "      <th>cut_Fair</th>\n",
              "      <th>cut_Good</th>\n",
              "      <th>cut_Ideal</th>\n",
              "      <th>...</th>\n",
              "      <th>color_I</th>\n",
              "      <th>color_J</th>\n",
              "      <th>clarity_I1</th>\n",
              "      <th>clarity_IF</th>\n",
              "      <th>clarity_SI1</th>\n",
              "      <th>clarity_SI2</th>\n",
              "      <th>clarity_VS1</th>\n",
              "      <th>clarity_VS2</th>\n",
              "      <th>clarity_VVS1</th>\n",
              "      <th>clarity_VVS2</th>\n",
              "    </tr>\n",
              "  </thead>\n",
              "  <tbody>\n",
              "    <tr>\n",
              "      <th>14768</th>\n",
              "      <td>14769</td>\n",
              "      <td>2.02</td>\n",
              "      <td>59.8</td>\n",
              "      <td>60.0</td>\n",
              "      <td>12713</td>\n",
              "      <td>328.268640</td>\n",
              "      <td>0.246041</td>\n",
              "      <td>0</td>\n",
              "      <td>0</td>\n",
              "      <td>1</td>\n",
              "      <td>...</td>\n",
              "      <td>0</td>\n",
              "      <td>1</td>\n",
              "      <td>0</td>\n",
              "      <td>0</td>\n",
              "      <td>1</td>\n",
              "      <td>0</td>\n",
              "      <td>0</td>\n",
              "      <td>0</td>\n",
              "      <td>0</td>\n",
              "      <td>0</td>\n",
              "    </tr>\n",
              "    <tr>\n",
              "      <th>33287</th>\n",
              "      <td>33288</td>\n",
              "      <td>1.50</td>\n",
              "      <td>60.2</td>\n",
              "      <td>58.0</td>\n",
              "      <td>13720</td>\n",
              "      <td>243.351810</td>\n",
              "      <td>0.202429</td>\n",
              "      <td>0</td>\n",
              "      <td>0</td>\n",
              "      <td>0</td>\n",
              "      <td>...</td>\n",
              "      <td>0</td>\n",
              "      <td>0</td>\n",
              "      <td>0</td>\n",
              "      <td>0</td>\n",
              "      <td>0</td>\n",
              "      <td>0</td>\n",
              "      <td>1</td>\n",
              "      <td>0</td>\n",
              "      <td>0</td>\n",
              "      <td>0</td>\n",
              "    </tr>\n",
              "    <tr>\n",
              "      <th>2181</th>\n",
              "      <td>2182</td>\n",
              "      <td>1.04</td>\n",
              "      <td>61.1</td>\n",
              "      <td>59.0</td>\n",
              "      <td>7175</td>\n",
              "      <td>171.609600</td>\n",
              "      <td>0.158537</td>\n",
              "      <td>0</td>\n",
              "      <td>0</td>\n",
              "      <td>0</td>\n",
              "      <td>...</td>\n",
              "      <td>0</td>\n",
              "      <td>0</td>\n",
              "      <td>0</td>\n",
              "      <td>0</td>\n",
              "      <td>0</td>\n",
              "      <td>0</td>\n",
              "      <td>0</td>\n",
              "      <td>1</td>\n",
              "      <td>0</td>\n",
              "      <td>0</td>\n",
              "    </tr>\n",
              "    <tr>\n",
              "      <th>27850</th>\n",
              "      <td>27851</td>\n",
              "      <td>0.30</td>\n",
              "      <td>62.5</td>\n",
              "      <td>58.0</td>\n",
              "      <td>844</td>\n",
              "      <td>49.206408</td>\n",
              "      <td>0.069606</td>\n",
              "      <td>0</td>\n",
              "      <td>0</td>\n",
              "      <td>0</td>\n",
              "      <td>...</td>\n",
              "      <td>0</td>\n",
              "      <td>0</td>\n",
              "      <td>0</td>\n",
              "      <td>0</td>\n",
              "      <td>0</td>\n",
              "      <td>0</td>\n",
              "      <td>0</td>\n",
              "      <td>1</td>\n",
              "      <td>0</td>\n",
              "      <td>0</td>\n",
              "    </tr>\n",
              "    <tr>\n",
              "      <th>13752</th>\n",
              "      <td>13753</td>\n",
              "      <td>1.03</td>\n",
              "      <td>62.0</td>\n",
              "      <td>58.0</td>\n",
              "      <td>4326</td>\n",
              "      <td>166.408400</td>\n",
              "      <td>0.159196</td>\n",
              "      <td>0</td>\n",
              "      <td>0</td>\n",
              "      <td>0</td>\n",
              "      <td>...</td>\n",
              "      <td>1</td>\n",
              "      <td>0</td>\n",
              "      <td>0</td>\n",
              "      <td>0</td>\n",
              "      <td>1</td>\n",
              "      <td>0</td>\n",
              "      <td>0</td>\n",
              "      <td>0</td>\n",
              "      <td>0</td>\n",
              "      <td>0</td>\n",
              "    </tr>\n",
              "  </tbody>\n",
              "</table>\n",
              "<p>5 rows × 27 columns</p>\n",
              "</div>\n",
              "      <button class=\"colab-df-convert\" onclick=\"convertToInteractive('df-1864bd7b-dda3-4595-af04-3e8c466b688b')\"\n",
              "              title=\"Convert this dataframe to an interactive table.\"\n",
              "              style=\"display:none;\">\n",
              "        \n",
              "  <svg xmlns=\"http://www.w3.org/2000/svg\" height=\"24px\"viewBox=\"0 0 24 24\"\n",
              "       width=\"24px\">\n",
              "    <path d=\"M0 0h24v24H0V0z\" fill=\"none\"/>\n",
              "    <path d=\"M18.56 5.44l.94 2.06.94-2.06 2.06-.94-2.06-.94-.94-2.06-.94 2.06-2.06.94zm-11 1L8.5 8.5l.94-2.06 2.06-.94-2.06-.94L8.5 2.5l-.94 2.06-2.06.94zm10 10l.94 2.06.94-2.06 2.06-.94-2.06-.94-.94-2.06-.94 2.06-2.06.94z\"/><path d=\"M17.41 7.96l-1.37-1.37c-.4-.4-.92-.59-1.43-.59-.52 0-1.04.2-1.43.59L10.3 9.45l-7.72 7.72c-.78.78-.78 2.05 0 2.83L4 21.41c.39.39.9.59 1.41.59.51 0 1.02-.2 1.41-.59l7.78-7.78 2.81-2.81c.8-.78.8-2.07 0-2.86zM5.41 20L4 18.59l7.72-7.72 1.47 1.35L5.41 20z\"/>\n",
              "  </svg>\n",
              "      </button>\n",
              "      \n",
              "  <style>\n",
              "    .colab-df-container {\n",
              "      display:flex;\n",
              "      flex-wrap:wrap;\n",
              "      gap: 12px;\n",
              "    }\n",
              "\n",
              "    .colab-df-convert {\n",
              "      background-color: #E8F0FE;\n",
              "      border: none;\n",
              "      border-radius: 50%;\n",
              "      cursor: pointer;\n",
              "      display: none;\n",
              "      fill: #1967D2;\n",
              "      height: 32px;\n",
              "      padding: 0 0 0 0;\n",
              "      width: 32px;\n",
              "    }\n",
              "\n",
              "    .colab-df-convert:hover {\n",
              "      background-color: #E2EBFA;\n",
              "      box-shadow: 0px 1px 2px rgba(60, 64, 67, 0.3), 0px 1px 3px 1px rgba(60, 64, 67, 0.15);\n",
              "      fill: #174EA6;\n",
              "    }\n",
              "\n",
              "    [theme=dark] .colab-df-convert {\n",
              "      background-color: #3B4455;\n",
              "      fill: #D2E3FC;\n",
              "    }\n",
              "\n",
              "    [theme=dark] .colab-df-convert:hover {\n",
              "      background-color: #434B5C;\n",
              "      box-shadow: 0px 1px 3px 1px rgba(0, 0, 0, 0.15);\n",
              "      filter: drop-shadow(0px 1px 2px rgba(0, 0, 0, 0.3));\n",
              "      fill: #FFFFFF;\n",
              "    }\n",
              "  </style>\n",
              "\n",
              "      <script>\n",
              "        const buttonEl =\n",
              "          document.querySelector('#df-1864bd7b-dda3-4595-af04-3e8c466b688b button.colab-df-convert');\n",
              "        buttonEl.style.display =\n",
              "          google.colab.kernel.accessAllowed ? 'block' : 'none';\n",
              "\n",
              "        async function convertToInteractive(key) {\n",
              "          const element = document.querySelector('#df-1864bd7b-dda3-4595-af04-3e8c466b688b');\n",
              "          const dataTable =\n",
              "            await google.colab.kernel.invokeFunction('convertToInteractive',\n",
              "                                                     [key], {});\n",
              "          if (!dataTable) return;\n",
              "\n",
              "          const docLinkHtml = 'Like what you see? Visit the ' +\n",
              "            '<a target=\"_blank\" href=https://colab.research.google.com/notebooks/data_table.ipynb>data table notebook</a>'\n",
              "            + ' to learn more about interactive tables.';\n",
              "          element.innerHTML = '';\n",
              "          dataTable['output_type'] = 'display_data';\n",
              "          await google.colab.output.renderOutput(dataTable, element);\n",
              "          const docLink = document.createElement('div');\n",
              "          docLink.innerHTML = docLinkHtml;\n",
              "          element.appendChild(docLink);\n",
              "        }\n",
              "      </script>\n",
              "    </div>\n",
              "  </div>\n",
              "  "
            ]
          },
          "metadata": {},
          "execution_count": 50
        }
      ]
    },
    {
      "cell_type": "code",
      "source": [
        "numericals =  pd.DataFrame(sc_X.transform(test_clean_data[['carat','depth','table','volume','carat_per_x']]),\n",
        "                           columns=['carat','depth','table','volume','carat_per_x'],\n",
        "                           index=test_clean_data.index)\n",
        "\n",
        "test_clean_data_standard = test_clean_data.copy(deep=True)\n",
        "test_clean_data_standard[['carat','depth','table','volume','carat_per_x']] = numericals[['carat','depth','table','volume','carat_per_x']]"
      ],
      "metadata": {
        "id": "EySsYtk2a9VF"
      },
      "execution_count": null,
      "outputs": []
    },
    {
      "cell_type": "code",
      "source": [
        "test"
      ],
      "metadata": {
        "colab": {
          "base_uri": "https://localhost:8080/",
          "height": 423
        },
        "id": "sUb9reLDZW6b",
        "outputId": "222b8729-2cb7-4336-c786-8f776dffa65f"
      },
      "execution_count": null,
      "outputs": [
        {
          "output_type": "execute_result",
          "data": {
            "text/plain": [
              "          Id  carat        cut color clarity  depth  table  price      volume  \\\n",
              "14768  14769   2.02      Ideal     J     SI1   59.8   60.0  12713  328.268640   \n",
              "33287  33288   1.50    Premium     G     VS1   60.2   58.0  13720  243.351810   \n",
              "2181    2182   1.04    Premium     E     VS2   61.1   59.0   7175  171.609600   \n",
              "27850  27851   0.30    Premium     E     VS2   62.5   58.0    844   49.206408   \n",
              "13752  13753   1.03    Premium     I     SI1   62.0   58.0   4326  166.408400   \n",
              "...      ...    ...        ...   ...     ...    ...    ...    ...         ...   \n",
              "16604  16605   1.07      Ideal     F     VS2   62.0   57.0   6459  171.584400   \n",
              "40456  40457   0.32    Premium     J     VS1   61.7   58.0    540   52.227120   \n",
              "35782  35783   1.21  Very Good     G     SI2   62.8   60.0   5558  191.868570   \n",
              "20632  20633   1.02      Ideal     E     SI2   61.6   55.0   4824  168.476800   \n",
              "1632    1633   1.53    Premium     G     SI1   58.4   59.0   9476  254.862330   \n",
              "\n",
              "       carat_per_x  \n",
              "14768     0.246041  \n",
              "33287     0.202429  \n",
              "2181      0.158537  \n",
              "27850     0.069606  \n",
              "13752     0.159196  \n",
              "...            ...  \n",
              "16604     0.164615  \n",
              "40456     0.072727  \n",
              "35782     0.180597  \n",
              "20632     0.157895  \n",
              "1632      0.200787  \n",
              "\n",
              "[8631 rows x 10 columns]"
            ],
            "text/html": [
              "\n",
              "  <div id=\"df-43414865-68da-4708-b51f-f2d727c62f56\">\n",
              "    <div class=\"colab-df-container\">\n",
              "      <div>\n",
              "<style scoped>\n",
              "    .dataframe tbody tr th:only-of-type {\n",
              "        vertical-align: middle;\n",
              "    }\n",
              "\n",
              "    .dataframe tbody tr th {\n",
              "        vertical-align: top;\n",
              "    }\n",
              "\n",
              "    .dataframe thead th {\n",
              "        text-align: right;\n",
              "    }\n",
              "</style>\n",
              "<table border=\"1\" class=\"dataframe\">\n",
              "  <thead>\n",
              "    <tr style=\"text-align: right;\">\n",
              "      <th></th>\n",
              "      <th>Id</th>\n",
              "      <th>carat</th>\n",
              "      <th>cut</th>\n",
              "      <th>color</th>\n",
              "      <th>clarity</th>\n",
              "      <th>depth</th>\n",
              "      <th>table</th>\n",
              "      <th>price</th>\n",
              "      <th>volume</th>\n",
              "      <th>carat_per_x</th>\n",
              "    </tr>\n",
              "  </thead>\n",
              "  <tbody>\n",
              "    <tr>\n",
              "      <th>14768</th>\n",
              "      <td>14769</td>\n",
              "      <td>2.02</td>\n",
              "      <td>Ideal</td>\n",
              "      <td>J</td>\n",
              "      <td>SI1</td>\n",
              "      <td>59.8</td>\n",
              "      <td>60.0</td>\n",
              "      <td>12713</td>\n",
              "      <td>328.268640</td>\n",
              "      <td>0.246041</td>\n",
              "    </tr>\n",
              "    <tr>\n",
              "      <th>33287</th>\n",
              "      <td>33288</td>\n",
              "      <td>1.50</td>\n",
              "      <td>Premium</td>\n",
              "      <td>G</td>\n",
              "      <td>VS1</td>\n",
              "      <td>60.2</td>\n",
              "      <td>58.0</td>\n",
              "      <td>13720</td>\n",
              "      <td>243.351810</td>\n",
              "      <td>0.202429</td>\n",
              "    </tr>\n",
              "    <tr>\n",
              "      <th>2181</th>\n",
              "      <td>2182</td>\n",
              "      <td>1.04</td>\n",
              "      <td>Premium</td>\n",
              "      <td>E</td>\n",
              "      <td>VS2</td>\n",
              "      <td>61.1</td>\n",
              "      <td>59.0</td>\n",
              "      <td>7175</td>\n",
              "      <td>171.609600</td>\n",
              "      <td>0.158537</td>\n",
              "    </tr>\n",
              "    <tr>\n",
              "      <th>27850</th>\n",
              "      <td>27851</td>\n",
              "      <td>0.30</td>\n",
              "      <td>Premium</td>\n",
              "      <td>E</td>\n",
              "      <td>VS2</td>\n",
              "      <td>62.5</td>\n",
              "      <td>58.0</td>\n",
              "      <td>844</td>\n",
              "      <td>49.206408</td>\n",
              "      <td>0.069606</td>\n",
              "    </tr>\n",
              "    <tr>\n",
              "      <th>13752</th>\n",
              "      <td>13753</td>\n",
              "      <td>1.03</td>\n",
              "      <td>Premium</td>\n",
              "      <td>I</td>\n",
              "      <td>SI1</td>\n",
              "      <td>62.0</td>\n",
              "      <td>58.0</td>\n",
              "      <td>4326</td>\n",
              "      <td>166.408400</td>\n",
              "      <td>0.159196</td>\n",
              "    </tr>\n",
              "    <tr>\n",
              "      <th>...</th>\n",
              "      <td>...</td>\n",
              "      <td>...</td>\n",
              "      <td>...</td>\n",
              "      <td>...</td>\n",
              "      <td>...</td>\n",
              "      <td>...</td>\n",
              "      <td>...</td>\n",
              "      <td>...</td>\n",
              "      <td>...</td>\n",
              "      <td>...</td>\n",
              "    </tr>\n",
              "    <tr>\n",
              "      <th>16604</th>\n",
              "      <td>16605</td>\n",
              "      <td>1.07</td>\n",
              "      <td>Ideal</td>\n",
              "      <td>F</td>\n",
              "      <td>VS2</td>\n",
              "      <td>62.0</td>\n",
              "      <td>57.0</td>\n",
              "      <td>6459</td>\n",
              "      <td>171.584400</td>\n",
              "      <td>0.164615</td>\n",
              "    </tr>\n",
              "    <tr>\n",
              "      <th>40456</th>\n",
              "      <td>40457</td>\n",
              "      <td>0.32</td>\n",
              "      <td>Premium</td>\n",
              "      <td>J</td>\n",
              "      <td>VS1</td>\n",
              "      <td>61.7</td>\n",
              "      <td>58.0</td>\n",
              "      <td>540</td>\n",
              "      <td>52.227120</td>\n",
              "      <td>0.072727</td>\n",
              "    </tr>\n",
              "    <tr>\n",
              "      <th>35782</th>\n",
              "      <td>35783</td>\n",
              "      <td>1.21</td>\n",
              "      <td>Very Good</td>\n",
              "      <td>G</td>\n",
              "      <td>SI2</td>\n",
              "      <td>62.8</td>\n",
              "      <td>60.0</td>\n",
              "      <td>5558</td>\n",
              "      <td>191.868570</td>\n",
              "      <td>0.180597</td>\n",
              "    </tr>\n",
              "    <tr>\n",
              "      <th>20632</th>\n",
              "      <td>20633</td>\n",
              "      <td>1.02</td>\n",
              "      <td>Ideal</td>\n",
              "      <td>E</td>\n",
              "      <td>SI2</td>\n",
              "      <td>61.6</td>\n",
              "      <td>55.0</td>\n",
              "      <td>4824</td>\n",
              "      <td>168.476800</td>\n",
              "      <td>0.157895</td>\n",
              "    </tr>\n",
              "    <tr>\n",
              "      <th>1632</th>\n",
              "      <td>1633</td>\n",
              "      <td>1.53</td>\n",
              "      <td>Premium</td>\n",
              "      <td>G</td>\n",
              "      <td>SI1</td>\n",
              "      <td>58.4</td>\n",
              "      <td>59.0</td>\n",
              "      <td>9476</td>\n",
              "      <td>254.862330</td>\n",
              "      <td>0.200787</td>\n",
              "    </tr>\n",
              "  </tbody>\n",
              "</table>\n",
              "<p>8631 rows × 10 columns</p>\n",
              "</div>\n",
              "      <button class=\"colab-df-convert\" onclick=\"convertToInteractive('df-43414865-68da-4708-b51f-f2d727c62f56')\"\n",
              "              title=\"Convert this dataframe to an interactive table.\"\n",
              "              style=\"display:none;\">\n",
              "        \n",
              "  <svg xmlns=\"http://www.w3.org/2000/svg\" height=\"24px\"viewBox=\"0 0 24 24\"\n",
              "       width=\"24px\">\n",
              "    <path d=\"M0 0h24v24H0V0z\" fill=\"none\"/>\n",
              "    <path d=\"M18.56 5.44l.94 2.06.94-2.06 2.06-.94-2.06-.94-.94-2.06-.94 2.06-2.06.94zm-11 1L8.5 8.5l.94-2.06 2.06-.94-2.06-.94L8.5 2.5l-.94 2.06-2.06.94zm10 10l.94 2.06.94-2.06 2.06-.94-2.06-.94-.94-2.06-.94 2.06-2.06.94z\"/><path d=\"M17.41 7.96l-1.37-1.37c-.4-.4-.92-.59-1.43-.59-.52 0-1.04.2-1.43.59L10.3 9.45l-7.72 7.72c-.78.78-.78 2.05 0 2.83L4 21.41c.39.39.9.59 1.41.59.51 0 1.02-.2 1.41-.59l7.78-7.78 2.81-2.81c.8-.78.8-2.07 0-2.86zM5.41 20L4 18.59l7.72-7.72 1.47 1.35L5.41 20z\"/>\n",
              "  </svg>\n",
              "      </button>\n",
              "      \n",
              "  <style>\n",
              "    .colab-df-container {\n",
              "      display:flex;\n",
              "      flex-wrap:wrap;\n",
              "      gap: 12px;\n",
              "    }\n",
              "\n",
              "    .colab-df-convert {\n",
              "      background-color: #E8F0FE;\n",
              "      border: none;\n",
              "      border-radius: 50%;\n",
              "      cursor: pointer;\n",
              "      display: none;\n",
              "      fill: #1967D2;\n",
              "      height: 32px;\n",
              "      padding: 0 0 0 0;\n",
              "      width: 32px;\n",
              "    }\n",
              "\n",
              "    .colab-df-convert:hover {\n",
              "      background-color: #E2EBFA;\n",
              "      box-shadow: 0px 1px 2px rgba(60, 64, 67, 0.3), 0px 1px 3px 1px rgba(60, 64, 67, 0.15);\n",
              "      fill: #174EA6;\n",
              "    }\n",
              "\n",
              "    [theme=dark] .colab-df-convert {\n",
              "      background-color: #3B4455;\n",
              "      fill: #D2E3FC;\n",
              "    }\n",
              "\n",
              "    [theme=dark] .colab-df-convert:hover {\n",
              "      background-color: #434B5C;\n",
              "      box-shadow: 0px 1px 3px 1px rgba(0, 0, 0, 0.15);\n",
              "      filter: drop-shadow(0px 1px 2px rgba(0, 0, 0, 0.3));\n",
              "      fill: #FFFFFF;\n",
              "    }\n",
              "  </style>\n",
              "\n",
              "      <script>\n",
              "        const buttonEl =\n",
              "          document.querySelector('#df-43414865-68da-4708-b51f-f2d727c62f56 button.colab-df-convert');\n",
              "        buttonEl.style.display =\n",
              "          google.colab.kernel.accessAllowed ? 'block' : 'none';\n",
              "\n",
              "        async function convertToInteractive(key) {\n",
              "          const element = document.querySelector('#df-43414865-68da-4708-b51f-f2d727c62f56');\n",
              "          const dataTable =\n",
              "            await google.colab.kernel.invokeFunction('convertToInteractive',\n",
              "                                                     [key], {});\n",
              "          if (!dataTable) return;\n",
              "\n",
              "          const docLinkHtml = 'Like what you see? Visit the ' +\n",
              "            '<a target=\"_blank\" href=https://colab.research.google.com/notebooks/data_table.ipynb>data table notebook</a>'\n",
              "            + ' to learn more about interactive tables.';\n",
              "          element.innerHTML = '';\n",
              "          dataTable['output_type'] = 'display_data';\n",
              "          await google.colab.output.renderOutput(dataTable, element);\n",
              "          const docLink = document.createElement('div');\n",
              "          docLink.innerHTML = docLinkHtml;\n",
              "          element.appendChild(docLink);\n",
              "        }\n",
              "      </script>\n",
              "    </div>\n",
              "  </div>\n",
              "  "
            ]
          },
          "metadata": {},
          "execution_count": 52
        }
      ]
    },
    {
      "cell_type": "code",
      "source": [
        "# test['volume'] = test.x * test.y * test.z\n",
        "# test['carat_per_x'] = test['carat'] / test['x']\n",
        "# test = test.drop(['x','y','z'], axis=1)"
      ],
      "metadata": {
        "id": "WD_VeXTPUpDz"
      },
      "execution_count": null,
      "outputs": []
    },
    {
      "cell_type": "code",
      "source": [
        "X_test =test_clean_data_standard.drop([\"price\"],axis=1)\n",
        "X_test.head()"
      ],
      "metadata": {
        "id": "9NRZvCn-LWav",
        "colab": {
          "base_uri": "https://localhost:8080/",
          "height": 299
        },
        "outputId": "34b17ca2-09de-4956-c5ab-4aec1e68aa79"
      },
      "execution_count": null,
      "outputs": [
        {
          "output_type": "execute_result",
          "data": {
            "text/plain": [
              "          Id     carat     depth     table    volume  carat_per_x  cut_Fair  \\\n",
              "14768  14769  3.380851 -1.366513  1.156435  3.392209     2.843820         0   \n",
              "33287  33288  2.026386 -1.087316  0.256102  2.024969     1.846207         0   \n",
              "2181    2182  0.828206 -0.459121  0.706269  0.869853     0.842182         0   \n",
              "27850  27851 -1.099302  0.518070  0.256102 -1.100952    -1.192080         0   \n",
              "13752  13753  0.802158  0.169073  0.256102  0.786109     0.857272         0   \n",
              "\n",
              "       cut_Good  cut_Ideal  cut_Premium  ...  color_I  color_J  clarity_I1  \\\n",
              "14768         0          1            0  ...        0        1           0   \n",
              "33287         0          0            1  ...        0        0           0   \n",
              "2181          0          0            1  ...        0        0           0   \n",
              "27850         0          0            1  ...        0        0           0   \n",
              "13752         0          0            1  ...        1        0           0   \n",
              "\n",
              "       clarity_IF  clarity_SI1  clarity_SI2  clarity_VS1  clarity_VS2  \\\n",
              "14768           0            1            0            0            0   \n",
              "33287           0            0            0            1            0   \n",
              "2181            0            0            0            0            1   \n",
              "27850           0            0            0            0            1   \n",
              "13752           0            1            0            0            0   \n",
              "\n",
              "       clarity_VVS1  clarity_VVS2  \n",
              "14768             0             0  \n",
              "33287             0             0  \n",
              "2181              0             0  \n",
              "27850             0             0  \n",
              "13752             0             0  \n",
              "\n",
              "[5 rows x 26 columns]"
            ],
            "text/html": [
              "\n",
              "  <div id=\"df-e4a005ad-c54a-435a-bdef-b75d55abf460\">\n",
              "    <div class=\"colab-df-container\">\n",
              "      <div>\n",
              "<style scoped>\n",
              "    .dataframe tbody tr th:only-of-type {\n",
              "        vertical-align: middle;\n",
              "    }\n",
              "\n",
              "    .dataframe tbody tr th {\n",
              "        vertical-align: top;\n",
              "    }\n",
              "\n",
              "    .dataframe thead th {\n",
              "        text-align: right;\n",
              "    }\n",
              "</style>\n",
              "<table border=\"1\" class=\"dataframe\">\n",
              "  <thead>\n",
              "    <tr style=\"text-align: right;\">\n",
              "      <th></th>\n",
              "      <th>Id</th>\n",
              "      <th>carat</th>\n",
              "      <th>depth</th>\n",
              "      <th>table</th>\n",
              "      <th>volume</th>\n",
              "      <th>carat_per_x</th>\n",
              "      <th>cut_Fair</th>\n",
              "      <th>cut_Good</th>\n",
              "      <th>cut_Ideal</th>\n",
              "      <th>cut_Premium</th>\n",
              "      <th>...</th>\n",
              "      <th>color_I</th>\n",
              "      <th>color_J</th>\n",
              "      <th>clarity_I1</th>\n",
              "      <th>clarity_IF</th>\n",
              "      <th>clarity_SI1</th>\n",
              "      <th>clarity_SI2</th>\n",
              "      <th>clarity_VS1</th>\n",
              "      <th>clarity_VS2</th>\n",
              "      <th>clarity_VVS1</th>\n",
              "      <th>clarity_VVS2</th>\n",
              "    </tr>\n",
              "  </thead>\n",
              "  <tbody>\n",
              "    <tr>\n",
              "      <th>14768</th>\n",
              "      <td>14769</td>\n",
              "      <td>3.380851</td>\n",
              "      <td>-1.366513</td>\n",
              "      <td>1.156435</td>\n",
              "      <td>3.392209</td>\n",
              "      <td>2.843820</td>\n",
              "      <td>0</td>\n",
              "      <td>0</td>\n",
              "      <td>1</td>\n",
              "      <td>0</td>\n",
              "      <td>...</td>\n",
              "      <td>0</td>\n",
              "      <td>1</td>\n",
              "      <td>0</td>\n",
              "      <td>0</td>\n",
              "      <td>1</td>\n",
              "      <td>0</td>\n",
              "      <td>0</td>\n",
              "      <td>0</td>\n",
              "      <td>0</td>\n",
              "      <td>0</td>\n",
              "    </tr>\n",
              "    <tr>\n",
              "      <th>33287</th>\n",
              "      <td>33288</td>\n",
              "      <td>2.026386</td>\n",
              "      <td>-1.087316</td>\n",
              "      <td>0.256102</td>\n",
              "      <td>2.024969</td>\n",
              "      <td>1.846207</td>\n",
              "      <td>0</td>\n",
              "      <td>0</td>\n",
              "      <td>0</td>\n",
              "      <td>1</td>\n",
              "      <td>...</td>\n",
              "      <td>0</td>\n",
              "      <td>0</td>\n",
              "      <td>0</td>\n",
              "      <td>0</td>\n",
              "      <td>0</td>\n",
              "      <td>0</td>\n",
              "      <td>1</td>\n",
              "      <td>0</td>\n",
              "      <td>0</td>\n",
              "      <td>0</td>\n",
              "    </tr>\n",
              "    <tr>\n",
              "      <th>2181</th>\n",
              "      <td>2182</td>\n",
              "      <td>0.828206</td>\n",
              "      <td>-0.459121</td>\n",
              "      <td>0.706269</td>\n",
              "      <td>0.869853</td>\n",
              "      <td>0.842182</td>\n",
              "      <td>0</td>\n",
              "      <td>0</td>\n",
              "      <td>0</td>\n",
              "      <td>1</td>\n",
              "      <td>...</td>\n",
              "      <td>0</td>\n",
              "      <td>0</td>\n",
              "      <td>0</td>\n",
              "      <td>0</td>\n",
              "      <td>0</td>\n",
              "      <td>0</td>\n",
              "      <td>0</td>\n",
              "      <td>1</td>\n",
              "      <td>0</td>\n",
              "      <td>0</td>\n",
              "    </tr>\n",
              "    <tr>\n",
              "      <th>27850</th>\n",
              "      <td>27851</td>\n",
              "      <td>-1.099302</td>\n",
              "      <td>0.518070</td>\n",
              "      <td>0.256102</td>\n",
              "      <td>-1.100952</td>\n",
              "      <td>-1.192080</td>\n",
              "      <td>0</td>\n",
              "      <td>0</td>\n",
              "      <td>0</td>\n",
              "      <td>1</td>\n",
              "      <td>...</td>\n",
              "      <td>0</td>\n",
              "      <td>0</td>\n",
              "      <td>0</td>\n",
              "      <td>0</td>\n",
              "      <td>0</td>\n",
              "      <td>0</td>\n",
              "      <td>0</td>\n",
              "      <td>1</td>\n",
              "      <td>0</td>\n",
              "      <td>0</td>\n",
              "    </tr>\n",
              "    <tr>\n",
              "      <th>13752</th>\n",
              "      <td>13753</td>\n",
              "      <td>0.802158</td>\n",
              "      <td>0.169073</td>\n",
              "      <td>0.256102</td>\n",
              "      <td>0.786109</td>\n",
              "      <td>0.857272</td>\n",
              "      <td>0</td>\n",
              "      <td>0</td>\n",
              "      <td>0</td>\n",
              "      <td>1</td>\n",
              "      <td>...</td>\n",
              "      <td>1</td>\n",
              "      <td>0</td>\n",
              "      <td>0</td>\n",
              "      <td>0</td>\n",
              "      <td>1</td>\n",
              "      <td>0</td>\n",
              "      <td>0</td>\n",
              "      <td>0</td>\n",
              "      <td>0</td>\n",
              "      <td>0</td>\n",
              "    </tr>\n",
              "  </tbody>\n",
              "</table>\n",
              "<p>5 rows × 26 columns</p>\n",
              "</div>\n",
              "      <button class=\"colab-df-convert\" onclick=\"convertToInteractive('df-e4a005ad-c54a-435a-bdef-b75d55abf460')\"\n",
              "              title=\"Convert this dataframe to an interactive table.\"\n",
              "              style=\"display:none;\">\n",
              "        \n",
              "  <svg xmlns=\"http://www.w3.org/2000/svg\" height=\"24px\"viewBox=\"0 0 24 24\"\n",
              "       width=\"24px\">\n",
              "    <path d=\"M0 0h24v24H0V0z\" fill=\"none\"/>\n",
              "    <path d=\"M18.56 5.44l.94 2.06.94-2.06 2.06-.94-2.06-.94-.94-2.06-.94 2.06-2.06.94zm-11 1L8.5 8.5l.94-2.06 2.06-.94-2.06-.94L8.5 2.5l-.94 2.06-2.06.94zm10 10l.94 2.06.94-2.06 2.06-.94-2.06-.94-.94-2.06-.94 2.06-2.06.94z\"/><path d=\"M17.41 7.96l-1.37-1.37c-.4-.4-.92-.59-1.43-.59-.52 0-1.04.2-1.43.59L10.3 9.45l-7.72 7.72c-.78.78-.78 2.05 0 2.83L4 21.41c.39.39.9.59 1.41.59.51 0 1.02-.2 1.41-.59l7.78-7.78 2.81-2.81c.8-.78.8-2.07 0-2.86zM5.41 20L4 18.59l7.72-7.72 1.47 1.35L5.41 20z\"/>\n",
              "  </svg>\n",
              "      </button>\n",
              "      \n",
              "  <style>\n",
              "    .colab-df-container {\n",
              "      display:flex;\n",
              "      flex-wrap:wrap;\n",
              "      gap: 12px;\n",
              "    }\n",
              "\n",
              "    .colab-df-convert {\n",
              "      background-color: #E8F0FE;\n",
              "      border: none;\n",
              "      border-radius: 50%;\n",
              "      cursor: pointer;\n",
              "      display: none;\n",
              "      fill: #1967D2;\n",
              "      height: 32px;\n",
              "      padding: 0 0 0 0;\n",
              "      width: 32px;\n",
              "    }\n",
              "\n",
              "    .colab-df-convert:hover {\n",
              "      background-color: #E2EBFA;\n",
              "      box-shadow: 0px 1px 2px rgba(60, 64, 67, 0.3), 0px 1px 3px 1px rgba(60, 64, 67, 0.15);\n",
              "      fill: #174EA6;\n",
              "    }\n",
              "\n",
              "    [theme=dark] .colab-df-convert {\n",
              "      background-color: #3B4455;\n",
              "      fill: #D2E3FC;\n",
              "    }\n",
              "\n",
              "    [theme=dark] .colab-df-convert:hover {\n",
              "      background-color: #434B5C;\n",
              "      box-shadow: 0px 1px 3px 1px rgba(0, 0, 0, 0.15);\n",
              "      filter: drop-shadow(0px 1px 2px rgba(0, 0, 0, 0.3));\n",
              "      fill: #FFFFFF;\n",
              "    }\n",
              "  </style>\n",
              "\n",
              "      <script>\n",
              "        const buttonEl =\n",
              "          document.querySelector('#df-e4a005ad-c54a-435a-bdef-b75d55abf460 button.colab-df-convert');\n",
              "        buttonEl.style.display =\n",
              "          google.colab.kernel.accessAllowed ? 'block' : 'none';\n",
              "\n",
              "        async function convertToInteractive(key) {\n",
              "          const element = document.querySelector('#df-e4a005ad-c54a-435a-bdef-b75d55abf460');\n",
              "          const dataTable =\n",
              "            await google.colab.kernel.invokeFunction('convertToInteractive',\n",
              "                                                     [key], {});\n",
              "          if (!dataTable) return;\n",
              "\n",
              "          const docLinkHtml = 'Like what you see? Visit the ' +\n",
              "            '<a target=\"_blank\" href=https://colab.research.google.com/notebooks/data_table.ipynb>data table notebook</a>'\n",
              "            + ' to learn more about interactive tables.';\n",
              "          element.innerHTML = '';\n",
              "          dataTable['output_type'] = 'display_data';\n",
              "          await google.colab.output.renderOutput(dataTable, element);\n",
              "          const docLink = document.createElement('div');\n",
              "          docLink.innerHTML = docLinkHtml;\n",
              "          element.appendChild(docLink);\n",
              "        }\n",
              "      </script>\n",
              "    </div>\n",
              "  </div>\n",
              "  "
            ]
          },
          "metadata": {},
          "execution_count": 54
        }
      ]
    },
    {
      "cell_type": "code",
      "source": [
        "X_test.shape"
      ],
      "metadata": {
        "colab": {
          "base_uri": "https://localhost:8080/"
        },
        "id": "FyxTnROY362D",
        "outputId": "9135d5d9-16af-4e8a-be61-726e8c1b7399"
      },
      "execution_count": null,
      "outputs": [
        {
          "output_type": "execute_result",
          "data": {
            "text/plain": [
              "(8631, 26)"
            ]
          },
          "metadata": {},
          "execution_count": 55
        }
      ]
    },
    {
      "cell_type": "code",
      "source": [
        "y_test=test['price']"
      ],
      "metadata": {
        "id": "CSy3dWp53thD"
      },
      "execution_count": null,
      "outputs": []
    },
    {
      "cell_type": "code",
      "source": [
        "rmse_ = []\n",
        "def evaluate_model(model, X, y):\n",
        "    # Fit the model\n",
        "    model.fit(X, y)\n",
        "    \n",
        "    # Make predictions on the training data\n",
        "    y_pred = model.predict(X)\n",
        "    \n",
        "    # Calculate evaluation metrics\n",
        "    mae = mean_absolute_error(y, y_pred)\n",
        "    mse = mean_squared_error(y, y_pred)\n",
        "    rmse = np.sqrt(mse)\n",
        "    \n",
        "    # Perform cross-validation\n",
        "    cv_scores = cross_val_score(model, X, y, scoring=\"neg_mean_squared_error\", cv=10)\n",
        "    rmse_scores = np.sqrt(-cv_scores)\n",
        "    avg_rmse = rmse_scores.mean()\n",
        "    std_rmse = rmse_scores.std()\n",
        "    \n",
        "    # Return the evaluation metrics\n",
        "    return mae, rmse, rmse_scores, avg_rmse, std_rmse\n"
      ],
      "metadata": {
        "id": "rRaNj_sVS4gt"
      },
      "execution_count": null,
      "outputs": []
    },
    {
      "cell_type": "markdown",
      "source": [
        "`These metrics help evaluate the accuracy and performance of my regression model for predicting diamond prices. Lower values of MAE and RMSE indicate better performance, while a smaller standard deviation suggests more consistent performance across different folds.`"
      ],
      "metadata": {
        "id": "DcGk5WxXcyjr"
      }
    },
    {
      "cell_type": "code",
      "source": [
        "def mean_squarederror(y_pred, y_test):\n",
        "    mse = mean_squared_error(y_pred, y_test)\n",
        "    rmse = np.sqrt(mse)\n",
        "    return rmse"
      ],
      "metadata": {
        "id": "xHq3k6x7SyfC"
      },
      "execution_count": null,
      "outputs": []
    },
    {
      "cell_type": "markdown",
      "source": [
        "`The RMSE is a valuable metric for assessing the performance of regression models and understanding the accuracy of their predictions. It helps in comparing models, identifying areas for improvement, and making informed decisions based on the prediction errors.`"
      ],
      "metadata": {
        "id": "Ut9GIv9edcnL"
      }
    },
    {
      "cell_type": "code",
      "source": [
        "def print_values(mae, rmse, rmse_scores, avg_rmse, std_rmse):\n",
        "    print(\"MAE:\", mae)\n",
        "    print(\"RMSE:\", rmse)\n",
        "    print(\"Cross-Validation RMSE Scores:\", rmse_scores)\n",
        "    print(\"Mean RMSE:\", avg_rmse)\n",
        "    print(\"Standard Deviation of RMSE:\", std_rmse)"
      ],
      "metadata": {
        "id": "8GrVdOPhgPcU"
      },
      "execution_count": null,
      "outputs": []
    },
    {
      "cell_type": "code",
      "source": [
        "X_train.shape"
      ],
      "metadata": {
        "colab": {
          "base_uri": "https://localhost:8080/"
        },
        "id": "TRvwN-togzna",
        "outputId": "69801eb6-5239-4459-8b32-5817c781b512"
      },
      "execution_count": null,
      "outputs": [
        {
          "output_type": "execute_result",
          "data": {
            "text/plain": [
              "(32197, 26)"
            ]
          },
          "metadata": {},
          "execution_count": 80
        }
      ]
    },
    {
      "cell_type": "markdown",
      "source": [
        "# Linear Regressor Model"
      ],
      "metadata": {
        "id": "xdwrMtulZVgd"
      }
    },
    {
      "cell_type": "code",
      "source": [
        "# Creating an instance of LinearRegression model\n",
        "model_1 = LinearRegression()\n",
        "\n",
        "# Fitting the model to the training data\n",
        "model_1.fit(X_train, y_train)\n",
        "\n",
        "# Evaluating the model and calculating various metrics\n",
        "mae, rmse, rmse_scores, avg_rmse, std_rmse = evaluate_model(model_1, X_train, y_train)\n",
        "\n",
        "# Printing the evaluation metrics\n",
        "print_values(mae, rmse, rmse_scores, avg_rmse, std_rmse)"
      ],
      "metadata": {
        "colab": {
          "base_uri": "https://localhost:8080/"
        },
        "id": "amUY5iRoXj3r",
        "outputId": "ea56d506-6bcd-42fb-ac7f-c46a7275fb4e"
      },
      "execution_count": null,
      "outputs": [
        {
          "output_type": "stream",
          "name": "stdout",
          "text": [
            "MAE: 541.4007543392661\n",
            "RMSE: 794.557902432963\n",
            "Cross-Validation RMSE Scores: [784.89901586 802.86355167 821.0631159  763.57066712 820.0310868\n",
            " 786.98672935 798.59279535 799.48417807 810.67266132 775.09149279]\n",
            "Mean RMSE: 796.3255294226831\n",
            "Standard Deviation of RMSE: 17.830167791260067\n"
          ]
        }
      ]
    },
    {
      "cell_type": "markdown",
      "source": [
        "**MAE (Mean Absolute Error):** *It measures the average absolute difference between the predicted and actual values. In this case, the MAE is approximately 541.40, indicating that, on average, the predicted diamond prices differ by around $541.40 from the actual prices.*\n",
        "\n",
        "\n",
        "---\n",
        "\n",
        "\n",
        "**RMSE (Root Mean Squared Error):** *It represents the square root of the average squared difference between the predicted and actual values. The RMSE value is approximately 794.56, indicating that, on average, the predicted diamond prices deviate by around $794.56 from the actual prices.*\n",
        "\n",
        "\n",
        "---\n",
        "\n",
        "\n",
        "**Cross-Validation RMSE Scores:** *These are the individual RMSE scores obtained during the cross-validation process. Each score represents the performance of the model on a different fold of the training data. The array of scores shows the variability in the model's performance across the folds.*\n",
        "\n",
        "\n",
        "---\n",
        "\n",
        "\n",
        "**Mean RMSE:** *It represents the mean of the cross-validation RMSE scores. In this case, the mean RMSE is approximately 796.33, which provides an overall assessment of the model's performance across all folds.*\n",
        "\n",
        "\n",
        "---\n",
        "\n",
        "**Standard Deviation of RMSE:** *It measures the variability or spread of the cross-validation RMSE scores around the mean. The standard deviation is approximately 17.83, indicating the degree of inconsistency or variability in the model's performance across the folds.*"
      ],
      "metadata": {
        "id": "4sFtWJLyakhv"
      }
    },
    {
      "cell_type": "code",
      "source": [
        "# Predicting the target variable using the trained model\n",
        "y_pred = model_1.predict(X_test)\n",
        "\n",
        "# Calculating and storing the RMSE (Root Mean Squared Error) between the predicted values and the actual target values\n",
        "rmse_.append(mean_squarederror(y_pred, y_test))\n",
        "\n",
        "# Calculating the RMSE between the predicted values and the actual target values\n",
        "mean_squarederror(y_pred, y_test)"
      ],
      "metadata": {
        "colab": {
          "base_uri": "https://localhost:8080/"
        },
        "id": "lqY9VFE9Xmrl",
        "outputId": "d50a2162-91aa-4fed-b865-95061d91c754"
      },
      "execution_count": null,
      "outputs": [
        {
          "output_type": "execute_result",
          "data": {
            "text/plain": [
              "1213.7067737068662"
            ]
          },
          "metadata": {},
          "execution_count": 76
        }
      ]
    },
    {
      "cell_type": "markdown",
      "source": [
        "`Based on this output, the RMSE between the predicted and actual values is approximately 1213.71. This value represents the average difference between the predicted and actual diamond prices, with higher values indicating larger deviations or errors in the predictions.`"
      ],
      "metadata": {
        "id": "cb2O9zA0b88o"
      }
    },
    {
      "cell_type": "markdown",
      "source": [
        "# Decision Tree Regressor Model"
      ],
      "metadata": {
        "id": "dJvBo8QchDko"
      }
    },
    {
      "cell_type": "code",
      "source": [
        "# Creating an instance of DecisionTreeRegressor  model\n",
        "model_2 = DecisionTreeRegressor()\n",
        "\n",
        "# Fitting the model to the training data\n",
        "model_2.fit(X_train, y_train)\n",
        "\n",
        "# Evaluating the model and calculating various metrics\n",
        "mae, rmse, rmse_scores, avg_rmse, std_rmse = evaluate_model(model_2, X_train, y_train)\n",
        "\n",
        "# Printing the evaluation metrics\n",
        "print_values(mae, rmse, rmse_scores, avg_rmse, std_rmse)"
      ],
      "metadata": {
        "colab": {
          "base_uri": "https://localhost:8080/"
        },
        "id": "r5YKPKaYhItT",
        "outputId": "02052d16-5532-41d2-9787-2ae6e6a8a533"
      },
      "execution_count": null,
      "outputs": [
        {
          "output_type": "stream",
          "name": "stdout",
          "text": [
            "MAE: 0.0\n",
            "RMSE: 0.0\n",
            "Cross-Validation RMSE Scores: [560.27481361 524.91421778 502.52492692 553.7496253  502.25373589\n",
            " 522.80297852 502.84328468 536.29445819 548.40047028 508.18055598]\n",
            "Mean RMSE: 526.223906713902\n",
            "Standard Deviation of RMSE: 21.28894121980884\n"
          ]
        }
      ]
    },
    {
      "cell_type": "markdown",
      "source": [
        "**MAE (Mean Absolute Error):** *It indicates the average absolute difference between the predicted and actual values. In this case, the MAE is 0.0, which means the model perfectly predicts the target variable.*\n",
        "\n",
        "\n",
        "---\n",
        "\n",
        "\n",
        "**RMSE (Root Mean Squared Error):** *It measures the square root of the average squared difference between the predicted and actual values. Again, the RMSE is 0.0, indicating perfect predictions.*\n",
        "\n",
        "\n",
        "---\n",
        "\n",
        "\n",
        "**Cross-Validation RMSE Scores:** *These are the RMSE scores obtained through cross-validation. Each score represents the performance of the model on a different fold of the training data. The array shows the RMSE scores for each fold.*\n",
        "\n",
        "\n",
        "---\n",
        "\n",
        "\n",
        "**Mean RMSE:** *It is the average of the cross-validation RMSE scores. In this case, the mean RMSE is 526.223906713902, which provides an overall measure of the model's performance.*\n",
        "\n",
        "\n",
        "---\n",
        "\n",
        "\n",
        "**Standard Deviation of RMSE:** *It quantifies the variability or spread of the RMSE scores across the cross-validation folds. A lower standard deviation indicates more consistent performance. Here, the standard deviation of RMSE is 21.28894121980884.*"
      ],
      "metadata": {
        "id": "1uZJmVfGisBQ"
      }
    },
    {
      "cell_type": "code",
      "source": [
        "# Predicting the target variable using the trained model\n",
        "y_pred = model_2.predict(X_test)\n",
        "\n",
        "# Calculating and storing the RMSE (Root Mean Squared Error) between the predicted values and the actual target values\n",
        "rmse_.append(mean_squarederror(y_pred, y_test))\n",
        "\n",
        "# Calculating the RMSE between the predicted values and the actual target values\n",
        "mean_squarederror(y_pred, y_test)"
      ],
      "metadata": {
        "colab": {
          "base_uri": "https://localhost:8080/"
        },
        "id": "BTlxB0gThwMW",
        "outputId": "729dd60d-d212-43e4-8d34-ae964418a16a"
      },
      "execution_count": null,
      "outputs": [
        {
          "output_type": "execute_result",
          "data": {
            "text/plain": [
              "1275.250564159976"
            ]
          },
          "metadata": {},
          "execution_count": 84
        }
      ]
    },
    {
      "cell_type": "markdown",
      "source": [
        "`The RMSE of 1275.250564159976 indicates the average magnitude of the prediction error. A higher RMSE value suggests that the model's predictions have a larger average deviation from the actual values.`"
      ],
      "metadata": {
        "id": "UysGLwGNjvZw"
      }
    },
    {
      "cell_type": "markdown",
      "source": [
        "# Random Forest Regressor Model"
      ],
      "metadata": {
        "id": "3xLiTlG-kDtO"
      }
    },
    {
      "cell_type": "code",
      "source": [
        "# Creating an instance of RandomForestRegressor  model\n",
        "model_3 = RandomForestRegressor()\n",
        "\n",
        "# Fitting the model to the training data\n",
        "model_3.fit(X_train, y_train)\n",
        "\n",
        "# Evaluating the model and calculating various metrics\n",
        "mae, rmse, rmse_scores, avg_rmse, std_rmse = evaluate_model(model_3, X_train, y_train)\n",
        "\n",
        "# Printing the evaluation metrics\n",
        "print_values(mae, rmse, rmse_scores, avg_rmse, std_rmse)"
      ],
      "metadata": {
        "colab": {
          "base_uri": "https://localhost:8080/"
        },
        "id": "CBZ_GvJtkRpz",
        "outputId": "3de9c5f0-827d-408b-f555-e2b11197490a"
      },
      "execution_count": null,
      "outputs": [
        {
          "output_type": "stream",
          "name": "stdout",
          "text": [
            "MAE: 81.9505783147498\n",
            "RMSE: 144.05683694353885\n",
            "Cross-Validation RMSE Scores: [408.60454291 387.06456262 393.71143249 389.51896398 368.41726492\n",
            " 368.87574281 371.66194149 419.79291374 391.68964748 383.68857207]\n",
            "Mean RMSE: 388.3025584505657\n",
            "Standard Deviation of RMSE: 15.870030508618356\n"
          ]
        }
      ]
    },
    {
      "cell_type": "markdown",
      "source": [
        "**MAE (Mean Absolute Error):** *The MAE value of 81.9505 indicates, on average, the model's predictions deviate from the actual target values by approximately 81.9505 units.*\n",
        "\n",
        "\n",
        "---\n",
        "\n",
        "\n",
        "**RMSE (Root Mean Squared Error):** *The RMSE value of 144.0568 represents the average deviation between the predicted values and the actual target values. It is a measure of the model's overall performance, with a lower value indicating better accuracy.*\n",
        "\n",
        "\n",
        "---\n",
        "\n",
        "\n",
        "**Cross-Validation RMSE Scores:** *The list of RMSE scores obtained from cross-validation represents the performance of the model on each fold of the cross-validation process. These scores, including values such as 408.6045, 387.0646, 393.7114, etc., show the deviation between predicted and actual values for each fold.*\n",
        "\n",
        "\n",
        "---\n",
        "\n",
        "\n",
        "**Mean RMSE:** *The mean RMSE value of 388.3026 is the average of the cross-validation RMSE scores. It provides an overall measure of the model's performance across multiple folds.*\n",
        "\n",
        "\n",
        "---\n",
        "\n",
        "\n",
        "**Standard Deviation of RMSE:** *The standard deviation of the RMSE scores (15.8700) indicates the variability or spread of the scores. A smaller value suggests that the model's performance is consistent across different folds.*"
      ],
      "metadata": {
        "id": "3JTmK8ZCk9OD"
      }
    },
    {
      "cell_type": "code",
      "source": [
        "# Predicting the target variable using the trained model\n",
        "y_pred = model_3.predict(X_test)\n",
        "\n",
        "# Calculating and storing the RMSE (Root Mean Squared Error) between the predicted values and the actual target values\n",
        "rmse_.append(mean_squarederror(y_pred, y_test))\n",
        "\n",
        "# Calculating the RMSE between the predicted values and the actual target values\n",
        "mean_squarederror(y_pred, y_test)"
      ],
      "metadata": {
        "colab": {
          "base_uri": "https://localhost:8080/"
        },
        "id": "YnGXbwjNkaGZ",
        "outputId": "a053c6f8-f7d0-4021-d1c2-8dc06cd1c706"
      },
      "execution_count": null,
      "outputs": [
        {
          "output_type": "execute_result",
          "data": {
            "text/plain": [
              "1208.5026469004063"
            ]
          },
          "metadata": {},
          "execution_count": 87
        }
      ]
    },
    {
      "cell_type": "markdown",
      "source": [
        "`The calculated RMSE between the predicted values and the actual target values is 1208.5026. This value represents the average deviation between the predicted diamond prices and the actual prices in the test dataset. A lower RMSE indicates better accuracy of the model's predictions.`"
      ],
      "metadata": {
        "id": "pf6x86RBm2iD"
      }
    },
    {
      "cell_type": "markdown",
      "source": [
        "# Random Forest Regressor Hyperparameter tuning"
      ],
      "metadata": {
        "id": "AbKwmbd0pdRB"
      }
    },
    {
      "cell_type": "code",
      "source": [
        "model_4=RandomForestRegressor()\n",
        "# Define the parameter distribution for Randomized Search\n",
        "param_distribution = {\n",
        "    'n_estimators': np.arange(100, 1000, 100),\n",
        "    'max_depth': [None] + list(np.arange(5, 20, 5)),\n",
        "    'min_samples_split': np.arange(2, 11, 2),\n",
        "    'min_samples_leaf': np.arange(1, 6, 1),\n",
        "    'max_features': ['auto', 'sqrt']\n",
        "}\n",
        "# Perform Randomized Search\n",
        "random_search = RandomizedSearchCV(model_4, param_distributions=param_distribution, n_iter=10, cv=5, scoring='neg_mean_squared_error')\n",
        "\n",
        "# Evaluating the model and calculating various metrics\n",
        "mae, rmse, rmse_scores, avg_rmse, std_rmse = evaluate_model(model_4, X_train, y_train)\n",
        "\n",
        "# Printing the evaluation metrics\n",
        "print_values(mae, rmse, rmse_scores, avg_rmse, std_rmse)"
      ],
      "metadata": {
        "colab": {
          "base_uri": "https://localhost:8080/"
        },
        "id": "vQYTEM-dphW0",
        "outputId": "49eefb77-202b-4e3b-afad-6ee3b96bedb8"
      },
      "execution_count": null,
      "outputs": [
        {
          "output_type": "stream",
          "name": "stdout",
          "text": [
            "MAE: 81.8850125788117\n",
            "RMSE: 144.7468842669653\n",
            "Cross-Validation RMSE Scores: [406.44759397 392.0720964  391.52634859 386.23417213 369.96859344\n",
            " 371.20971376 371.13828099 417.08862122 391.44690964 391.5279832 ]\n",
            "Mean RMSE: 388.86603133366697\n",
            "Standard Deviation of RMSE: 14.583509559505584\n"
          ]
        }
      ]
    },
    {
      "cell_type": "markdown",
      "source": [
        "**MAE (Mean Absolute Error):** *It measures the average absolute difference between the predicted and actual values. In this case, the MAE is 81.885.*\n",
        "\n",
        "\n",
        "---\n",
        "\n",
        "\n",
        "**RMSE (Root Mean Squared Error):** *It measures the square root of the average squared difference between the predicted and actual values. The RMSE is 144.747, indicating the average prediction error of the model.*\n",
        "\n",
        "\n",
        "---\n",
        "\n",
        "\n",
        "**Cross-Validation RMSE Scores:** *These are the RMSE scores obtained through cross-validation, where the dataset is divided into multiple subsets (folds) for training and evaluation. The provided scores are [406.448, 392.072, 391.526, 386.234, 369.969, 371.210, 371.138, 417.089, 391.447, 391.528]. These scores give an idea of the model's performance across different subsets of the data.*\n",
        "\n",
        "\n",
        "---\n",
        "\n",
        "\n",
        "**Mean RMSE:** *It represents the average of the cross-validation RMSE scores. The mean RMSE is 388.866. *\n",
        "\n",
        "\n",
        "---\n",
        "\n",
        "\n",
        "**Standard Deviation of RMSE:** *It indicates the variability or spread of the RMSE scores. A lower standard deviation suggests more consistent performance. The standard deviation of RMSE is 14.584.*"
      ],
      "metadata": {
        "id": "WBAdYJQtyY82"
      }
    },
    {
      "cell_type": "code",
      "source": [
        "# Predicting the target variable using the trained model\n",
        "y_pred = model_4.predict(X_test)\n",
        "\n",
        "# Calculating and storing the RMSE (Root Mean Squared Error) between the predicted values and the actual target values\n",
        "rmse_.append(mean_squarederror(y_pred, y_test))\n",
        "\n",
        "# Calculating the RMSE between the predicted values and the actual target values\n",
        "mean_squarederror(y_pred, y_test)"
      ],
      "metadata": {
        "id": "QjijZX0DpmQf",
        "colab": {
          "base_uri": "https://localhost:8080/"
        },
        "outputId": "c7fba649-1cfd-491f-860f-616b7cf81cba"
      },
      "execution_count": null,
      "outputs": [
        {
          "output_type": "execute_result",
          "data": {
            "text/plain": [
              "1207.8012253615625"
            ]
          },
          "metadata": {},
          "execution_count": 95
        }
      ]
    },
    {
      "cell_type": "markdown",
      "source": [
        "`The RMSE of 1207.8012253615625 suggests that, on average, the predicted values are approximately 1207.80 units away from the actual target values. This indicates the level of error or deviation in the model's predictions.`"
      ],
      "metadata": {
        "id": "F4wEfMDBz5Ut"
      }
    },
    {
      "cell_type": "code",
      "source": [
        "# Creating an instance of KNeighborsRegressor model\n",
        "model_test = RandomForestRegressor(criterion= 'squared_error',max_depth= 8,max_features= 6,n_estimators= 500)\n",
        "\n",
        "# Fitting the model to the training data\n",
        "model_test.fit(X_train,y_train)\n",
        "\n",
        "# Evaluating the model and calculating various metrics\n",
        "mae, rmse, rmse_scores, avg_rmse, std_rmse = evaluate_model(model_5, X_train, y_train)\n",
        "\n",
        "# Printing the evaluation metrics\n",
        "print_values(mae, rmse, rmse_scores, avg_rmse, std_rmse)"
      ],
      "metadata": {
        "colab": {
          "base_uri": "https://localhost:8080/"
        },
        "id": "tJOK47ta8WYE",
        "outputId": "4e211480-0d30-4d57-abc1-26cc441038c1"
      },
      "execution_count": null,
      "outputs": [
        {
          "output_type": "stream",
          "name": "stdout",
          "text": [
            "MAE: 1819.031617852595\n",
            "RMSE: 2352.30303903717\n",
            "Cross-Validation RMSE Scores: [2703.83012497 2777.08544343 2713.6581184  2783.62563438 2778.200739\n",
            " 2824.04990273 2765.72621625 2730.43339377 2709.81199705 2776.41402942]\n",
            "Mean RMSE: 2756.2835599400764\n",
            "Standard Deviation of RMSE: 37.607812032299165\n"
          ]
        }
      ]
    },
    {
      "cell_type": "code",
      "source": [
        "# Predicting the target variable using the trained model\n",
        "y_pred = model_test.predict(X_test)\n",
        "\n",
        "# Calculating and storing the RMSE (Root Mean Squared Error) between the predicted values and the actual target values\n",
        "rmse_.append(mean_squarederror(y_pred, y_test))\n",
        "\n",
        "# Calculating the RMSE between the predicted values and the actual target values\n",
        "mean_squarederror(y_pred, y_test)"
      ],
      "metadata": {
        "id": "FDVBif2D872c",
        "outputId": "b78e3499-7257-4e55-f447-ea71ea241f09",
        "colab": {
          "base_uri": "https://localhost:8080/"
        }
      },
      "execution_count": null,
      "outputs": [
        {
          "output_type": "execute_result",
          "data": {
            "text/plain": [
              "1492.531465995869"
            ]
          },
          "metadata": {},
          "execution_count": 114
        }
      ]
    },
    {
      "cell_type": "markdown",
      "source": [
        "# KNeighbors Regressor Model"
      ],
      "metadata": {
        "id": "RPKwMN7z3j4T"
      }
    },
    {
      "cell_type": "code",
      "source": [
        "# Creating an instance of KNeighborsRegressor model\n",
        "model_5 = KNeighborsRegressor(n_neighbors = 8)\n",
        "# Fitting the model to the training data\n",
        "model_5.fit(X_train, y_train)\n",
        "\n",
        "# Evaluating the model and calculating various metrics\n",
        "mae, rmse, rmse_scores, avg_rmse, std_rmse = evaluate_model(model_5, X_train, y_train)\n",
        "\n",
        "# Printing the evaluation metrics\n",
        "print_values(mae, rmse, rmse_scores, avg_rmse, std_rmse)"
      ],
      "metadata": {
        "id": "yUq6Yv2p3vqZ",
        "colab": {
          "base_uri": "https://localhost:8080/"
        },
        "outputId": "8d622110-e16b-4f85-b3b0-f81dc5a5c222"
      },
      "execution_count": null,
      "outputs": [
        {
          "output_type": "stream",
          "name": "stdout",
          "text": [
            "MAE: 1819.031617852595\n",
            "RMSE: 2352.30303903717\n",
            "Cross-Validation RMSE Scores: [2703.83012497 2777.08544343 2713.6581184  2783.62563438 2778.200739\n",
            " 2824.04990273 2765.72621625 2730.43339377 2709.81199705 2776.41402942]\n",
            "Mean RMSE: 2756.2835599400764\n",
            "Standard Deviation of RMSE: 37.607812032299165\n"
          ]
        }
      ]
    },
    {
      "cell_type": "markdown",
      "source": [
        "\n",
        "**MAE (Mean Absolute Error):**  *The average absolute difference between the predicted values and the actual values. In this case, the MAE is 1819.031617852595.*\n",
        "\n",
        "---\n",
        "\n",
        "**RMSE (Root Mean Squared Error):**  *The square root of the average squared difference between the predicted values and the actual values. In this case, the RMSE is 2352.30303903717.*\n",
        "\n",
        "\n",
        "---\n",
        "\n",
        "\n",
        "**Cross-Validation RMSE Scores:** *This is a list of RMSE scores obtained from cross-validation. Each score represents the performance of the model on a particular fold of the data during cross-validation. The list contains 10 scores: [2703.83012497, 2777.08544343, 2713.6581184, 2783.62563438, 2778.200739, 2824.04990273, 2765.72621625, 2730.43339377, 2709.81199705, 2776.41402942].*\n",
        "\n",
        "---\n",
        "\n",
        "\n",
        "**Mean RMSE:** *The average RMSE score from the cross-validation. In this case, the mean RMSE is 2756.2835599400764.\n",
        "\n",
        "---\n",
        "\n",
        "\n",
        "**Standard Deviation of RMSE:** *The measure of variation or dispersion of the RMSE scores. It indicates how much the RMSE scores deviate from the mean. In this case, the standard deviation of RMSE is 37.607812032299165."
      ],
      "metadata": {
        "id": "p2XtA_Nd5Ze8"
      }
    },
    {
      "cell_type": "code",
      "source": [
        "# Predicting the target variable using the trained model\n",
        "y_pred = model_5.predict(X_test)\n",
        "\n",
        "# Calculating and storing the RMSE (Root Mean Squared Error) between the predicted values and the actual target values\n",
        "rmse_.append(mean_squarederror(y_pred, y_test))\n",
        "\n",
        "# Calculating the RMSE between the predicted values and the actual target values\n",
        "mean_squarederror(y_pred, y_test)"
      ],
      "metadata": {
        "colab": {
          "base_uri": "https://localhost:8080/"
        },
        "id": "2uhNrDNQ5CJU",
        "outputId": "04447008-5659-405b-a803-5b07c5605529"
      },
      "execution_count": null,
      "outputs": [
        {
          "output_type": "execute_result",
          "data": {
            "text/plain": [
              "3902.0863711968013"
            ]
          },
          "metadata": {},
          "execution_count": 112
        }
      ]
    },
    {
      "cell_type": "markdown",
      "source": [
        "`The RMSE is 3902.0863711968013. The RMSE is a measure of the average difference between the predicted values and the actual values, where a lower value indicates better accuracy.`"
      ],
      "metadata": {
        "id": "Vpt9sRph5adr"
      }
    },
    {
      "cell_type": "markdown",
      "source": [
        "# XGB Regressor Model"
      ],
      "metadata": {
        "id": "FtP9Nx0k9hYZ"
      }
    },
    {
      "cell_type": "code",
      "source": [
        "# Creating an instance of XGBRegressor model\n",
        "model_6 = XGBRegressor()\n",
        "# Fitting the model to the training data\n",
        "model_test.fit(X_train,y_train)\n",
        "\n",
        "# Evaluating the model and calculating various metrics\n",
        "mae, rmse, rmse_scores, avg_rmse, std_rmse = evaluate_model(model_6, X_train, y_train)\n",
        "\n",
        "# Printing the evaluation metrics\n",
        "print_values(mae, rmse, rmse_scores, avg_rmse, std_rmse)"
      ],
      "metadata": {
        "colab": {
          "base_uri": "https://localhost:8080/"
        },
        "id": "TVmMyg2Y9_st",
        "outputId": "e4c95183-dd48-411c-ff99-9c1921f08354"
      },
      "execution_count": null,
      "outputs": [
        {
          "output_type": "stream",
          "name": "stdout",
          "text": [
            "MAE: 171.11795234176637\n",
            "RMSE: 269.03938110868876\n",
            "Cross-Validation RMSE Scores: [402.94520939 391.79305704 387.39840502 393.46196013 382.13777782\n",
            " 382.11012246 375.9629195  412.16509061 393.79524891 387.07317684]\n",
            "Mean RMSE: 390.8842967713357\n",
            "Standard Deviation of RMSE: 10.085102579889899\n"
          ]
        }
      ]
    },
    {
      "cell_type": "markdown",
      "source": [
        "\n",
        "**MAE (Mean Absolute Error):** *It measures the average absolute difference between the predicted values and the actual values. In this case, the MAE value of 171.11795234176637 indicates that, on average, the model's predictions deviate from the actual values by approximately 171.12 units.*\n",
        "\n",
        "---\n",
        "\n",
        "\n",
        "**RMSE (Root Mean Squared Error):** *It is another measure of the average difference between the predicted values and the actual values, but it gives more weight to larger errors. The RMSE value of 269.03938110868876 indicates that, on average, the model's predictions deviate from the actual values by approximately 269.04 units. It is a commonly used metric to assess the overall accuracy of a regression model.*\n",
        "\n",
        "---\n",
        "\n",
        "\n",
        "**Cross-Validation RMSE Scores:** *These are the RMSE scores calculated for each fold in the cross-validation process. The values [402.94520939, 391.79305704, 387.39840502, 393.46196013, 382.13777782, 382.11012246, 375.9629195, 412.16509061, 393.79524891, 387.07317684] represent the RMSE for each fold, indicating the variation in performance across different subsets of the data.*\n",
        "\n",
        "---\n",
        "\n",
        "\n",
        "**Mean RMSE:** *It is the average of the cross-validation RMSE scores. The mean RMSE value of 390.8842967713357 provides an overall measure of the model's performance across all folds.*\n",
        "\n",
        "---\n",
        "\n",
        "\n",
        "**Standard Deviation of RMSE:** *It quantifies the variability or spread of the cross-validation RMSE scores. The standard deviation value of 10.085102579889899 indicates the average amount of deviation from the mean RMSE. A lower standard deviation suggests more consistent performance across folds.*"
      ],
      "metadata": {
        "id": "9H0YhBks-5sL"
      }
    },
    {
      "cell_type": "code",
      "source": [
        "# Predicting the target variable using the trained model\n",
        "y_pred = model_6.predict(X_test)\n",
        "\n",
        "# Calculating and storing the RMSE (Root Mean Squared Error) between the predicted values and the actual target values\n",
        "rmse_.append(mean_squarederror(y_pred, y_test))\n",
        "\n",
        "# Calculating the RMSE between the predicted values and the actual target values\n",
        "mean_squarederror(y_pred, y_test)"
      ],
      "metadata": {
        "colab": {
          "base_uri": "https://localhost:8080/"
        },
        "id": "O554hRQt-0jS",
        "outputId": "4276bb5a-7f48-4457-baf5-77b600f73b84"
      },
      "execution_count": null,
      "outputs": [
        {
          "output_type": "execute_result",
          "data": {
            "text/plain": [
              "1133.0753141019209"
            ]
          },
          "metadata": {},
          "execution_count": 119
        }
      ]
    },
    {
      "cell_type": "markdown",
      "source": [
        "\n",
        "`The RMSE value of 1133.0753141019209 indicates that, on average, the model's predictions deviate from the actual values by approximately 1133.08 units.\n",
        "A lower RMSE value is desirable as it indicates better accuracy and a closer fit between the predicted and actual values.`"
      ],
      "metadata": {
        "id": "ZUKUGnP_BW0b"
      }
    },
    {
      "cell_type": "code",
      "source": [
        "# Creating an instance of XGBRegressor model\n",
        "model_7=XGBRegressor(colsample_bytree= 0.7,learning_rate= 0.03,max_depth= 7,min_child_weight= 5,n_estimators= 500,nthread= 1,objective= 'reg:squarederror',subsample= 0.7)\n",
        "\n",
        "# Fitting the model to the training data\n",
        "model_test.fit(X_train,y_train)\n",
        "\n",
        "# Evaluating the model and calculating various metrics\n",
        "mae, rmse, rmse_scores, avg_rmse, std_rmse = evaluate_model(model_7, X_train, y_train)\n",
        "\n",
        "# Printing the evaluation metrics\n",
        "print_values(mae, rmse, rmse_scores, avg_rmse, std_rmse)"
      ],
      "metadata": {
        "colab": {
          "base_uri": "https://localhost:8080/"
        },
        "id": "ep3SxJavCGti",
        "outputId": "ff616198-8695-465c-aca4-9b40095d85ae"
      },
      "execution_count": null,
      "outputs": [
        {
          "output_type": "stream",
          "name": "stdout",
          "text": [
            "MAE: 179.68351721103826\n",
            "RMSE: 290.90885867649433\n",
            "Cross-Validation RMSE Scores: [389.28135251 376.19496245 370.09938041 376.76290837 360.31264318\n",
            " 365.84723243 355.27806342 398.37545948 378.07345985 370.07212269]\n",
            "Mean RMSE: 374.02975847941354\n",
            "Standard Deviation of RMSE: 12.213450863950811\n"
          ]
        }
      ]
    },
    {
      "cell_type": "markdown",
      "source": [],
      "metadata": {
        "id": "wXfHpwh2Dvru"
      }
    },
    {
      "cell_type": "code",
      "source": [
        "# Predicting the target variable using the trained model\n",
        "y_pred = model_7.predict(X_test)\n",
        "\n",
        "# Calculating and storing the RMSE (Root Mean Squared Error) between the predicted values and the actual target values\n",
        "rmse_.append(mean_squarederror(y_pred, y_test))\n",
        "\n",
        "# Calculating the RMSE between the predicted values and the actual target values\n",
        "mean_squarederror(y_pred, y_test)"
      ],
      "metadata": {
        "colab": {
          "base_uri": "https://localhost:8080/"
        },
        "id": "HeBPwehSCI2u",
        "outputId": "4dc0f1dc-fdae-4b16-af9e-c29dfe5a4e67"
      },
      "execution_count": null,
      "outputs": [
        {
          "output_type": "execute_result",
          "data": {
            "text/plain": [
              "1142.9584437006445"
            ]
          },
          "metadata": {},
          "execution_count": 121
        }
      ]
    },
    {
      "cell_type": "markdown",
      "source": [],
      "metadata": {
        "id": "8j0jJY81DvTN"
      }
    },
    {
      "cell_type": "code",
      "source": [
        "# Creating an instance of XGBRegressor model\n",
        "model_8=XGBRegressor(colsample_bytree= 0.7,learning_rate= 0.01,max_depth= 7,min_child_weight= 5,n_estimators= 500,nthread= 1,objective= 'reg:squarederror',subsample= 0.7)\n",
        "\n",
        "# Fitting the model to the training data\n",
        "model_test.fit(X_train,y_train)\n",
        "\n",
        "# Evaluating the model and calculating various metrics\n",
        "mae, rmse, rmse_scores, avg_rmse, std_rmse = evaluate_model(model_8, X_train, y_train)\n",
        "\n",
        "# Printing the evaluation metrics\n",
        "print_values(mae, rmse, rmse_scores, avg_rmse, std_rmse)"
      ],
      "metadata": {
        "colab": {
          "base_uri": "https://localhost:8080/"
        },
        "id": "EddNhRH2Dcuy",
        "outputId": "ba27b5bf-a428-4ff5-8fb4-c8765517a0de"
      },
      "execution_count": null,
      "outputs": [
        {
          "output_type": "stream",
          "name": "stdout",
          "text": [
            "MAE: 216.6984019429505\n",
            "RMSE: 363.47530584937476\n",
            "Cross-Validation RMSE Scores: [416.84657019 409.1009423  401.51562549 399.12637616 385.5586209\n",
            " 396.9864797  377.15938497 430.08514874 406.30309624 404.54207306]\n",
            "Mean RMSE: 402.7224317749416\n",
            "Standard Deviation of RMSE: 14.143486571556746\n"
          ]
        }
      ]
    },
    {
      "cell_type": "markdown",
      "source": [],
      "metadata": {
        "id": "QaxegVMPDxoW"
      }
    },
    {
      "cell_type": "code",
      "source": [
        "# Predicting the target variable using the trained model\n",
        "y_pred = model_8.predict(X_test)\n",
        "\n",
        "# Calculating and storing the RMSE (Root Mean Squared Error) between the predicted values and the actual target values\n",
        "rmse_.append(mean_squarederror(y_pred, y_test))\n",
        "\n",
        "# Calculating the RMSE between the predicted values and the actual target values\n",
        "mean_squarederror(y_pred, y_test)"
      ],
      "metadata": {
        "colab": {
          "base_uri": "https://localhost:8080/"
        },
        "id": "s-HoApFQDkRc",
        "outputId": "febfd798-ecc5-4090-bf1a-3d8927c0f945"
      },
      "execution_count": null,
      "outputs": [
        {
          "output_type": "execute_result",
          "data": {
            "text/plain": [
              "1240.7125024079858"
            ]
          },
          "metadata": {},
          "execution_count": 126
        }
      ]
    },
    {
      "cell_type": "markdown",
      "source": [],
      "metadata": {
        "id": "G9_qZFQbDy_K"
      }
    },
    {
      "cell_type": "code",
      "source": [
        "# Creating an instance of XGBRegressor model\n",
        "model_9=XGBRegressor(learning_rate=0.05, max_depth=7, n_estimators=500, nthread=1,\n",
        "             objective='reg:squarederror')\n",
        "\n",
        "# Fitting the model to the training data\n",
        "model_test.fit(X_train,y_train)\n",
        "\n",
        "# Evaluating the model and calculating various metrics\n",
        "mae, rmse, rmse_scores, avg_rmse, std_rmse = evaluate_model(model_9, X_train, y_train)\n",
        "\n",
        "# Printing the evaluation metrics\n",
        "print_values(mae, rmse, rmse_scores, avg_rmse, std_rmse)"
      ],
      "metadata": {
        "colab": {
          "base_uri": "https://localhost:8080/"
        },
        "id": "DLU6dn5VDoC9",
        "outputId": "cf350817-24c9-45ca-a3c1-b6672734728d"
      },
      "execution_count": null,
      "outputs": [
        {
          "output_type": "stream",
          "name": "stdout",
          "text": [
            "MAE: 153.83290587334386\n",
            "RMSE: 243.5859461676844\n",
            "Cross-Validation RMSE Scores: [388.44669732 381.79916358 374.38763389 383.57995075 359.26540803\n",
            " 363.96254918 357.88123575 405.42612846 376.49783699 376.81443427]\n",
            "Mean RMSE: 376.80610382394127\n",
            "Standard Deviation of RMSE: 13.646070885197304\n"
          ]
        }
      ]
    },
    {
      "cell_type": "markdown",
      "source": [],
      "metadata": {
        "id": "vt_AyqNuD0VV"
      }
    },
    {
      "cell_type": "code",
      "source": [
        "# Predicting the target variable using the trained model\n",
        "y_pred = model_9.predict(X_test)\n",
        "\n",
        "# Calculating and storing the RMSE (Root Mean Squared Error) between the predicted values and the actual target values\n",
        "rmse_.append(mean_squarederror(y_pred, y_test))\n",
        "\n",
        "# Calculating the RMSE between the predicted values and the actual target values\n",
        "mean_squarederror(y_pred, y_test)"
      ],
      "metadata": {
        "colab": {
          "base_uri": "https://localhost:8080/"
        },
        "id": "mdAQVF6ZDsQZ",
        "outputId": "19385cbb-2b60-4d78-98b2-31f252b3f2bc"
      },
      "execution_count": null,
      "outputs": [
        {
          "data": {
            "text/plain": [
              "1140.9780066865646"
            ]
          },
          "execution_count": 125,
          "metadata": {},
          "output_type": "execute_result"
        },
        {
          "output_type": "execute_result",
          "data": {
            "text/plain": [
              "1140.9780066865646"
            ]
          },
          "metadata": {},
          "execution_count": 125
        }
      ]
    },
    {
      "cell_type": "markdown",
      "source": [],
      "metadata": {
        "id": "G3sunB3ZD0v9"
      }
    }
  ]
}